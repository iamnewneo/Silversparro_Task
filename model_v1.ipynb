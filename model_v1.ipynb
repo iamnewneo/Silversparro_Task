{
 "cells": [
  {
   "cell_type": "code",
   "execution_count": 1,
   "metadata": {
    "collapsed": true
   },
   "outputs": [],
   "source": [
    "import pandas as pd\n",
    "import matplotlib.pyplot as plt\n",
    "import numpy as np\n",
    "import seaborn as sns"
   ]
  },
  {
   "cell_type": "code",
   "execution_count": 2,
   "metadata": {
    "collapsed": true
   },
   "outputs": [],
   "source": [
    "%matplotlib inline\n",
    "import warnings\n",
    "warnings.filterwarnings(\"ignore\")"
   ]
  },
  {
   "cell_type": "code",
   "execution_count": 3,
   "metadata": {
    "collapsed": true
   },
   "outputs": [],
   "source": [
    "columns = [\"Image_Id\",\"gt_total\", \"gt_date\",\"gt_time\", \"pred_total\", \"pred_date\", \"pred_time\", \"conf_total\", \"conf_time\",\"conf_date\"]"
   ]
  },
  {
   "cell_type": "code",
   "execution_count": 4,
   "metadata": {
    "collapsed": false
   },
   "outputs": [],
   "source": [
    "df = pd.read_csv(\"data/Assigment 2 - Train.txt\", sep=\"|\", names=columns)\n",
    "test = pd.read_csv(\"data/Assignment 2 - Test.txt\", sep=\"|\", names=columns)"
   ]
  },
  {
   "cell_type": "code",
   "execution_count": 5,
   "metadata": {
    "collapsed": false
   },
   "outputs": [
    {
     "data": {
      "text/html": [
       "<div>\n",
       "<table border=\"1\" class=\"dataframe\">\n",
       "  <thead>\n",
       "    <tr style=\"text-align: right;\">\n",
       "      <th></th>\n",
       "      <th>Image_Id</th>\n",
       "      <th>gt_total</th>\n",
       "      <th>gt_date</th>\n",
       "      <th>gt_time</th>\n",
       "      <th>pred_total</th>\n",
       "      <th>pred_date</th>\n",
       "      <th>pred_time</th>\n",
       "      <th>conf_total</th>\n",
       "      <th>conf_time</th>\n",
       "      <th>conf_date</th>\n",
       "    </tr>\n",
       "  </thead>\n",
       "  <tbody>\n",
       "    <tr>\n",
       "      <th>0</th>\n",
       "      <td>1</td>\n",
       "      <td>160</td>\n",
       "      <td>2016-09-11</td>\n",
       "      <td>13:52:00</td>\n",
       "      <td>160</td>\n",
       "      <td>2016-03-11</td>\n",
       "      <td>13:52:00</td>\n",
       "      <td>-0.001974</td>\n",
       "      <td>-1.180410</td>\n",
       "      <td>-0.008496</td>\n",
       "    </tr>\n",
       "    <tr>\n",
       "      <th>1</th>\n",
       "      <td>3</td>\n",
       "      <td>195</td>\n",
       "      <td>2016-09-23</td>\n",
       "      <td>18:52:00</td>\n",
       "      <td>195</td>\n",
       "      <td>2016-09-23</td>\n",
       "      <td>18:52:00</td>\n",
       "      <td>-0.011053</td>\n",
       "      <td>-0.864236</td>\n",
       "      <td>-0.018932</td>\n",
       "    </tr>\n",
       "    <tr>\n",
       "      <th>2</th>\n",
       "      <td>4</td>\n",
       "      <td>145</td>\n",
       "      <td>2016-10-02</td>\n",
       "      <td>15:58:00</td>\n",
       "      <td>145</td>\n",
       "      <td>2017-10-18</td>\n",
       "      <td>15:58:00</td>\n",
       "      <td>-0.002920</td>\n",
       "      <td>-2.266910</td>\n",
       "      <td>-0.978772</td>\n",
       "    </tr>\n",
       "    <tr>\n",
       "      <th>3</th>\n",
       "      <td>4</td>\n",
       "      <td>243</td>\n",
       "      <td>2016-09-26</td>\n",
       "      <td>18:25:00</td>\n",
       "      <td>243</td>\n",
       "      <td>2017-09-26</td>\n",
       "      <td>18:25:00</td>\n",
       "      <td>-0.075094</td>\n",
       "      <td>-0.810062</td>\n",
       "      <td>-0.123047</td>\n",
       "    </tr>\n",
       "    <tr>\n",
       "      <th>4</th>\n",
       "      <td>6</td>\n",
       "      <td>71</td>\n",
       "      <td>2016-09-19</td>\n",
       "      <td>13:47:00</td>\n",
       "      <td>71</td>\n",
       "      <td>2016-08-19</td>\n",
       "      <td>13:47:00</td>\n",
       "      <td>-0.014107</td>\n",
       "      <td>-0.664796</td>\n",
       "      <td>-0.003986</td>\n",
       "    </tr>\n",
       "  </tbody>\n",
       "</table>\n",
       "</div>"
      ],
      "text/plain": [
       "   Image_Id  gt_total     gt_date   gt_time  pred_total   pred_date pred_time  \\\n",
       "0         1       160  2016-09-11  13:52:00         160  2016-03-11  13:52:00   \n",
       "1         3       195  2016-09-23  18:52:00         195  2016-09-23  18:52:00   \n",
       "2         4       145  2016-10-02  15:58:00         145  2017-10-18  15:58:00   \n",
       "3         4       243  2016-09-26  18:25:00         243  2017-09-26  18:25:00   \n",
       "4         6        71  2016-09-19  13:47:00          71  2016-08-19  13:47:00   \n",
       "\n",
       "   conf_total  conf_time  conf_date  \n",
       "0   -0.001974  -1.180410  -0.008496  \n",
       "1   -0.011053  -0.864236  -0.018932  \n",
       "2   -0.002920  -2.266910  -0.978772  \n",
       "3   -0.075094  -0.810062  -0.123047  \n",
       "4   -0.014107  -0.664796  -0.003986  "
      ]
     },
     "execution_count": 5,
     "metadata": {},
     "output_type": "execute_result"
    }
   ],
   "source": [
    "df.head()"
   ]
  },
  {
   "cell_type": "code",
   "execution_count": 6,
   "metadata": {
    "collapsed": false
   },
   "outputs": [
    {
     "data": {
      "text/plain": [
       "Image_Id      0\n",
       "gt_total      0\n",
       "gt_date       0\n",
       "gt_time       0\n",
       "pred_total    0\n",
       "pred_date     0\n",
       "pred_time     0\n",
       "conf_total    0\n",
       "conf_time     0\n",
       "conf_date     0\n",
       "dtype: int64"
      ]
     },
     "execution_count": 6,
     "metadata": {},
     "output_type": "execute_result"
    }
   ],
   "source": [
    "df.isnull().sum()"
   ]
  },
  {
   "cell_type": "code",
   "execution_count": 7,
   "metadata": {
    "collapsed": false
   },
   "outputs": [],
   "source": [
    "# df[\"gt_date\"].value_counts()"
   ]
  },
  {
   "cell_type": "code",
   "execution_count": 8,
   "metadata": {
    "collapsed": false
   },
   "outputs": [],
   "source": [
    "# df[\"gt_time\"].value_counts()"
   ]
  },
  {
   "cell_type": "code",
   "execution_count": 9,
   "metadata": {
    "collapsed": false
   },
   "outputs": [],
   "source": [
    "# df[\"gt_total\"].value_counts()"
   ]
  },
  {
   "cell_type": "code",
   "execution_count": 10,
   "metadata": {
    "collapsed": false
   },
   "outputs": [],
   "source": [
    "# df[\"pred_date\"].value_counts()"
   ]
  },
  {
   "cell_type": "code",
   "execution_count": 11,
   "metadata": {
    "collapsed": false
   },
   "outputs": [],
   "source": [
    "# df[\"pred_time\"].value_counts()"
   ]
  },
  {
   "cell_type": "code",
   "execution_count": 12,
   "metadata": {
    "collapsed": false
   },
   "outputs": [],
   "source": [
    "# df[\"pred_total\"].value_counts()"
   ]
  },
  {
   "cell_type": "code",
   "execution_count": 13,
   "metadata": {
    "collapsed": false
   },
   "outputs": [],
   "source": [
    "# df[df[\"pred_time\"] == \"noTime\"]"
   ]
  },
  {
   "cell_type": "code",
   "execution_count": 14,
   "metadata": {
    "collapsed": false
   },
   "outputs": [],
   "source": [
    "# test[test[\"pred_time\"] == \"noTime\"]"
   ]
  },
  {
   "cell_type": "code",
   "execution_count": 15,
   "metadata": {
    "collapsed": true
   },
   "outputs": [],
   "source": [
    "time_df = df[df[\"pred_time\"] != \"noTime\"]"
   ]
  },
  {
   "cell_type": "code",
   "execution_count": 16,
   "metadata": {
    "collapsed": true
   },
   "outputs": [],
   "source": [
    "time_test_df = test[test[\"pred_time\"] != \"noTime\"]"
   ]
  },
  {
   "cell_type": "code",
   "execution_count": 17,
   "metadata": {
    "collapsed": false
   },
   "outputs": [],
   "source": [
    "df[\"gt_date\"] = pd.to_datetime(df[\"gt_date\"])\n",
    "df[\"gt_time\"] = pd.to_datetime(df[\"gt_time\"])\n",
    "df[\"pred_date\"] = pd.to_datetime(df[\"pred_date\"])\n",
    "# df[\"pred_time\"] = pd.to_datetime(df[\"pred_time\"])"
   ]
  },
  {
   "cell_type": "code",
   "execution_count": 18,
   "metadata": {
    "collapsed": true
   },
   "outputs": [],
   "source": [
    "test[\"gt_date\"] = pd.to_datetime(test[\"gt_date\"])\n",
    "test[\"gt_time\"] = pd.to_datetime(test[\"gt_time\"])\n",
    "test[\"pred_date\"] = pd.to_datetime(test[\"pred_date\"])"
   ]
  },
  {
   "cell_type": "code",
   "execution_count": 19,
   "metadata": {
    "collapsed": false
   },
   "outputs": [
    {
     "data": {
      "text/plain": [
       "Image_Id               int64\n",
       "gt_total               int64\n",
       "gt_date       datetime64[ns]\n",
       "gt_time       datetime64[ns]\n",
       "pred_total             int64\n",
       "pred_date     datetime64[ns]\n",
       "pred_time             object\n",
       "conf_total           float64\n",
       "conf_time            float64\n",
       "conf_date            float64\n",
       "dtype: object"
      ]
     },
     "execution_count": 19,
     "metadata": {},
     "output_type": "execute_result"
    }
   ],
   "source": [
    "df.dtypes"
   ]
  },
  {
   "cell_type": "code",
   "execution_count": 20,
   "metadata": {
    "collapsed": false
   },
   "outputs": [
    {
     "data": {
      "text/html": [
       "<div>\n",
       "<table border=\"1\" class=\"dataframe\">\n",
       "  <thead>\n",
       "    <tr style=\"text-align: right;\">\n",
       "      <th></th>\n",
       "      <th>Image_Id</th>\n",
       "      <th>gt_total</th>\n",
       "      <th>gt_date</th>\n",
       "      <th>gt_time</th>\n",
       "      <th>pred_total</th>\n",
       "      <th>pred_date</th>\n",
       "      <th>pred_time</th>\n",
       "      <th>conf_total</th>\n",
       "      <th>conf_time</th>\n",
       "      <th>conf_date</th>\n",
       "    </tr>\n",
       "  </thead>\n",
       "  <tbody>\n",
       "    <tr>\n",
       "      <th>0</th>\n",
       "      <td>1</td>\n",
       "      <td>160</td>\n",
       "      <td>2016-09-11</td>\n",
       "      <td>2017-07-19 13:52:00</td>\n",
       "      <td>160</td>\n",
       "      <td>2016-03-11</td>\n",
       "      <td>13:52:00</td>\n",
       "      <td>-0.001974</td>\n",
       "      <td>-1.180410</td>\n",
       "      <td>-0.008496</td>\n",
       "    </tr>\n",
       "    <tr>\n",
       "      <th>1</th>\n",
       "      <td>3</td>\n",
       "      <td>195</td>\n",
       "      <td>2016-09-23</td>\n",
       "      <td>2017-07-19 18:52:00</td>\n",
       "      <td>195</td>\n",
       "      <td>2016-09-23</td>\n",
       "      <td>18:52:00</td>\n",
       "      <td>-0.011053</td>\n",
       "      <td>-0.864236</td>\n",
       "      <td>-0.018932</td>\n",
       "    </tr>\n",
       "    <tr>\n",
       "      <th>2</th>\n",
       "      <td>4</td>\n",
       "      <td>145</td>\n",
       "      <td>2016-10-02</td>\n",
       "      <td>2017-07-19 15:58:00</td>\n",
       "      <td>145</td>\n",
       "      <td>2017-10-18</td>\n",
       "      <td>15:58:00</td>\n",
       "      <td>-0.002920</td>\n",
       "      <td>-2.266910</td>\n",
       "      <td>-0.978772</td>\n",
       "    </tr>\n",
       "    <tr>\n",
       "      <th>3</th>\n",
       "      <td>4</td>\n",
       "      <td>243</td>\n",
       "      <td>2016-09-26</td>\n",
       "      <td>2017-07-19 18:25:00</td>\n",
       "      <td>243</td>\n",
       "      <td>2017-09-26</td>\n",
       "      <td>18:25:00</td>\n",
       "      <td>-0.075094</td>\n",
       "      <td>-0.810062</td>\n",
       "      <td>-0.123047</td>\n",
       "    </tr>\n",
       "    <tr>\n",
       "      <th>4</th>\n",
       "      <td>6</td>\n",
       "      <td>71</td>\n",
       "      <td>2016-09-19</td>\n",
       "      <td>2017-07-19 13:47:00</td>\n",
       "      <td>71</td>\n",
       "      <td>2016-08-19</td>\n",
       "      <td>13:47:00</td>\n",
       "      <td>-0.014107</td>\n",
       "      <td>-0.664796</td>\n",
       "      <td>-0.003986</td>\n",
       "    </tr>\n",
       "  </tbody>\n",
       "</table>\n",
       "</div>"
      ],
      "text/plain": [
       "   Image_Id  gt_total    gt_date             gt_time  pred_total  pred_date  \\\n",
       "0         1       160 2016-09-11 2017-07-19 13:52:00         160 2016-03-11   \n",
       "1         3       195 2016-09-23 2017-07-19 18:52:00         195 2016-09-23   \n",
       "2         4       145 2016-10-02 2017-07-19 15:58:00         145 2017-10-18   \n",
       "3         4       243 2016-09-26 2017-07-19 18:25:00         243 2017-09-26   \n",
       "4         6        71 2016-09-19 2017-07-19 13:47:00          71 2016-08-19   \n",
       "\n",
       "  pred_time  conf_total  conf_time  conf_date  \n",
       "0  13:52:00   -0.001974  -1.180410  -0.008496  \n",
       "1  18:52:00   -0.011053  -0.864236  -0.018932  \n",
       "2  15:58:00   -0.002920  -2.266910  -0.978772  \n",
       "3  18:25:00   -0.075094  -0.810062  -0.123047  \n",
       "4  13:47:00   -0.014107  -0.664796  -0.003986  "
      ]
     },
     "execution_count": 20,
     "metadata": {},
     "output_type": "execute_result"
    }
   ],
   "source": [
    "df.head()"
   ]
  },
  {
   "cell_type": "markdown",
   "metadata": {},
   "source": [
    "# Predicting Total Variable"
   ]
  },
  {
   "cell_type": "code",
   "execution_count": 21,
   "metadata": {
    "collapsed": true
   },
   "outputs": [],
   "source": [
    "total_df = df[[\"Image_Id\", \"gt_total\", \"pred_total\", \"conf_total\"]]"
   ]
  },
  {
   "cell_type": "code",
   "execution_count": 22,
   "metadata": {
    "collapsed": true
   },
   "outputs": [],
   "source": [
    "test_total = test[[\"Image_Id\", \"gt_total\", \"pred_total\", \"conf_total\"]]"
   ]
  },
  {
   "cell_type": "code",
   "execution_count": 23,
   "metadata": {
    "collapsed": false
   },
   "outputs": [
    {
     "data": {
      "text/html": [
       "<div>\n",
       "<table border=\"1\" class=\"dataframe\">\n",
       "  <thead>\n",
       "    <tr style=\"text-align: right;\">\n",
       "      <th></th>\n",
       "      <th>Image_Id</th>\n",
       "      <th>gt_total</th>\n",
       "      <th>pred_total</th>\n",
       "      <th>conf_total</th>\n",
       "    </tr>\n",
       "  </thead>\n",
       "  <tbody>\n",
       "    <tr>\n",
       "      <th>0</th>\n",
       "      <td>1</td>\n",
       "      <td>160</td>\n",
       "      <td>160</td>\n",
       "      <td>-0.001974</td>\n",
       "    </tr>\n",
       "    <tr>\n",
       "      <th>1</th>\n",
       "      <td>3</td>\n",
       "      <td>195</td>\n",
       "      <td>195</td>\n",
       "      <td>-0.011053</td>\n",
       "    </tr>\n",
       "    <tr>\n",
       "      <th>2</th>\n",
       "      <td>4</td>\n",
       "      <td>145</td>\n",
       "      <td>145</td>\n",
       "      <td>-0.002920</td>\n",
       "    </tr>\n",
       "    <tr>\n",
       "      <th>3</th>\n",
       "      <td>4</td>\n",
       "      <td>243</td>\n",
       "      <td>243</td>\n",
       "      <td>-0.075094</td>\n",
       "    </tr>\n",
       "    <tr>\n",
       "      <th>4</th>\n",
       "      <td>6</td>\n",
       "      <td>71</td>\n",
       "      <td>71</td>\n",
       "      <td>-0.014107</td>\n",
       "    </tr>\n",
       "  </tbody>\n",
       "</table>\n",
       "</div>"
      ],
      "text/plain": [
       "   Image_Id  gt_total  pred_total  conf_total\n",
       "0         1       160         160   -0.001974\n",
       "1         3       195         195   -0.011053\n",
       "2         4       145         145   -0.002920\n",
       "3         4       243         243   -0.075094\n",
       "4         6        71          71   -0.014107"
      ]
     },
     "execution_count": 23,
     "metadata": {},
     "output_type": "execute_result"
    }
   ],
   "source": [
    "total_df.head()"
   ]
  },
  {
   "cell_type": "code",
   "execution_count": 24,
   "metadata": {
    "collapsed": false
   },
   "outputs": [],
   "source": [
    "total_df[\"total_label\"] = df.apply(lambda x: 1 if x[\"gt_total\"] == x[\"pred_total\"] else 0, axis=1)"
   ]
  },
  {
   "cell_type": "code",
   "execution_count": 25,
   "metadata": {
    "collapsed": true
   },
   "outputs": [],
   "source": [
    "test_total[\"total_label\"] = df.apply(lambda x: 1 if x[\"gt_total\"] == x[\"pred_total\"] else 0, axis=1)"
   ]
  },
  {
   "cell_type": "code",
   "execution_count": 26,
   "metadata": {
    "collapsed": false
   },
   "outputs": [
    {
     "data": {
      "text/plain": [
       "1    4542\n",
       "0     458\n",
       "Name: total_label, dtype: int64"
      ]
     },
     "execution_count": 26,
     "metadata": {},
     "output_type": "execute_result"
    }
   ],
   "source": [
    "total_df[\"total_label\"].value_counts()"
   ]
  },
  {
   "cell_type": "code",
   "execution_count": 27,
   "metadata": {
    "collapsed": false
   },
   "outputs": [
    {
     "data": {
      "text/plain": [
       "54196"
      ]
     },
     "execution_count": 27,
     "metadata": {},
     "output_type": "execute_result"
    }
   ],
   "source": [
    "total_df[\"gt_total\"].max()"
   ]
  },
  {
   "cell_type": "code",
   "execution_count": 28,
   "metadata": {
    "collapsed": false
   },
   "outputs": [
    {
     "data": {
      "text/plain": [
       "1    24\n",
       "0     9\n",
       "Name: total_label, dtype: int64"
      ]
     },
     "execution_count": 28,
     "metadata": {},
     "output_type": "execute_result"
    }
   ],
   "source": [
    "total_df[total_df[\"gt_total\"]>10000][\"total_label\"].value_counts()"
   ]
  },
  {
   "cell_type": "code",
   "execution_count": 29,
   "metadata": {
    "collapsed": true
   },
   "outputs": [],
   "source": [
    "def convert_string(x):\n",
    "    _str_len = 5\n",
    "    x_len = len(str(x))\n",
    "    diff = _str_len - x_len\n",
    "    if diff>0:\n",
    "        return str((\"0\" * diff)+str(x))\n",
    "    else:\n",
    "        return str(x)"
   ]
  },
  {
   "cell_type": "code",
   "execution_count": 30,
   "metadata": {
    "collapsed": false
   },
   "outputs": [
    {
     "data": {
      "text/plain": [
       "Index(['Image_Id', 'gt_total', 'pred_total', 'conf_total', 'total_label'], dtype='object')"
      ]
     },
     "execution_count": 30,
     "metadata": {},
     "output_type": "execute_result"
    }
   ],
   "source": [
    "total_df.columns"
   ]
  },
  {
   "cell_type": "code",
   "execution_count": 31,
   "metadata": {
    "collapsed": true
   },
   "outputs": [],
   "source": [
    "total_df[\"gt_total\"] = total_df[\"gt_total\"].apply(convert_string)\n",
    "total_df[\"pred_total\"] = total_df[\"pred_total\"].apply(convert_string)"
   ]
  },
  {
   "cell_type": "code",
   "execution_count": 32,
   "metadata": {
    "collapsed": true
   },
   "outputs": [],
   "source": [
    "test_total[\"gt_total\"] = test_total[\"gt_total\"].apply(convert_string)\n",
    "test_total[\"pred_total\"] = test_total[\"pred_total\"].apply(convert_string)"
   ]
  },
  {
   "cell_type": "code",
   "execution_count": 33,
   "metadata": {
    "collapsed": false
   },
   "outputs": [
    {
     "data": {
      "text/plain": [
       "Image_Id         int64\n",
       "gt_total        object\n",
       "pred_total      object\n",
       "conf_total     float64\n",
       "total_label      int64\n",
       "dtype: object"
      ]
     },
     "execution_count": 33,
     "metadata": {},
     "output_type": "execute_result"
    }
   ],
   "source": [
    "total_df.dtypes"
   ]
  },
  {
   "cell_type": "code",
   "execution_count": 34,
   "metadata": {
    "collapsed": false
   },
   "outputs": [],
   "source": [
    "for pos in range(0,5):\n",
    "    total_df[str(pos+1)+\"_digit_gt\"] = total_df[\"gt_total\"].apply(lambda x: x[pos])\n",
    "    total_df[str(pos+1)+\"_digit_pred\"] = total_df[\"pred_total\"].apply(lambda x: x[pos])\n",
    "    test_total[str(pos+1)+\"_digit_gt\"] = test_total[\"gt_total\"].apply(lambda x: x[pos])\n",
    "    test_total[str(pos+1)+\"_digit_pred\"] = test_total[\"pred_total\"].apply(lambda x: x[pos])"
   ]
  },
  {
   "cell_type": "code",
   "execution_count": 35,
   "metadata": {
    "collapsed": false
   },
   "outputs": [
    {
     "data": {
      "text/html": [
       "<div>\n",
       "<table border=\"1\" class=\"dataframe\">\n",
       "  <thead>\n",
       "    <tr style=\"text-align: right;\">\n",
       "      <th></th>\n",
       "      <th>Image_Id</th>\n",
       "      <th>gt_total</th>\n",
       "      <th>pred_total</th>\n",
       "      <th>conf_total</th>\n",
       "      <th>total_label</th>\n",
       "      <th>1_digit_gt</th>\n",
       "      <th>1_digit_pred</th>\n",
       "      <th>2_digit_gt</th>\n",
       "      <th>2_digit_pred</th>\n",
       "      <th>3_digit_gt</th>\n",
       "      <th>3_digit_pred</th>\n",
       "      <th>4_digit_gt</th>\n",
       "      <th>4_digit_pred</th>\n",
       "      <th>5_digit_gt</th>\n",
       "      <th>5_digit_pred</th>\n",
       "    </tr>\n",
       "  </thead>\n",
       "  <tbody>\n",
       "    <tr>\n",
       "      <th>0</th>\n",
       "      <td>1</td>\n",
       "      <td>00160</td>\n",
       "      <td>00160</td>\n",
       "      <td>-0.001974</td>\n",
       "      <td>1</td>\n",
       "      <td>0</td>\n",
       "      <td>0</td>\n",
       "      <td>0</td>\n",
       "      <td>0</td>\n",
       "      <td>1</td>\n",
       "      <td>1</td>\n",
       "      <td>6</td>\n",
       "      <td>6</td>\n",
       "      <td>0</td>\n",
       "      <td>0</td>\n",
       "    </tr>\n",
       "    <tr>\n",
       "      <th>1</th>\n",
       "      <td>3</td>\n",
       "      <td>00195</td>\n",
       "      <td>00195</td>\n",
       "      <td>-0.011053</td>\n",
       "      <td>1</td>\n",
       "      <td>0</td>\n",
       "      <td>0</td>\n",
       "      <td>0</td>\n",
       "      <td>0</td>\n",
       "      <td>1</td>\n",
       "      <td>1</td>\n",
       "      <td>9</td>\n",
       "      <td>9</td>\n",
       "      <td>5</td>\n",
       "      <td>5</td>\n",
       "    </tr>\n",
       "    <tr>\n",
       "      <th>2</th>\n",
       "      <td>4</td>\n",
       "      <td>00145</td>\n",
       "      <td>00145</td>\n",
       "      <td>-0.002920</td>\n",
       "      <td>1</td>\n",
       "      <td>0</td>\n",
       "      <td>0</td>\n",
       "      <td>0</td>\n",
       "      <td>0</td>\n",
       "      <td>1</td>\n",
       "      <td>1</td>\n",
       "      <td>4</td>\n",
       "      <td>4</td>\n",
       "      <td>5</td>\n",
       "      <td>5</td>\n",
       "    </tr>\n",
       "    <tr>\n",
       "      <th>3</th>\n",
       "      <td>4</td>\n",
       "      <td>00243</td>\n",
       "      <td>00243</td>\n",
       "      <td>-0.075094</td>\n",
       "      <td>1</td>\n",
       "      <td>0</td>\n",
       "      <td>0</td>\n",
       "      <td>0</td>\n",
       "      <td>0</td>\n",
       "      <td>2</td>\n",
       "      <td>2</td>\n",
       "      <td>4</td>\n",
       "      <td>4</td>\n",
       "      <td>3</td>\n",
       "      <td>3</td>\n",
       "    </tr>\n",
       "    <tr>\n",
       "      <th>4</th>\n",
       "      <td>6</td>\n",
       "      <td>00071</td>\n",
       "      <td>00071</td>\n",
       "      <td>-0.014107</td>\n",
       "      <td>1</td>\n",
       "      <td>0</td>\n",
       "      <td>0</td>\n",
       "      <td>0</td>\n",
       "      <td>0</td>\n",
       "      <td>0</td>\n",
       "      <td>0</td>\n",
       "      <td>7</td>\n",
       "      <td>7</td>\n",
       "      <td>1</td>\n",
       "      <td>1</td>\n",
       "    </tr>\n",
       "  </tbody>\n",
       "</table>\n",
       "</div>"
      ],
      "text/plain": [
       "   Image_Id gt_total pred_total  conf_total  total_label 1_digit_gt  \\\n",
       "0         1    00160      00160   -0.001974            1          0   \n",
       "1         3    00195      00195   -0.011053            1          0   \n",
       "2         4    00145      00145   -0.002920            1          0   \n",
       "3         4    00243      00243   -0.075094            1          0   \n",
       "4         6    00071      00071   -0.014107            1          0   \n",
       "\n",
       "  1_digit_pred 2_digit_gt 2_digit_pred 3_digit_gt 3_digit_pred 4_digit_gt  \\\n",
       "0            0          0            0          1            1          6   \n",
       "1            0          0            0          1            1          9   \n",
       "2            0          0            0          1            1          4   \n",
       "3            0          0            0          2            2          4   \n",
       "4            0          0            0          0            0          7   \n",
       "\n",
       "  4_digit_pred 5_digit_gt 5_digit_pred  \n",
       "0            6          0            0  \n",
       "1            9          5            5  \n",
       "2            4          5            5  \n",
       "3            4          3            3  \n",
       "4            7          1            1  "
      ]
     },
     "execution_count": 35,
     "metadata": {},
     "output_type": "execute_result"
    }
   ],
   "source": [
    "total_df.head()"
   ]
  },
  {
   "cell_type": "code",
   "execution_count": 36,
   "metadata": {
    "collapsed": true
   },
   "outputs": [],
   "source": [
    "total_df[\"conf_total\"] = total_df[\"conf_total\"]*-1\n",
    "test_total[\"conf_total\"] = test_total[\"conf_total\"]*-1\n",
    "total_df[\"conf_total\"]=(total_df[\"conf_total\"]-total_df[\"conf_total\"].mean())/total_df[\"conf_total\"].std()\n",
    "test_total[\"conf_total\"]=(test_total[\"conf_total\"]-test_total[\"conf_total\"].mean())/test_total[\"conf_total\"].std()"
   ]
  },
  {
   "cell_type": "code",
   "execution_count": 37,
   "metadata": {
    "collapsed": true
   },
   "outputs": [],
   "source": [
    "X_total = total_df.drop([\"Image_Id\", \"gt_total\", \"pred_total\", \"total_label\"], axis=1)\n",
    "y_total = total_df[\"total_label\"]"
   ]
  },
  {
   "cell_type": "code",
   "execution_count": 38,
   "metadata": {
    "collapsed": true
   },
   "outputs": [],
   "source": [
    "X_total_test = test_total.drop([\"Image_Id\", \"gt_total\", \"pred_total\", \"total_label\"], axis=1)\n",
    "y_total_test = test_total[\"total_label\"]"
   ]
  },
  {
   "cell_type": "code",
   "execution_count": 39,
   "metadata": {
    "collapsed": false
   },
   "outputs": [
    {
     "data": {
      "text/plain": [
       "<matplotlib.axes._subplots.AxesSubplot at 0x7f488e259828>"
      ]
     },
     "execution_count": 39,
     "metadata": {},
     "output_type": "execute_result"
    },
    {
     "data": {
      "image/png": "[encoded data removed]",
      "text/plain": [
       "<matplotlib.figure.Figure at 0x7f488e259d30>"
      ]
     },
     "metadata": {},
     "output_type": "display_data"
    }
   ],
   "source": [
    "sns.kdeplot(X_total_test[\"conf_total\"]*-1)"
   ]
  },
  {
   "cell_type": "code",
   "execution_count": 40,
   "metadata": {
    "collapsed": false
   },
   "outputs": [
    {
     "data": {
      "text/plain": [
       "<matplotlib.axes._subplots.AxesSubplot at 0x7f488e2599b0>"
      ]
     },
     "execution_count": 40,
     "metadata": {},
     "output_type": "execute_result"
    },
    {
     "data": {
      "image/png": "[encoded data removed]",
      "text/plain": [
       "<matplotlib.figure.Figure at 0x7f488e389128>"
      ]
     },
     "metadata": {},
     "output_type": "display_data"
    }
   ],
   "source": [
    "sns.kdeplot(X_total[\"conf_total\"]*-1)"
   ]
  },
  {
   "cell_type": "code",
   "execution_count": null,
   "metadata": {
    "collapsed": true
   },
   "outputs": [],
   "source": []
  },
  {
   "cell_type": "code",
   "execution_count": 41,
   "metadata": {
    "collapsed": false
   },
   "outputs": [
    {
     "data": {
      "text/plain": [
       "<matplotlib.axes._subplots.AxesSubplot at 0x7f488e249518>"
      ]
     },
     "execution_count": 41,
     "metadata": {},
     "output_type": "execute_result"
    },
    {
     "data": {
      "image/png": "[encoded data removed]",
      "text/plain": [
       "<matplotlib.figure.Figure at 0x7f488e2450b8>"
      ]
     },
     "metadata": {},
     "output_type": "display_data"
    }
   ],
   "source": [
    "sns.kdeplot(X_total[\"conf_total\"])"
   ]
  },
  {
   "cell_type": "code",
   "execution_count": 42,
   "metadata": {
    "collapsed": false
   },
   "outputs": [
    {
     "data": {
      "text/html": [
       "<div>\n",
       "<table border=\"1\" class=\"dataframe\">\n",
       "  <thead>\n",
       "    <tr style=\"text-align: right;\">\n",
       "      <th></th>\n",
       "      <th>conf_total</th>\n",
       "      <th>1_digit_gt</th>\n",
       "      <th>1_digit_pred</th>\n",
       "      <th>2_digit_gt</th>\n",
       "      <th>2_digit_pred</th>\n",
       "      <th>3_digit_gt</th>\n",
       "      <th>3_digit_pred</th>\n",
       "      <th>4_digit_gt</th>\n",
       "      <th>4_digit_pred</th>\n",
       "      <th>5_digit_gt</th>\n",
       "      <th>5_digit_pred</th>\n",
       "    </tr>\n",
       "  </thead>\n",
       "  <tbody>\n",
       "    <tr>\n",
       "      <th>0</th>\n",
       "      <td>-0.320969</td>\n",
       "      <td>0</td>\n",
       "      <td>0</td>\n",
       "      <td>0</td>\n",
       "      <td>0</td>\n",
       "      <td>1</td>\n",
       "      <td>1</td>\n",
       "      <td>6</td>\n",
       "      <td>6</td>\n",
       "      <td>0</td>\n",
       "      <td>0</td>\n",
       "    </tr>\n",
       "    <tr>\n",
       "      <th>1</th>\n",
       "      <td>-0.302947</td>\n",
       "      <td>0</td>\n",
       "      <td>0</td>\n",
       "      <td>0</td>\n",
       "      <td>0</td>\n",
       "      <td>1</td>\n",
       "      <td>1</td>\n",
       "      <td>9</td>\n",
       "      <td>9</td>\n",
       "      <td>5</td>\n",
       "      <td>5</td>\n",
       "    </tr>\n",
       "    <tr>\n",
       "      <th>2</th>\n",
       "      <td>-0.319091</td>\n",
       "      <td>0</td>\n",
       "      <td>0</td>\n",
       "      <td>0</td>\n",
       "      <td>0</td>\n",
       "      <td>1</td>\n",
       "      <td>1</td>\n",
       "      <td>4</td>\n",
       "      <td>4</td>\n",
       "      <td>5</td>\n",
       "      <td>5</td>\n",
       "    </tr>\n",
       "    <tr>\n",
       "      <th>3</th>\n",
       "      <td>-0.175824</td>\n",
       "      <td>0</td>\n",
       "      <td>0</td>\n",
       "      <td>0</td>\n",
       "      <td>0</td>\n",
       "      <td>2</td>\n",
       "      <td>2</td>\n",
       "      <td>4</td>\n",
       "      <td>4</td>\n",
       "      <td>3</td>\n",
       "      <td>3</td>\n",
       "    </tr>\n",
       "    <tr>\n",
       "      <th>4</th>\n",
       "      <td>-0.296886</td>\n",
       "      <td>0</td>\n",
       "      <td>0</td>\n",
       "      <td>0</td>\n",
       "      <td>0</td>\n",
       "      <td>0</td>\n",
       "      <td>0</td>\n",
       "      <td>7</td>\n",
       "      <td>7</td>\n",
       "      <td>1</td>\n",
       "      <td>1</td>\n",
       "    </tr>\n",
       "  </tbody>\n",
       "</table>\n",
       "</div>"
      ],
      "text/plain": [
       "   conf_total 1_digit_gt 1_digit_pred 2_digit_gt 2_digit_pred 3_digit_gt  \\\n",
       "0   -0.320969          0            0          0            0          1   \n",
       "1   -0.302947          0            0          0            0          1   \n",
       "2   -0.319091          0            0          0            0          1   \n",
       "3   -0.175824          0            0          0            0          2   \n",
       "4   -0.296886          0            0          0            0          0   \n",
       "\n",
       "  3_digit_pred 4_digit_gt 4_digit_pred 5_digit_gt 5_digit_pred  \n",
       "0            1          6            6          0            0  \n",
       "1            1          9            9          5            5  \n",
       "2            1          4            4          5            5  \n",
       "3            2          4            4          3            3  \n",
       "4            0          7            7          1            1  "
      ]
     },
     "execution_count": 42,
     "metadata": {},
     "output_type": "execute_result"
    }
   ],
   "source": [
    "X_total.head()"
   ]
  },
  {
   "cell_type": "code",
   "execution_count": 43,
   "metadata": {
    "collapsed": false
   },
   "outputs": [
    {
     "data": {
      "text/html": [
       "<div>\n",
       "<table border=\"1\" class=\"dataframe\">\n",
       "  <thead>\n",
       "    <tr style=\"text-align: right;\">\n",
       "      <th></th>\n",
       "      <th>conf_total</th>\n",
       "      <th>1_digit_gt</th>\n",
       "      <th>1_digit_pred</th>\n",
       "      <th>2_digit_gt</th>\n",
       "      <th>2_digit_pred</th>\n",
       "      <th>3_digit_gt</th>\n",
       "      <th>3_digit_pred</th>\n",
       "      <th>4_digit_gt</th>\n",
       "      <th>4_digit_pred</th>\n",
       "      <th>5_digit_gt</th>\n",
       "      <th>5_digit_pred</th>\n",
       "    </tr>\n",
       "  </thead>\n",
       "  <tbody>\n",
       "    <tr>\n",
       "      <th>0</th>\n",
       "      <td>-0.347589</td>\n",
       "      <td>0</td>\n",
       "      <td>0</td>\n",
       "      <td>0</td>\n",
       "      <td>0</td>\n",
       "      <td>7</td>\n",
       "      <td>7</td>\n",
       "      <td>7</td>\n",
       "      <td>7</td>\n",
       "      <td>1</td>\n",
       "      <td>1</td>\n",
       "    </tr>\n",
       "    <tr>\n",
       "      <th>1</th>\n",
       "      <td>-0.321601</td>\n",
       "      <td>0</td>\n",
       "      <td>0</td>\n",
       "      <td>2</td>\n",
       "      <td>2</td>\n",
       "      <td>0</td>\n",
       "      <td>0</td>\n",
       "      <td>5</td>\n",
       "      <td>5</td>\n",
       "      <td>4</td>\n",
       "      <td>4</td>\n",
       "    </tr>\n",
       "    <tr>\n",
       "      <th>2</th>\n",
       "      <td>0.178602</td>\n",
       "      <td>0</td>\n",
       "      <td>0</td>\n",
       "      <td>0</td>\n",
       "      <td>0</td>\n",
       "      <td>0</td>\n",
       "      <td>0</td>\n",
       "      <td>9</td>\n",
       "      <td>2</td>\n",
       "      <td>0</td>\n",
       "      <td>0</td>\n",
       "    </tr>\n",
       "    <tr>\n",
       "      <th>3</th>\n",
       "      <td>-0.337672</td>\n",
       "      <td>0</td>\n",
       "      <td>0</td>\n",
       "      <td>0</td>\n",
       "      <td>0</td>\n",
       "      <td>6</td>\n",
       "      <td>6</td>\n",
       "      <td>8</td>\n",
       "      <td>8</td>\n",
       "      <td>0</td>\n",
       "      <td>0</td>\n",
       "    </tr>\n",
       "    <tr>\n",
       "      <th>4</th>\n",
       "      <td>-0.339796</td>\n",
       "      <td>0</td>\n",
       "      <td>0</td>\n",
       "      <td>1</td>\n",
       "      <td>1</td>\n",
       "      <td>0</td>\n",
       "      <td>0</td>\n",
       "      <td>1</td>\n",
       "      <td>1</td>\n",
       "      <td>9</td>\n",
       "      <td>9</td>\n",
       "    </tr>\n",
       "  </tbody>\n",
       "</table>\n",
       "</div>"
      ],
      "text/plain": [
       "   conf_total 1_digit_gt 1_digit_pred 2_digit_gt 2_digit_pred 3_digit_gt  \\\n",
       "0   -0.347589          0            0          0            0          7   \n",
       "1   -0.321601          0            0          2            2          0   \n",
       "2    0.178602          0            0          0            0          0   \n",
       "3   -0.337672          0            0          0            0          6   \n",
       "4   -0.339796          0            0          1            1          0   \n",
       "\n",
       "  3_digit_pred 4_digit_gt 4_digit_pred 5_digit_gt 5_digit_pred  \n",
       "0            7          7            7          1            1  \n",
       "1            0          5            5          4            4  \n",
       "2            0          9            2          0            0  \n",
       "3            6          8            8          0            0  \n",
       "4            0          1            1          9            9  "
      ]
     },
     "execution_count": 43,
     "metadata": {},
     "output_type": "execute_result"
    }
   ],
   "source": [
    "X_total_test.head()"
   ]
  },
  {
   "cell_type": "code",
   "execution_count": 44,
   "metadata": {
    "collapsed": true
   },
   "outputs": [],
   "source": [
    "X_total[\"conf_total\"]=(X_total[\"conf_total\"]-X_total[\"conf_total\"].mean())/X_total[\"conf_total\"].std()\n",
    "X_total_test[\"conf_total\"]=(X_total_test[\"conf_total\"]-X_total_test[\"conf_total\"].mean())/X_total_test[\"conf_total\"].std()"
   ]
  },
  {
   "cell_type": "code",
   "execution_count": 45,
   "metadata": {
    "collapsed": false
   },
   "outputs": [
    {
     "data": {
      "text/plain": [
       "<matplotlib.axes._subplots.AxesSubplot at 0x7f488e2f00f0>"
      ]
     },
     "execution_count": 45,
     "metadata": {},
     "output_type": "execute_result"
    },
    {
     "data": {
      "image/png": "[encoded data removed]",
      "text/plain": [
       "<matplotlib.figure.Figure at 0x7f488aec8cc0>"
      ]
     },
     "metadata": {},
     "output_type": "display_data"
    }
   ],
   "source": [
    "sns.kdeplot(X_total[\"conf_total\"])"
   ]
  },
  {
   "cell_type": "code",
   "execution_count": 46,
   "metadata": {
    "collapsed": false
   },
   "outputs": [
    {
     "data": {
      "text/html": [
       "<div>\n",
       "<table border=\"1\" class=\"dataframe\">\n",
       "  <thead>\n",
       "    <tr style=\"text-align: right;\">\n",
       "      <th></th>\n",
       "      <th>conf_total</th>\n",
       "      <th>1_digit_gt</th>\n",
       "      <th>1_digit_pred</th>\n",
       "      <th>2_digit_gt</th>\n",
       "      <th>2_digit_pred</th>\n",
       "      <th>3_digit_gt</th>\n",
       "      <th>3_digit_pred</th>\n",
       "      <th>4_digit_gt</th>\n",
       "      <th>4_digit_pred</th>\n",
       "      <th>5_digit_gt</th>\n",
       "      <th>5_digit_pred</th>\n",
       "    </tr>\n",
       "  </thead>\n",
       "  <tbody>\n",
       "    <tr>\n",
       "      <th>0</th>\n",
       "      <td>-0.347589</td>\n",
       "      <td>0</td>\n",
       "      <td>0</td>\n",
       "      <td>0</td>\n",
       "      <td>0</td>\n",
       "      <td>7</td>\n",
       "      <td>7</td>\n",
       "      <td>7</td>\n",
       "      <td>7</td>\n",
       "      <td>1</td>\n",
       "      <td>1</td>\n",
       "    </tr>\n",
       "    <tr>\n",
       "      <th>1</th>\n",
       "      <td>-0.321601</td>\n",
       "      <td>0</td>\n",
       "      <td>0</td>\n",
       "      <td>2</td>\n",
       "      <td>2</td>\n",
       "      <td>0</td>\n",
       "      <td>0</td>\n",
       "      <td>5</td>\n",
       "      <td>5</td>\n",
       "      <td>4</td>\n",
       "      <td>4</td>\n",
       "    </tr>\n",
       "    <tr>\n",
       "      <th>2</th>\n",
       "      <td>0.178602</td>\n",
       "      <td>0</td>\n",
       "      <td>0</td>\n",
       "      <td>0</td>\n",
       "      <td>0</td>\n",
       "      <td>0</td>\n",
       "      <td>0</td>\n",
       "      <td>9</td>\n",
       "      <td>2</td>\n",
       "      <td>0</td>\n",
       "      <td>0</td>\n",
       "    </tr>\n",
       "    <tr>\n",
       "      <th>3</th>\n",
       "      <td>-0.337672</td>\n",
       "      <td>0</td>\n",
       "      <td>0</td>\n",
       "      <td>0</td>\n",
       "      <td>0</td>\n",
       "      <td>6</td>\n",
       "      <td>6</td>\n",
       "      <td>8</td>\n",
       "      <td>8</td>\n",
       "      <td>0</td>\n",
       "      <td>0</td>\n",
       "    </tr>\n",
       "    <tr>\n",
       "      <th>4</th>\n",
       "      <td>-0.339796</td>\n",
       "      <td>0</td>\n",
       "      <td>0</td>\n",
       "      <td>1</td>\n",
       "      <td>1</td>\n",
       "      <td>0</td>\n",
       "      <td>0</td>\n",
       "      <td>1</td>\n",
       "      <td>1</td>\n",
       "      <td>9</td>\n",
       "      <td>9</td>\n",
       "    </tr>\n",
       "  </tbody>\n",
       "</table>\n",
       "</div>"
      ],
      "text/plain": [
       "   conf_total 1_digit_gt 1_digit_pred 2_digit_gt 2_digit_pred 3_digit_gt  \\\n",
       "0   -0.347589          0            0          0            0          7   \n",
       "1   -0.321601          0            0          2            2          0   \n",
       "2    0.178602          0            0          0            0          0   \n",
       "3   -0.337672          0            0          0            0          6   \n",
       "4   -0.339796          0            0          1            1          0   \n",
       "\n",
       "  3_digit_pred 4_digit_gt 4_digit_pred 5_digit_gt 5_digit_pred  \n",
       "0            7          7            7          1            1  \n",
       "1            0          5            5          4            4  \n",
       "2            0          9            2          0            0  \n",
       "3            6          8            8          0            0  \n",
       "4            0          1            1          9            9  "
      ]
     },
     "execution_count": 46,
     "metadata": {},
     "output_type": "execute_result"
    }
   ],
   "source": [
    "X_total_test.head()"
   ]
  },
  {
   "cell_type": "code",
   "execution_count": 47,
   "metadata": {
    "collapsed": true
   },
   "outputs": [],
   "source": [
    "from sklearn.ensemble import RandomForestClassifier\n",
    "from sklearn.metrics import f1_score\n",
    "from sklearn.metrics import precision_score\n",
    "from sklearn.metrics import recall_score\n",
    "from sklearn.model_selection import GridSearchCV"
   ]
  },
  {
   "cell_type": "code",
   "execution_count": 48,
   "metadata": {
    "collapsed": true
   },
   "outputs": [],
   "source": [
    "from sklearn.metrics import accuracy_score"
   ]
  },
  {
   "cell_type": "code",
   "execution_count": 49,
   "metadata": {
    "collapsed": true
   },
   "outputs": [],
   "source": [
    "rf = RandomForestClassifier()"
   ]
  },
  {
   "cell_type": "code",
   "execution_count": 50,
   "metadata": {
    "collapsed": false
   },
   "outputs": [
    {
     "data": {
      "text/plain": [
       "RandomForestClassifier(bootstrap=True, class_weight=None, criterion='gini',\n",
       "            max_depth=None, max_features='auto', max_leaf_nodes=None,\n",
       "            min_impurity_split=1e-07, min_samples_leaf=1,\n",
       "            min_samples_split=2, min_weight_fraction_leaf=0.0,\n",
       "            n_estimators=10, n_jobs=1, oob_score=False, random_state=None,\n",
       "            verbose=0, warm_start=False)"
      ]
     },
     "execution_count": 50,
     "metadata": {},
     "output_type": "execute_result"
    }
   ],
   "source": [
    "rf.fit(X_total,y_total)"
   ]
  },
  {
   "cell_type": "code",
   "execution_count": 51,
   "metadata": {
    "collapsed": true
   },
   "outputs": [],
   "source": [
    "def get_scores(est, y, X):\n",
    "    print(\"Accuracy score of model is: \" + str(accuracy_score(y, est.predict(X))))\n",
    "    print(\"F1 score of model is: \" + str(f1_score(y, est.predict(X))))\n",
    "    print(\"Precision score of model is: \" + str(precision_score(y, est.predict(X))))\n",
    "    print(\"Recall score of model is: \" + str(recall_score(y, est.predict(X))))"
   ]
  },
  {
   "cell_type": "code",
   "execution_count": 52,
   "metadata": {
    "collapsed": false
   },
   "outputs": [
    {
     "name": "stdout",
     "output_type": "stream",
     "text": [
      "Accuracy score of model is: 0.858\n",
      "F1 score of model is: 0.92274211099\n",
      "Precision score of model is: 0.905982905983\n",
      "Recall score of model is: 0.940133037694\n"
     ]
    }
   ],
   "source": [
    "get_scores(rf, y_total_test, X_total_test)"
   ]
  },
  {
   "cell_type": "code",
   "execution_count": 53,
   "metadata": {
    "collapsed": false
   },
   "outputs": [
    {
     "data": {
      "text/plain": [
       "array([ 0.47386458,  0.00272062,  0.00152329,  0.01906201,  0.01841532,\n",
       "        0.0554489 ,  0.09525906,  0.0726869 ,  0.08877264,  0.113832  ,\n",
       "        0.05841469])"
      ]
     },
     "execution_count": 53,
     "metadata": {},
     "output_type": "execute_result"
    }
   ],
   "source": [
    "rf.feature_importances_"
   ]
  },
  {
   "cell_type": "code",
   "execution_count": 54,
   "metadata": {
    "collapsed": false
   },
   "outputs": [],
   "source": [
    "# f1_score(y_total_test, rf.predict(X_total_test))\n",
    "\n",
    "# precision_score(y_total_test, rf.predict(X_total_test))\n",
    "\n",
    "# recall_score(y_total_test, rf.predict(X_total_test))"
   ]
  },
  {
   "cell_type": "code",
   "execution_count": 55,
   "metadata": {
    "collapsed": false
   },
   "outputs": [],
   "source": [
    "# clf = RandomForestClassifier()\n",
    "# param_grid = { \"n_estimators\": list(range(100,400,50)),\n",
    "#            \"criterion\": [\"entropy\"],\n",
    "#            \"max_depth\": list(range(2,20)),\n",
    "#              }\n",
    "# grid_search = GridSearchCV(clf, param_grid, n_jobs=-1, cv=5, scoring=\"f1\")\n",
    "# grid_search.fit(X_total, y_total)"
   ]
  },
  {
   "cell_type": "code",
   "execution_count": 56,
   "metadata": {
    "collapsed": false
   },
   "outputs": [],
   "source": [
    "# grid_search.best_estimator_"
   ]
  },
  {
   "cell_type": "code",
   "execution_count": 57,
   "metadata": {
    "collapsed": false
   },
   "outputs": [],
   "source": [
    "# get_scores(grid_search.best_estimator_, y_total_test, X_total_test)"
   ]
  },
  {
   "cell_type": "markdown",
   "metadata": {},
   "source": [
    "# Predicting Time Variable"
   ]
  },
  {
   "cell_type": "code",
   "execution_count": 58,
   "metadata": {
    "collapsed": false
   },
   "outputs": [],
   "source": [
    "time_df.head()\n",
    "time_df = time_df.drop([\"gt_total\", \"gt_date\", \"pred_total\", \"pred_date\", \"conf_total\", \"conf_date\"], axis=1)"
   ]
  },
  {
   "cell_type": "code",
   "execution_count": 59,
   "metadata": {
    "collapsed": true
   },
   "outputs": [],
   "source": [
    "time_test_df = time_test_df.drop([\"gt_total\", \"gt_date\", \"pred_total\", \"pred_date\", \"conf_total\", \"conf_date\"], axis=1)"
   ]
  },
  {
   "cell_type": "code",
   "execution_count": 60,
   "metadata": {
    "collapsed": false
   },
   "outputs": [
    {
     "data": {
      "text/html": [
       "<div>\n",
       "<table border=\"1\" class=\"dataframe\">\n",
       "  <thead>\n",
       "    <tr style=\"text-align: right;\">\n",
       "      <th></th>\n",
       "      <th>Image_Id</th>\n",
       "      <th>gt_time</th>\n",
       "      <th>pred_time</th>\n",
       "      <th>conf_time</th>\n",
       "    </tr>\n",
       "  </thead>\n",
       "  <tbody>\n",
       "    <tr>\n",
       "      <th>0</th>\n",
       "      <td>1</td>\n",
       "      <td>13:52:00</td>\n",
       "      <td>13:52:00</td>\n",
       "      <td>-1.180410</td>\n",
       "    </tr>\n",
       "    <tr>\n",
       "      <th>1</th>\n",
       "      <td>3</td>\n",
       "      <td>18:52:00</td>\n",
       "      <td>18:52:00</td>\n",
       "      <td>-0.864236</td>\n",
       "    </tr>\n",
       "    <tr>\n",
       "      <th>2</th>\n",
       "      <td>4</td>\n",
       "      <td>15:58:00</td>\n",
       "      <td>15:58:00</td>\n",
       "      <td>-2.266910</td>\n",
       "    </tr>\n",
       "    <tr>\n",
       "      <th>3</th>\n",
       "      <td>4</td>\n",
       "      <td>18:25:00</td>\n",
       "      <td>18:25:00</td>\n",
       "      <td>-0.810062</td>\n",
       "    </tr>\n",
       "    <tr>\n",
       "      <th>4</th>\n",
       "      <td>6</td>\n",
       "      <td>13:47:00</td>\n",
       "      <td>13:47:00</td>\n",
       "      <td>-0.664796</td>\n",
       "    </tr>\n",
       "  </tbody>\n",
       "</table>\n",
       "</div>"
      ],
      "text/plain": [
       "   Image_Id   gt_time pred_time  conf_time\n",
       "0         1  13:52:00  13:52:00  -1.180410\n",
       "1         3  18:52:00  18:52:00  -0.864236\n",
       "2         4  15:58:00  15:58:00  -2.266910\n",
       "3         4  18:25:00  18:25:00  -0.810062\n",
       "4         6  13:47:00  13:47:00  -0.664796"
      ]
     },
     "execution_count": 60,
     "metadata": {},
     "output_type": "execute_result"
    }
   ],
   "source": [
    "time_df.head()"
   ]
  },
  {
   "cell_type": "code",
   "execution_count": 61,
   "metadata": {
    "collapsed": false
   },
   "outputs": [
    {
     "data": {
      "text/html": [
       "<div>\n",
       "<table border=\"1\" class=\"dataframe\">\n",
       "  <thead>\n",
       "    <tr style=\"text-align: right;\">\n",
       "      <th></th>\n",
       "      <th>Image_Id</th>\n",
       "      <th>gt_time</th>\n",
       "      <th>pred_time</th>\n",
       "      <th>conf_time</th>\n",
       "    </tr>\n",
       "  </thead>\n",
       "  <tbody>\n",
       "    <tr>\n",
       "      <th>0</th>\n",
       "      <td>4983</td>\n",
       "      <td>22:59:00</td>\n",
       "      <td>22:59:00</td>\n",
       "      <td>-1.782610</td>\n",
       "    </tr>\n",
       "    <tr>\n",
       "      <th>1</th>\n",
       "      <td>4984</td>\n",
       "      <td>00:31:00</td>\n",
       "      <td>00:31:00</td>\n",
       "      <td>-0.008186</td>\n",
       "    </tr>\n",
       "    <tr>\n",
       "      <th>2</th>\n",
       "      <td>4987</td>\n",
       "      <td>12:50:00</td>\n",
       "      <td>12:50:00</td>\n",
       "      <td>-0.581153</td>\n",
       "    </tr>\n",
       "    <tr>\n",
       "      <th>3</th>\n",
       "      <td>4988</td>\n",
       "      <td>21:26:00</td>\n",
       "      <td>21:26:00</td>\n",
       "      <td>-1.665860</td>\n",
       "    </tr>\n",
       "    <tr>\n",
       "      <th>4</th>\n",
       "      <td>4989</td>\n",
       "      <td>22:36:00</td>\n",
       "      <td>22:36:00</td>\n",
       "      <td>-1.693240</td>\n",
       "    </tr>\n",
       "  </tbody>\n",
       "</table>\n",
       "</div>"
      ],
      "text/plain": [
       "   Image_Id   gt_time pred_time  conf_time\n",
       "0      4983  22:59:00  22:59:00  -1.782610\n",
       "1      4984  00:31:00  00:31:00  -0.008186\n",
       "2      4987  12:50:00  12:50:00  -0.581153\n",
       "3      4988  21:26:00  21:26:00  -1.665860\n",
       "4      4989  22:36:00  22:36:00  -1.693240"
      ]
     },
     "execution_count": 61,
     "metadata": {},
     "output_type": "execute_result"
    }
   ],
   "source": [
    "time_test_df.head()"
   ]
  },
  {
   "cell_type": "code",
   "execution_count": 62,
   "metadata": {
    "collapsed": false
   },
   "outputs": [],
   "source": [
    "time_df[\"gt_time\"] = pd.to_datetime(time_df[\"gt_time\"])\n",
    "time_df[\"pred_time\"] = pd.to_datetime(time_df[\"pred_time\"])\n",
    "\n",
    "time_test_df[\"gt_time\"] = pd.to_datetime(time_test_df[\"gt_time\"])\n",
    "time_test_df[\"pred_time\"] = pd.to_datetime(time_test_df[\"pred_time\"])"
   ]
  },
  {
   "cell_type": "code",
   "execution_count": 63,
   "metadata": {
    "collapsed": true
   },
   "outputs": [],
   "source": [
    "time_df[\"time_label\"] = time_df.apply(lambda x: 1 if x[\"gt_time\"] == x[\"pred_time\"] else 0, axis=1)\n",
    "time_test_df[\"time_label\"] = time_test_df.apply(lambda x: 1 if x[\"gt_time\"] == x[\"pred_time\"] else 0, axis=1)"
   ]
  },
  {
   "cell_type": "code",
   "execution_count": 64,
   "metadata": {
    "collapsed": false
   },
   "outputs": [],
   "source": [
    "# time_test_df[time_test_df[\"pred_date\"] < \"2016\"]\n",
    "\n",
    "# time_df[time_df[\"pred_date\"] < \"2016\"]"
   ]
  },
  {
   "cell_type": "code",
   "execution_count": 65,
   "metadata": {
    "collapsed": false
   },
   "outputs": [],
   "source": [
    "# time_df[\"gt_time\"].apply(lambda x: x.time().hour).value_counts()"
   ]
  },
  {
   "cell_type": "code",
   "execution_count": 66,
   "metadata": {
    "collapsed": false
   },
   "outputs": [],
   "source": [
    "# time_df[\"gt_time\"].apply(lambda x: x.time().minute).value_counts()"
   ]
  },
  {
   "cell_type": "code",
   "execution_count": 67,
   "metadata": {
    "collapsed": true
   },
   "outputs": [],
   "source": [
    "def convert_hour(x):\n",
    "    x = x.time().hour\n",
    "    _str_len = 2\n",
    "    x_len = len(str(x))\n",
    "    diff = _str_len - x_len\n",
    "    if diff>0:\n",
    "        return str((\"0\" * diff)+str(x))\n",
    "    else:\n",
    "        return str(x)\n",
    "    \n",
    "def convert_min(x):\n",
    "    x = x.time().minute\n",
    "    _str_len = 2\n",
    "    x_len = len(str(x))\n",
    "    diff = _str_len - x_len\n",
    "    if diff>0:\n",
    "        return str((\"0\" * diff)+str(x))\n",
    "    else:\n",
    "        return str(x)"
   ]
  },
  {
   "cell_type": "code",
   "execution_count": 68,
   "metadata": {
    "collapsed": false
   },
   "outputs": [],
   "source": [
    "time_df[\"gt_hr_time\"] = time_df[\"gt_time\"].apply(convert_hour)\n",
    "time_df[\"pred_hr_time\"] = time_df[\"pred_time\"].apply(convert_hour)\n",
    "time_df[\"gt_min_time\"] = time_df[\"gt_time\"].apply(convert_min)\n",
    "time_df[\"pred_min_time\"] = time_df[\"pred_time\"].apply(convert_min)\n",
    "\n",
    "\n",
    "time_test_df[\"gt_hr_time\"] = time_test_df[\"gt_time\"].apply(convert_hour)\n",
    "time_test_df[\"pred_hr_time\"] = time_test_df[\"pred_time\"].apply(convert_hour)\n",
    "time_test_df[\"gt_min_time\"] = time_test_df[\"gt_time\"].apply(convert_min)\n",
    "time_test_df[\"pred_min_time\"] = time_test_df[\"pred_time\"].apply(convert_min)"
   ]
  },
  {
   "cell_type": "code",
   "execution_count": 69,
   "metadata": {
    "collapsed": false
   },
   "outputs": [
    {
     "data": {
      "text/html": [
       "<div>\n",
       "<table border=\"1\" class=\"dataframe\">\n",
       "  <thead>\n",
       "    <tr style=\"text-align: right;\">\n",
       "      <th></th>\n",
       "      <th>Image_Id</th>\n",
       "      <th>gt_time</th>\n",
       "      <th>pred_time</th>\n",
       "      <th>conf_time</th>\n",
       "      <th>time_label</th>\n",
       "      <th>gt_hr_time</th>\n",
       "      <th>pred_hr_time</th>\n",
       "      <th>gt_min_time</th>\n",
       "      <th>pred_min_time</th>\n",
       "    </tr>\n",
       "  </thead>\n",
       "  <tbody>\n",
       "    <tr>\n",
       "      <th>0</th>\n",
       "      <td>1</td>\n",
       "      <td>2017-07-19 13:52:00</td>\n",
       "      <td>2017-07-19 13:52:00</td>\n",
       "      <td>-1.180410</td>\n",
       "      <td>1</td>\n",
       "      <td>13</td>\n",
       "      <td>13</td>\n",
       "      <td>52</td>\n",
       "      <td>52</td>\n",
       "    </tr>\n",
       "    <tr>\n",
       "      <th>1</th>\n",
       "      <td>3</td>\n",
       "      <td>2017-07-19 18:52:00</td>\n",
       "      <td>2017-07-19 18:52:00</td>\n",
       "      <td>-0.864236</td>\n",
       "      <td>1</td>\n",
       "      <td>18</td>\n",
       "      <td>18</td>\n",
       "      <td>52</td>\n",
       "      <td>52</td>\n",
       "    </tr>\n",
       "    <tr>\n",
       "      <th>2</th>\n",
       "      <td>4</td>\n",
       "      <td>2017-07-19 15:58:00</td>\n",
       "      <td>2017-07-19 15:58:00</td>\n",
       "      <td>-2.266910</td>\n",
       "      <td>1</td>\n",
       "      <td>15</td>\n",
       "      <td>15</td>\n",
       "      <td>58</td>\n",
       "      <td>58</td>\n",
       "    </tr>\n",
       "    <tr>\n",
       "      <th>3</th>\n",
       "      <td>4</td>\n",
       "      <td>2017-07-19 18:25:00</td>\n",
       "      <td>2017-07-19 18:25:00</td>\n",
       "      <td>-0.810062</td>\n",
       "      <td>1</td>\n",
       "      <td>18</td>\n",
       "      <td>18</td>\n",
       "      <td>25</td>\n",
       "      <td>25</td>\n",
       "    </tr>\n",
       "    <tr>\n",
       "      <th>4</th>\n",
       "      <td>6</td>\n",
       "      <td>2017-07-19 13:47:00</td>\n",
       "      <td>2017-07-19 13:47:00</td>\n",
       "      <td>-0.664796</td>\n",
       "      <td>1</td>\n",
       "      <td>13</td>\n",
       "      <td>13</td>\n",
       "      <td>47</td>\n",
       "      <td>47</td>\n",
       "    </tr>\n",
       "  </tbody>\n",
       "</table>\n",
       "</div>"
      ],
      "text/plain": [
       "   Image_Id             gt_time           pred_time  conf_time  time_label  \\\n",
       "0         1 2017-07-19 13:52:00 2017-07-19 13:52:00  -1.180410           1   \n",
       "1         3 2017-07-19 18:52:00 2017-07-19 18:52:00  -0.864236           1   \n",
       "2         4 2017-07-19 15:58:00 2017-07-19 15:58:00  -2.266910           1   \n",
       "3         4 2017-07-19 18:25:00 2017-07-19 18:25:00  -0.810062           1   \n",
       "4         6 2017-07-19 13:47:00 2017-07-19 13:47:00  -0.664796           1   \n",
       "\n",
       "  gt_hr_time pred_hr_time gt_min_time pred_min_time  \n",
       "0         13           13          52            52  \n",
       "1         18           18          52            52  \n",
       "2         15           15          58            58  \n",
       "3         18           18          25            25  \n",
       "4         13           13          47            47  "
      ]
     },
     "execution_count": 69,
     "metadata": {},
     "output_type": "execute_result"
    }
   ],
   "source": [
    "time_df.head()"
   ]
  },
  {
   "cell_type": "code",
   "execution_count": 70,
   "metadata": {
    "collapsed": false
   },
   "outputs": [],
   "source": [
    "for pos in range(0,2):\n",
    "    time_df[str(pos+1)+\"_digit_hr\"] = time_df[\"gt_hr_time\"].apply(lambda x: x[pos])\n",
    "    time_df[str(pos+1)+\"_digit_hr_pred\"] = time_df[\"pred_hr_time\"].apply(lambda x: x[pos])\n",
    "    \n",
    "    time_df[str(pos+1)+\"_digit_min\"] = time_df[\"gt_min_time\"].apply(lambda x: x[pos])\n",
    "    time_df[str(pos+1)+\"_digit_min_pred\"] = time_df[\"pred_min_time\"].apply(lambda x: x[pos])\n",
    "    \n",
    "    \n",
    "    \n",
    "    time_test_df[str(pos+1)+\"_digit_hr\"] = time_test_df[\"gt_hr_time\"].apply(lambda x: x[pos])\n",
    "    time_test_df[str(pos+1)+\"_digit_hr_pred\"] = time_test_df[\"pred_hr_time\"].apply(lambda x: x[pos])\n",
    "    \n",
    "    time_test_df[str(pos+1)+\"_digit_min\"] = time_test_df[\"gt_min_time\"].apply(lambda x: x[pos])\n",
    "    time_test_df[str(pos+1)+\"_digit_min_pred\"] = time_test_df[\"pred_min_time\"].apply(lambda x: x[pos])"
   ]
  },
  {
   "cell_type": "code",
   "execution_count": 71,
   "metadata": {
    "collapsed": false
   },
   "outputs": [
    {
     "data": {
      "text/html": [
       "<div>\n",
       "<table border=\"1\" class=\"dataframe\">\n",
       "  <thead>\n",
       "    <tr style=\"text-align: right;\">\n",
       "      <th></th>\n",
       "      <th>Image_Id</th>\n",
       "      <th>gt_time</th>\n",
       "      <th>pred_time</th>\n",
       "      <th>conf_time</th>\n",
       "      <th>time_label</th>\n",
       "      <th>gt_hr_time</th>\n",
       "      <th>pred_hr_time</th>\n",
       "      <th>gt_min_time</th>\n",
       "      <th>pred_min_time</th>\n",
       "      <th>1_digit_hr</th>\n",
       "      <th>1_digit_hr_pred</th>\n",
       "      <th>1_digit_min</th>\n",
       "      <th>1_digit_min_pred</th>\n",
       "      <th>2_digit_hr</th>\n",
       "      <th>2_digit_hr_pred</th>\n",
       "      <th>2_digit_min</th>\n",
       "      <th>2_digit_min_pred</th>\n",
       "    </tr>\n",
       "  </thead>\n",
       "  <tbody>\n",
       "    <tr>\n",
       "      <th>0</th>\n",
       "      <td>1</td>\n",
       "      <td>2017-07-19 13:52:00</td>\n",
       "      <td>2017-07-19 13:52:00</td>\n",
       "      <td>-1.180410</td>\n",
       "      <td>1</td>\n",
       "      <td>13</td>\n",
       "      <td>13</td>\n",
       "      <td>52</td>\n",
       "      <td>52</td>\n",
       "      <td>1</td>\n",
       "      <td>1</td>\n",
       "      <td>5</td>\n",
       "      <td>5</td>\n",
       "      <td>3</td>\n",
       "      <td>3</td>\n",
       "      <td>2</td>\n",
       "      <td>2</td>\n",
       "    </tr>\n",
       "    <tr>\n",
       "      <th>1</th>\n",
       "      <td>3</td>\n",
       "      <td>2017-07-19 18:52:00</td>\n",
       "      <td>2017-07-19 18:52:00</td>\n",
       "      <td>-0.864236</td>\n",
       "      <td>1</td>\n",
       "      <td>18</td>\n",
       "      <td>18</td>\n",
       "      <td>52</td>\n",
       "      <td>52</td>\n",
       "      <td>1</td>\n",
       "      <td>1</td>\n",
       "      <td>5</td>\n",
       "      <td>5</td>\n",
       "      <td>8</td>\n",
       "      <td>8</td>\n",
       "      <td>2</td>\n",
       "      <td>2</td>\n",
       "    </tr>\n",
       "    <tr>\n",
       "      <th>2</th>\n",
       "      <td>4</td>\n",
       "      <td>2017-07-19 15:58:00</td>\n",
       "      <td>2017-07-19 15:58:00</td>\n",
       "      <td>-2.266910</td>\n",
       "      <td>1</td>\n",
       "      <td>15</td>\n",
       "      <td>15</td>\n",
       "      <td>58</td>\n",
       "      <td>58</td>\n",
       "      <td>1</td>\n",
       "      <td>1</td>\n",
       "      <td>5</td>\n",
       "      <td>5</td>\n",
       "      <td>5</td>\n",
       "      <td>5</td>\n",
       "      <td>8</td>\n",
       "      <td>8</td>\n",
       "    </tr>\n",
       "    <tr>\n",
       "      <th>3</th>\n",
       "      <td>4</td>\n",
       "      <td>2017-07-19 18:25:00</td>\n",
       "      <td>2017-07-19 18:25:00</td>\n",
       "      <td>-0.810062</td>\n",
       "      <td>1</td>\n",
       "      <td>18</td>\n",
       "      <td>18</td>\n",
       "      <td>25</td>\n",
       "      <td>25</td>\n",
       "      <td>1</td>\n",
       "      <td>1</td>\n",
       "      <td>2</td>\n",
       "      <td>2</td>\n",
       "      <td>8</td>\n",
       "      <td>8</td>\n",
       "      <td>5</td>\n",
       "      <td>5</td>\n",
       "    </tr>\n",
       "    <tr>\n",
       "      <th>4</th>\n",
       "      <td>6</td>\n",
       "      <td>2017-07-19 13:47:00</td>\n",
       "      <td>2017-07-19 13:47:00</td>\n",
       "      <td>-0.664796</td>\n",
       "      <td>1</td>\n",
       "      <td>13</td>\n",
       "      <td>13</td>\n",
       "      <td>47</td>\n",
       "      <td>47</td>\n",
       "      <td>1</td>\n",
       "      <td>1</td>\n",
       "      <td>4</td>\n",
       "      <td>4</td>\n",
       "      <td>3</td>\n",
       "      <td>3</td>\n",
       "      <td>7</td>\n",
       "      <td>7</td>\n",
       "    </tr>\n",
       "  </tbody>\n",
       "</table>\n",
       "</div>"
      ],
      "text/plain": [
       "   Image_Id             gt_time           pred_time  conf_time  time_label  \\\n",
       "0         1 2017-07-19 13:52:00 2017-07-19 13:52:00  -1.180410           1   \n",
       "1         3 2017-07-19 18:52:00 2017-07-19 18:52:00  -0.864236           1   \n",
       "2         4 2017-07-19 15:58:00 2017-07-19 15:58:00  -2.266910           1   \n",
       "3         4 2017-07-19 18:25:00 2017-07-19 18:25:00  -0.810062           1   \n",
       "4         6 2017-07-19 13:47:00 2017-07-19 13:47:00  -0.664796           1   \n",
       "\n",
       "  gt_hr_time pred_hr_time gt_min_time pred_min_time 1_digit_hr  \\\n",
       "0         13           13          52            52          1   \n",
       "1         18           18          52            52          1   \n",
       "2         15           15          58            58          1   \n",
       "3         18           18          25            25          1   \n",
       "4         13           13          47            47          1   \n",
       "\n",
       "  1_digit_hr_pred 1_digit_min 1_digit_min_pred 2_digit_hr 2_digit_hr_pred  \\\n",
       "0               1           5                5          3               3   \n",
       "1               1           5                5          8               8   \n",
       "2               1           5                5          5               5   \n",
       "3               1           2                2          8               8   \n",
       "4               1           4                4          3               3   \n",
       "\n",
       "  2_digit_min 2_digit_min_pred  \n",
       "0           2                2  \n",
       "1           2                2  \n",
       "2           8                8  \n",
       "3           5                5  \n",
       "4           7                7  "
      ]
     },
     "execution_count": 71,
     "metadata": {},
     "output_type": "execute_result"
    }
   ],
   "source": [
    "time_df.head()"
   ]
  },
  {
   "cell_type": "code",
   "execution_count": 72,
   "metadata": {
    "collapsed": false
   },
   "outputs": [
    {
     "data": {
      "text/html": [
       "<div>\n",
       "<table border=\"1\" class=\"dataframe\">\n",
       "  <thead>\n",
       "    <tr style=\"text-align: right;\">\n",
       "      <th></th>\n",
       "      <th>Image_Id</th>\n",
       "      <th>gt_time</th>\n",
       "      <th>pred_time</th>\n",
       "      <th>conf_time</th>\n",
       "      <th>time_label</th>\n",
       "      <th>gt_hr_time</th>\n",
       "      <th>pred_hr_time</th>\n",
       "      <th>gt_min_time</th>\n",
       "      <th>pred_min_time</th>\n",
       "      <th>1_digit_hr</th>\n",
       "      <th>1_digit_hr_pred</th>\n",
       "      <th>1_digit_min</th>\n",
       "      <th>1_digit_min_pred</th>\n",
       "      <th>2_digit_hr</th>\n",
       "      <th>2_digit_hr_pred</th>\n",
       "      <th>2_digit_min</th>\n",
       "      <th>2_digit_min_pred</th>\n",
       "    </tr>\n",
       "  </thead>\n",
       "  <tbody>\n",
       "    <tr>\n",
       "      <th>0</th>\n",
       "      <td>4983</td>\n",
       "      <td>2017-07-19 22:59:00</td>\n",
       "      <td>2017-07-19 22:59:00</td>\n",
       "      <td>-1.782610</td>\n",
       "      <td>1</td>\n",
       "      <td>22</td>\n",
       "      <td>22</td>\n",
       "      <td>59</td>\n",
       "      <td>59</td>\n",
       "      <td>2</td>\n",
       "      <td>2</td>\n",
       "      <td>5</td>\n",
       "      <td>5</td>\n",
       "      <td>2</td>\n",
       "      <td>2</td>\n",
       "      <td>9</td>\n",
       "      <td>9</td>\n",
       "    </tr>\n",
       "    <tr>\n",
       "      <th>1</th>\n",
       "      <td>4984</td>\n",
       "      <td>2017-07-19 00:31:00</td>\n",
       "      <td>2017-07-19 00:31:00</td>\n",
       "      <td>-0.008186</td>\n",
       "      <td>1</td>\n",
       "      <td>00</td>\n",
       "      <td>00</td>\n",
       "      <td>31</td>\n",
       "      <td>31</td>\n",
       "      <td>0</td>\n",
       "      <td>0</td>\n",
       "      <td>3</td>\n",
       "      <td>3</td>\n",
       "      <td>0</td>\n",
       "      <td>0</td>\n",
       "      <td>1</td>\n",
       "      <td>1</td>\n",
       "    </tr>\n",
       "    <tr>\n",
       "      <th>2</th>\n",
       "      <td>4987</td>\n",
       "      <td>2017-07-19 12:50:00</td>\n",
       "      <td>2017-07-19 12:50:00</td>\n",
       "      <td>-0.581153</td>\n",
       "      <td>1</td>\n",
       "      <td>12</td>\n",
       "      <td>12</td>\n",
       "      <td>50</td>\n",
       "      <td>50</td>\n",
       "      <td>1</td>\n",
       "      <td>1</td>\n",
       "      <td>5</td>\n",
       "      <td>5</td>\n",
       "      <td>2</td>\n",
       "      <td>2</td>\n",
       "      <td>0</td>\n",
       "      <td>0</td>\n",
       "    </tr>\n",
       "    <tr>\n",
       "      <th>3</th>\n",
       "      <td>4988</td>\n",
       "      <td>2017-07-19 21:26:00</td>\n",
       "      <td>2017-07-19 21:26:00</td>\n",
       "      <td>-1.665860</td>\n",
       "      <td>1</td>\n",
       "      <td>21</td>\n",
       "      <td>21</td>\n",
       "      <td>26</td>\n",
       "      <td>26</td>\n",
       "      <td>2</td>\n",
       "      <td>2</td>\n",
       "      <td>2</td>\n",
       "      <td>2</td>\n",
       "      <td>1</td>\n",
       "      <td>1</td>\n",
       "      <td>6</td>\n",
       "      <td>6</td>\n",
       "    </tr>\n",
       "    <tr>\n",
       "      <th>4</th>\n",
       "      <td>4989</td>\n",
       "      <td>2017-07-19 22:36:00</td>\n",
       "      <td>2017-07-19 22:36:00</td>\n",
       "      <td>-1.693240</td>\n",
       "      <td>1</td>\n",
       "      <td>22</td>\n",
       "      <td>22</td>\n",
       "      <td>36</td>\n",
       "      <td>36</td>\n",
       "      <td>2</td>\n",
       "      <td>2</td>\n",
       "      <td>3</td>\n",
       "      <td>3</td>\n",
       "      <td>2</td>\n",
       "      <td>2</td>\n",
       "      <td>6</td>\n",
       "      <td>6</td>\n",
       "    </tr>\n",
       "  </tbody>\n",
       "</table>\n",
       "</div>"
      ],
      "text/plain": [
       "   Image_Id             gt_time           pred_time  conf_time  time_label  \\\n",
       "0      4983 2017-07-19 22:59:00 2017-07-19 22:59:00  -1.782610           1   \n",
       "1      4984 2017-07-19 00:31:00 2017-07-19 00:31:00  -0.008186           1   \n",
       "2      4987 2017-07-19 12:50:00 2017-07-19 12:50:00  -0.581153           1   \n",
       "3      4988 2017-07-19 21:26:00 2017-07-19 21:26:00  -1.665860           1   \n",
       "4      4989 2017-07-19 22:36:00 2017-07-19 22:36:00  -1.693240           1   \n",
       "\n",
       "  gt_hr_time pred_hr_time gt_min_time pred_min_time 1_digit_hr  \\\n",
       "0         22           22          59            59          2   \n",
       "1         00           00          31            31          0   \n",
       "2         12           12          50            50          1   \n",
       "3         21           21          26            26          2   \n",
       "4         22           22          36            36          2   \n",
       "\n",
       "  1_digit_hr_pred 1_digit_min 1_digit_min_pred 2_digit_hr 2_digit_hr_pred  \\\n",
       "0               2           5                5          2               2   \n",
       "1               0           3                3          0               0   \n",
       "2               1           5                5          2               2   \n",
       "3               2           2                2          1               1   \n",
       "4               2           3                3          2               2   \n",
       "\n",
       "  2_digit_min 2_digit_min_pred  \n",
       "0           9                9  \n",
       "1           1                1  \n",
       "2           0                0  \n",
       "3           6                6  \n",
       "4           6                6  "
      ]
     },
     "execution_count": 72,
     "metadata": {},
     "output_type": "execute_result"
    }
   ],
   "source": [
    "time_test_df.head()"
   ]
  },
  {
   "cell_type": "code",
   "execution_count": 73,
   "metadata": {
    "collapsed": true
   },
   "outputs": [],
   "source": [
    "time_df[\"conf_time\"] = time_df[\"conf_time\"]*-1\n",
    "time_test_df[\"conf_time\"] = time_test_df[\"conf_time\"]*-1\n",
    "time_df[\"conf_time\"]=(time_df[\"conf_time\"]-time_df[\"conf_time\"].mean())/time_df[\"conf_time\"].std()\n",
    "time_test_df[\"conf_time\"]=(time_test_df[\"conf_time\"]-time_test_df[\"conf_time\"].mean())/time_test_df[\"conf_time\"].std()"
   ]
  },
  {
   "cell_type": "code",
   "execution_count": 74,
   "metadata": {
    "collapsed": false
   },
   "outputs": [],
   "source": [
    "X_time = time_df.drop([\"Image_Id\", \"gt_time\", \"pred_time\", \"gt_hr_time\", \"pred_hr_time\", \"gt_min_time\", \"pred_min_time\", \"time_label\"],axis=1)\n",
    "X_time_test = time_test_df.drop([\"Image_Id\", \"gt_time\", \"pred_time\", \"gt_hr_time\", \"pred_hr_time\", \"gt_min_time\", \"pred_min_time\", \"time_label\"],axis=1)"
   ]
  },
  {
   "cell_type": "code",
   "execution_count": 75,
   "metadata": {
    "collapsed": false
   },
   "outputs": [
    {
     "data": {
      "text/html": [
       "<div>\n",
       "<table border=\"1\" class=\"dataframe\">\n",
       "  <thead>\n",
       "    <tr style=\"text-align: right;\">\n",
       "      <th></th>\n",
       "      <th>conf_time</th>\n",
       "      <th>1_digit_hr</th>\n",
       "      <th>1_digit_hr_pred</th>\n",
       "      <th>1_digit_min</th>\n",
       "      <th>1_digit_min_pred</th>\n",
       "      <th>2_digit_hr</th>\n",
       "      <th>2_digit_hr_pred</th>\n",
       "      <th>2_digit_min</th>\n",
       "      <th>2_digit_min_pred</th>\n",
       "    </tr>\n",
       "  </thead>\n",
       "  <tbody>\n",
       "    <tr>\n",
       "      <th>0</th>\n",
       "      <td>0.559181</td>\n",
       "      <td>1</td>\n",
       "      <td>1</td>\n",
       "      <td>5</td>\n",
       "      <td>5</td>\n",
       "      <td>3</td>\n",
       "      <td>3</td>\n",
       "      <td>2</td>\n",
       "      <td>2</td>\n",
       "    </tr>\n",
       "    <tr>\n",
       "      <th>1</th>\n",
       "      <td>0.037531</td>\n",
       "      <td>1</td>\n",
       "      <td>1</td>\n",
       "      <td>5</td>\n",
       "      <td>5</td>\n",
       "      <td>8</td>\n",
       "      <td>8</td>\n",
       "      <td>2</td>\n",
       "      <td>2</td>\n",
       "    </tr>\n",
       "    <tr>\n",
       "      <th>2</th>\n",
       "      <td>2.351778</td>\n",
       "      <td>1</td>\n",
       "      <td>1</td>\n",
       "      <td>5</td>\n",
       "      <td>5</td>\n",
       "      <td>5</td>\n",
       "      <td>5</td>\n",
       "      <td>8</td>\n",
       "      <td>8</td>\n",
       "    </tr>\n",
       "    <tr>\n",
       "      <th>3</th>\n",
       "      <td>-0.051849</td>\n",
       "      <td>1</td>\n",
       "      <td>1</td>\n",
       "      <td>2</td>\n",
       "      <td>2</td>\n",
       "      <td>8</td>\n",
       "      <td>8</td>\n",
       "      <td>5</td>\n",
       "      <td>5</td>\n",
       "    </tr>\n",
       "    <tr>\n",
       "      <th>4</th>\n",
       "      <td>-0.291521</td>\n",
       "      <td>1</td>\n",
       "      <td>1</td>\n",
       "      <td>4</td>\n",
       "      <td>4</td>\n",
       "      <td>3</td>\n",
       "      <td>3</td>\n",
       "      <td>7</td>\n",
       "      <td>7</td>\n",
       "    </tr>\n",
       "  </tbody>\n",
       "</table>\n",
       "</div>"
      ],
      "text/plain": [
       "   conf_time 1_digit_hr 1_digit_hr_pred 1_digit_min 1_digit_min_pred  \\\n",
       "0   0.559181          1               1           5                5   \n",
       "1   0.037531          1               1           5                5   \n",
       "2   2.351778          1               1           5                5   \n",
       "3  -0.051849          1               1           2                2   \n",
       "4  -0.291521          1               1           4                4   \n",
       "\n",
       "  2_digit_hr 2_digit_hr_pred 2_digit_min 2_digit_min_pred  \n",
       "0          3               3           2                2  \n",
       "1          8               8           2                2  \n",
       "2          5               5           8                8  \n",
       "3          8               8           5                5  \n",
       "4          3               3           7                7  "
      ]
     },
     "execution_count": 75,
     "metadata": {},
     "output_type": "execute_result"
    }
   ],
   "source": [
    "X_time.head()"
   ]
  },
  {
   "cell_type": "code",
   "execution_count": 76,
   "metadata": {
    "collapsed": false
   },
   "outputs": [
    {
     "data": {
      "text/html": [
       "<div>\n",
       "<table border=\"1\" class=\"dataframe\">\n",
       "  <thead>\n",
       "    <tr style=\"text-align: right;\">\n",
       "      <th></th>\n",
       "      <th>conf_time</th>\n",
       "      <th>1_digit_hr</th>\n",
       "      <th>1_digit_hr_pred</th>\n",
       "      <th>1_digit_min</th>\n",
       "      <th>1_digit_min_pred</th>\n",
       "      <th>2_digit_hr</th>\n",
       "      <th>2_digit_hr_pred</th>\n",
       "      <th>2_digit_min</th>\n",
       "      <th>2_digit_min_pred</th>\n",
       "    </tr>\n",
       "  </thead>\n",
       "  <tbody>\n",
       "    <tr>\n",
       "      <th>0</th>\n",
       "      <td>1.709258</td>\n",
       "      <td>2</td>\n",
       "      <td>2</td>\n",
       "      <td>5</td>\n",
       "      <td>5</td>\n",
       "      <td>2</td>\n",
       "      <td>2</td>\n",
       "      <td>9</td>\n",
       "      <td>9</td>\n",
       "    </tr>\n",
       "    <tr>\n",
       "      <th>1</th>\n",
       "      <td>-1.413284</td>\n",
       "      <td>0</td>\n",
       "      <td>0</td>\n",
       "      <td>3</td>\n",
       "      <td>3</td>\n",
       "      <td>0</td>\n",
       "      <td>0</td>\n",
       "      <td>1</td>\n",
       "      <td>1</td>\n",
       "    </tr>\n",
       "    <tr>\n",
       "      <th>2</th>\n",
       "      <td>-0.405006</td>\n",
       "      <td>1</td>\n",
       "      <td>1</td>\n",
       "      <td>5</td>\n",
       "      <td>5</td>\n",
       "      <td>2</td>\n",
       "      <td>2</td>\n",
       "      <td>0</td>\n",
       "      <td>0</td>\n",
       "    </tr>\n",
       "    <tr>\n",
       "      <th>3</th>\n",
       "      <td>1.503807</td>\n",
       "      <td>2</td>\n",
       "      <td>2</td>\n",
       "      <td>2</td>\n",
       "      <td>2</td>\n",
       "      <td>1</td>\n",
       "      <td>1</td>\n",
       "      <td>6</td>\n",
       "      <td>6</td>\n",
       "    </tr>\n",
       "    <tr>\n",
       "      <th>4</th>\n",
       "      <td>1.551989</td>\n",
       "      <td>2</td>\n",
       "      <td>2</td>\n",
       "      <td>3</td>\n",
       "      <td>3</td>\n",
       "      <td>2</td>\n",
       "      <td>2</td>\n",
       "      <td>6</td>\n",
       "      <td>6</td>\n",
       "    </tr>\n",
       "  </tbody>\n",
       "</table>\n",
       "</div>"
      ],
      "text/plain": [
       "   conf_time 1_digit_hr 1_digit_hr_pred 1_digit_min 1_digit_min_pred  \\\n",
       "0   1.709258          2               2           5                5   \n",
       "1  -1.413284          0               0           3                3   \n",
       "2  -0.405006          1               1           5                5   \n",
       "3   1.503807          2               2           2                2   \n",
       "4   1.551989          2               2           3                3   \n",
       "\n",
       "  2_digit_hr 2_digit_hr_pred 2_digit_min 2_digit_min_pred  \n",
       "0          2               2           9                9  \n",
       "1          0               0           1                1  \n",
       "2          2               2           0                0  \n",
       "3          1               1           6                6  \n",
       "4          2               2           6                6  "
      ]
     },
     "execution_count": 76,
     "metadata": {},
     "output_type": "execute_result"
    }
   ],
   "source": [
    "X_time_test.head()"
   ]
  },
  {
   "cell_type": "code",
   "execution_count": 77,
   "metadata": {
    "collapsed": true
   },
   "outputs": [],
   "source": [
    "y_time = time_df[\"time_label\"]\n",
    "y_time_test = time_test_df[\"time_label\"]"
   ]
  },
  {
   "cell_type": "code",
   "execution_count": 78,
   "metadata": {
    "collapsed": true
   },
   "outputs": [],
   "source": [
    "rf_time = RandomForestClassifier()"
   ]
  },
  {
   "cell_type": "code",
   "execution_count": 79,
   "metadata": {
    "collapsed": false
   },
   "outputs": [
    {
     "data": {
      "text/plain": [
       "RandomForestClassifier(bootstrap=True, class_weight=None, criterion='gini',\n",
       "            max_depth=None, max_features='auto', max_leaf_nodes=None,\n",
       "            min_impurity_split=1e-07, min_samples_leaf=1,\n",
       "            min_samples_split=2, min_weight_fraction_leaf=0.0,\n",
       "            n_estimators=10, n_jobs=1, oob_score=False, random_state=None,\n",
       "            verbose=0, warm_start=False)"
      ]
     },
     "execution_count": 79,
     "metadata": {},
     "output_type": "execute_result"
    }
   ],
   "source": [
    "rf_time.fit(X_time,y_time)"
   ]
  },
  {
   "cell_type": "code",
   "execution_count": 80,
   "metadata": {
    "collapsed": false
   },
   "outputs": [
    {
     "name": "stdout",
     "output_type": "stream",
     "text": [
      "Accuracy score of model is: 0.9625\n",
      "F1 score of model is: 0.978102189781\n",
      "Precision score of model is: 0.959427207637\n",
      "Recall score of model is: 0.997518610422\n"
     ]
    }
   ],
   "source": [
    "get_scores(rf_time, y_time_test, X_time_test)"
   ]
  },
  {
   "cell_type": "code",
   "execution_count": 81,
   "metadata": {
    "collapsed": false
   },
   "outputs": [
    {
     "data": {
      "text/plain": [
       "array([ 0.13384059,  0.09891302,  0.04702648,  0.12325527,  0.0651326 ,\n",
       "        0.13573163,  0.08171491,  0.22653671,  0.08784879])"
      ]
     },
     "execution_count": 81,
     "metadata": {},
     "output_type": "execute_result"
    }
   ],
   "source": [
    "rf_time.feature_importances_"
   ]
  },
  {
   "cell_type": "markdown",
   "metadata": {},
   "source": [
    "# Predicting Date Variable"
   ]
  },
  {
   "cell_type": "code",
   "execution_count": 82,
   "metadata": {
    "collapsed": false
   },
   "outputs": [
    {
     "data": {
      "text/plain": [
       "Index(['Image_Id', 'gt_total', 'gt_date', 'gt_time', 'pred_total', 'pred_date',\n",
       "       'pred_time', 'conf_total', 'conf_time', 'conf_date'],\n",
       "      dtype='object')"
      ]
     },
     "execution_count": 82,
     "metadata": {},
     "output_type": "execute_result"
    }
   ],
   "source": [
    "df.columns"
   ]
  },
  {
   "cell_type": "code",
   "execution_count": 83,
   "metadata": {
    "collapsed": true
   },
   "outputs": [],
   "source": [
    "date_df = df[[\"Image_Id\", \"gt_date\", \"pred_date\", \"conf_date\"]]"
   ]
  },
  {
   "cell_type": "code",
   "execution_count": 84,
   "metadata": {
    "collapsed": true
   },
   "outputs": [],
   "source": [
    "date_df_test = test[[\"Image_Id\", \"gt_date\", \"pred_date\", \"conf_date\"]]"
   ]
  },
  {
   "cell_type": "code",
   "execution_count": 85,
   "metadata": {
    "collapsed": false
   },
   "outputs": [
    {
     "data": {
      "text/html": [
       "<div>\n",
       "<table border=\"1\" class=\"dataframe\">\n",
       "  <thead>\n",
       "    <tr style=\"text-align: right;\">\n",
       "      <th></th>\n",
       "      <th>Image_Id</th>\n",
       "      <th>gt_date</th>\n",
       "      <th>pred_date</th>\n",
       "      <th>conf_date</th>\n",
       "    </tr>\n",
       "  </thead>\n",
       "  <tbody>\n",
       "    <tr>\n",
       "      <th>0</th>\n",
       "      <td>1</td>\n",
       "      <td>2016-09-11</td>\n",
       "      <td>2016-03-11</td>\n",
       "      <td>-0.008496</td>\n",
       "    </tr>\n",
       "    <tr>\n",
       "      <th>1</th>\n",
       "      <td>3</td>\n",
       "      <td>2016-09-23</td>\n",
       "      <td>2016-09-23</td>\n",
       "      <td>-0.018932</td>\n",
       "    </tr>\n",
       "    <tr>\n",
       "      <th>2</th>\n",
       "      <td>4</td>\n",
       "      <td>2016-10-02</td>\n",
       "      <td>2017-10-18</td>\n",
       "      <td>-0.978772</td>\n",
       "    </tr>\n",
       "    <tr>\n",
       "      <th>3</th>\n",
       "      <td>4</td>\n",
       "      <td>2016-09-26</td>\n",
       "      <td>2017-09-26</td>\n",
       "      <td>-0.123047</td>\n",
       "    </tr>\n",
       "    <tr>\n",
       "      <th>4</th>\n",
       "      <td>6</td>\n",
       "      <td>2016-09-19</td>\n",
       "      <td>2016-08-19</td>\n",
       "      <td>-0.003986</td>\n",
       "    </tr>\n",
       "  </tbody>\n",
       "</table>\n",
       "</div>"
      ],
      "text/plain": [
       "   Image_Id    gt_date  pred_date  conf_date\n",
       "0         1 2016-09-11 2016-03-11  -0.008496\n",
       "1         3 2016-09-23 2016-09-23  -0.018932\n",
       "2         4 2016-10-02 2017-10-18  -0.978772\n",
       "3         4 2016-09-26 2017-09-26  -0.123047\n",
       "4         6 2016-09-19 2016-08-19  -0.003986"
      ]
     },
     "execution_count": 85,
     "metadata": {},
     "output_type": "execute_result"
    }
   ],
   "source": [
    "date_df.head()"
   ]
  },
  {
   "cell_type": "code",
   "execution_count": 86,
   "metadata": {
    "collapsed": true
   },
   "outputs": [],
   "source": [
    "date_df[\"gt_date\"] = pd.to_datetime(date_df[\"gt_date\"])\n",
    "date_df[\"pred_date\"] = pd.to_datetime(date_df[\"pred_date\"])\n",
    "\n",
    "date_df_test[\"gt_date\"] = pd.to_datetime(date_df_test[\"gt_date\"])\n",
    "date_df_test[\"pred_date\"] = pd.to_datetime(date_df_test[\"pred_date\"])"
   ]
  },
  {
   "cell_type": "code",
   "execution_count": 87,
   "metadata": {
    "collapsed": true
   },
   "outputs": [],
   "source": [
    "def convert_mon(x):\n",
    "    x = str(x)\n",
    "    _str_len = 2\n",
    "    x_len = len(str(x))\n",
    "    diff = _str_len - x_len\n",
    "    if diff>0:\n",
    "        return str((\"0\" * diff)+str(x))\n",
    "    else:\n",
    "        return str(x)\n",
    "    \n",
    "def convert_day(x):\n",
    "    x = str(x)\n",
    "    _str_len = 2\n",
    "    x_len = len(str(x))\n",
    "    diff = _str_len - x_len\n",
    "    if diff>0:\n",
    "        return str((\"0\" * diff)+str(x))\n",
    "    else:\n",
    "        return str(x)\n",
    "\n",
    "def convert_year(x):\n",
    "    x = str(x)\n",
    "    _str_len = 2\n",
    "    return str(str(x)[2:])"
   ]
  },
  {
   "cell_type": "code",
   "execution_count": 88,
   "metadata": {
    "collapsed": true
   },
   "outputs": [],
   "source": [
    "date_df[\"gt_mon\"] = pd.DatetimeIndex(date_df[\"gt_date\"]).month\n",
    "date_df[\"gt_day\"] = pd.DatetimeIndex(date_df[\"gt_date\"]).day\n",
    "date_df[\"gt_year\"] = pd.DatetimeIndex(date_df[\"gt_date\"]).year\n",
    "\n",
    "date_df_test[\"gt_mon\"] = pd.DatetimeIndex(date_df_test[\"gt_date\"]).month\n",
    "date_df_test[\"gt_day\"] = pd.DatetimeIndex(date_df_test[\"gt_date\"]).day\n",
    "date_df_test[\"gt_year\"] = pd.DatetimeIndex(date_df_test[\"gt_date\"]).year"
   ]
  },
  {
   "cell_type": "code",
   "execution_count": 89,
   "metadata": {
    "collapsed": true
   },
   "outputs": [],
   "source": [
    "date_df[\"pred_mon\"] = pd.DatetimeIndex(date_df[\"pred_date\"]).month\n",
    "date_df[\"pred_day\"] = pd.DatetimeIndex(date_df[\"pred_date\"]).day\n",
    "date_df[\"pred_year\"] = pd.DatetimeIndex(date_df[\"pred_date\"]).year\n",
    "\n",
    "date_df_test[\"pred_mon\"] = pd.DatetimeIndex(date_df_test[\"pred_date\"]).month\n",
    "date_df_test[\"pred_day\"] = pd.DatetimeIndex(date_df_test[\"pred_date\"]).day\n",
    "date_df_test[\"pred_year\"] = pd.DatetimeIndex(date_df_test[\"pred_date\"]).year"
   ]
  },
  {
   "cell_type": "code",
   "execution_count": 90,
   "metadata": {
    "collapsed": false
   },
   "outputs": [
    {
     "data": {
      "text/html": [
       "<div>\n",
       "<table border=\"1\" class=\"dataframe\">\n",
       "  <thead>\n",
       "    <tr style=\"text-align: right;\">\n",
       "      <th></th>\n",
       "      <th>Image_Id</th>\n",
       "      <th>gt_date</th>\n",
       "      <th>pred_date</th>\n",
       "      <th>conf_date</th>\n",
       "      <th>gt_mon</th>\n",
       "      <th>gt_day</th>\n",
       "      <th>gt_year</th>\n",
       "      <th>pred_mon</th>\n",
       "      <th>pred_day</th>\n",
       "      <th>pred_year</th>\n",
       "    </tr>\n",
       "  </thead>\n",
       "  <tbody>\n",
       "    <tr>\n",
       "      <th>0</th>\n",
       "      <td>1</td>\n",
       "      <td>2016-09-11</td>\n",
       "      <td>2016-03-11</td>\n",
       "      <td>-0.008496</td>\n",
       "      <td>9</td>\n",
       "      <td>11</td>\n",
       "      <td>2016</td>\n",
       "      <td>3</td>\n",
       "      <td>11</td>\n",
       "      <td>2016</td>\n",
       "    </tr>\n",
       "    <tr>\n",
       "      <th>1</th>\n",
       "      <td>3</td>\n",
       "      <td>2016-09-23</td>\n",
       "      <td>2016-09-23</td>\n",
       "      <td>-0.018932</td>\n",
       "      <td>9</td>\n",
       "      <td>23</td>\n",
       "      <td>2016</td>\n",
       "      <td>9</td>\n",
       "      <td>23</td>\n",
       "      <td>2016</td>\n",
       "    </tr>\n",
       "    <tr>\n",
       "      <th>2</th>\n",
       "      <td>4</td>\n",
       "      <td>2016-10-02</td>\n",
       "      <td>2017-10-18</td>\n",
       "      <td>-0.978772</td>\n",
       "      <td>10</td>\n",
       "      <td>2</td>\n",
       "      <td>2016</td>\n",
       "      <td>10</td>\n",
       "      <td>18</td>\n",
       "      <td>2017</td>\n",
       "    </tr>\n",
       "    <tr>\n",
       "      <th>3</th>\n",
       "      <td>4</td>\n",
       "      <td>2016-09-26</td>\n",
       "      <td>2017-09-26</td>\n",
       "      <td>-0.123047</td>\n",
       "      <td>9</td>\n",
       "      <td>26</td>\n",
       "      <td>2016</td>\n",
       "      <td>9</td>\n",
       "      <td>26</td>\n",
       "      <td>2017</td>\n",
       "    </tr>\n",
       "    <tr>\n",
       "      <th>4</th>\n",
       "      <td>6</td>\n",
       "      <td>2016-09-19</td>\n",
       "      <td>2016-08-19</td>\n",
       "      <td>-0.003986</td>\n",
       "      <td>9</td>\n",
       "      <td>19</td>\n",
       "      <td>2016</td>\n",
       "      <td>8</td>\n",
       "      <td>19</td>\n",
       "      <td>2016</td>\n",
       "    </tr>\n",
       "  </tbody>\n",
       "</table>\n",
       "</div>"
      ],
      "text/plain": [
       "   Image_Id    gt_date  pred_date  conf_date  gt_mon  gt_day  gt_year  \\\n",
       "0         1 2016-09-11 2016-03-11  -0.008496       9      11     2016   \n",
       "1         3 2016-09-23 2016-09-23  -0.018932       9      23     2016   \n",
       "2         4 2016-10-02 2017-10-18  -0.978772      10       2     2016   \n",
       "3         4 2016-09-26 2017-09-26  -0.123047       9      26     2016   \n",
       "4         6 2016-09-19 2016-08-19  -0.003986       9      19     2016   \n",
       "\n",
       "   pred_mon  pred_day  pred_year  \n",
       "0         3        11       2016  \n",
       "1         9        23       2016  \n",
       "2        10        18       2017  \n",
       "3         9        26       2017  \n",
       "4         8        19       2016  "
      ]
     },
     "execution_count": 90,
     "metadata": {},
     "output_type": "execute_result"
    }
   ],
   "source": [
    "date_df.head()"
   ]
  },
  {
   "cell_type": "code",
   "execution_count": 91,
   "metadata": {
    "collapsed": false
   },
   "outputs": [],
   "source": [
    "date_df[\"gt_mon_date\"] = date_df[\"gt_mon\"].apply(convert_mon)\n",
    "date_df[\"pred_mon_date\"] = date_df[\"pred_mon\"].apply(convert_mon)\n",
    "date_df[\"gt_day_date\"] = date_df[\"gt_day\"].apply(convert_day)\n",
    "date_df[\"pred_day_date\"] = date_df[\"pred_day\"].apply(convert_day)\n",
    "date_df[\"gt_year_date\"] = date_df[\"gt_year\"].apply(convert_year)\n",
    "date_df[\"pred_year_date\"] = date_df[\"pred_year\"].apply(convert_year)\n",
    "\n",
    "\n",
    "\n",
    "date_df_test[\"gt_mon_date\"] = date_df_test[\"gt_mon\"].apply(convert_mon)\n",
    "date_df_test[\"pred_mon_date\"] = date_df_test[\"pred_mon\"].apply(convert_mon)\n",
    "date_df_test[\"gt_day_date\"] = date_df_test[\"gt_day\"].apply(convert_day)\n",
    "date_df_test[\"pred_day_date\"] = date_df_test[\"pred_day\"].apply(convert_day)\n",
    "date_df_test[\"gt_year_date\"] = date_df_test[\"gt_date\"].apply(convert_year)\n",
    "date_df_test[\"pred_year_date\"] = date_df_test[\"gt_year\"].apply(convert_year)\n"
   ]
  },
  {
   "cell_type": "code",
   "execution_count": 92,
   "metadata": {
    "collapsed": false
   },
   "outputs": [
    {
     "data": {
      "text/html": [
       "<div>\n",
       "<table border=\"1\" class=\"dataframe\">\n",
       "  <thead>\n",
       "    <tr style=\"text-align: right;\">\n",
       "      <th></th>\n",
       "      <th>Image_Id</th>\n",
       "      <th>gt_date</th>\n",
       "      <th>pred_date</th>\n",
       "      <th>conf_date</th>\n",
       "      <th>gt_mon</th>\n",
       "      <th>gt_day</th>\n",
       "      <th>gt_year</th>\n",
       "      <th>pred_mon</th>\n",
       "      <th>pred_day</th>\n",
       "      <th>pred_year</th>\n",
       "      <th>gt_mon_date</th>\n",
       "      <th>pred_mon_date</th>\n",
       "      <th>gt_day_date</th>\n",
       "      <th>pred_day_date</th>\n",
       "      <th>gt_year_date</th>\n",
       "      <th>pred_year_date</th>\n",
       "    </tr>\n",
       "  </thead>\n",
       "  <tbody>\n",
       "    <tr>\n",
       "      <th>0</th>\n",
       "      <td>1</td>\n",
       "      <td>2016-09-11</td>\n",
       "      <td>2016-03-11</td>\n",
       "      <td>-0.008496</td>\n",
       "      <td>9</td>\n",
       "      <td>11</td>\n",
       "      <td>2016</td>\n",
       "      <td>3</td>\n",
       "      <td>11</td>\n",
       "      <td>2016</td>\n",
       "      <td>09</td>\n",
       "      <td>03</td>\n",
       "      <td>11</td>\n",
       "      <td>11</td>\n",
       "      <td>16</td>\n",
       "      <td>16</td>\n",
       "    </tr>\n",
       "    <tr>\n",
       "      <th>1</th>\n",
       "      <td>3</td>\n",
       "      <td>2016-09-23</td>\n",
       "      <td>2016-09-23</td>\n",
       "      <td>-0.018932</td>\n",
       "      <td>9</td>\n",
       "      <td>23</td>\n",
       "      <td>2016</td>\n",
       "      <td>9</td>\n",
       "      <td>23</td>\n",
       "      <td>2016</td>\n",
       "      <td>09</td>\n",
       "      <td>09</td>\n",
       "      <td>23</td>\n",
       "      <td>23</td>\n",
       "      <td>16</td>\n",
       "      <td>16</td>\n",
       "    </tr>\n",
       "    <tr>\n",
       "      <th>2</th>\n",
       "      <td>4</td>\n",
       "      <td>2016-10-02</td>\n",
       "      <td>2017-10-18</td>\n",
       "      <td>-0.978772</td>\n",
       "      <td>10</td>\n",
       "      <td>2</td>\n",
       "      <td>2016</td>\n",
       "      <td>10</td>\n",
       "      <td>18</td>\n",
       "      <td>2017</td>\n",
       "      <td>10</td>\n",
       "      <td>10</td>\n",
       "      <td>02</td>\n",
       "      <td>18</td>\n",
       "      <td>16</td>\n",
       "      <td>17</td>\n",
       "    </tr>\n",
       "    <tr>\n",
       "      <th>3</th>\n",
       "      <td>4</td>\n",
       "      <td>2016-09-26</td>\n",
       "      <td>2017-09-26</td>\n",
       "      <td>-0.123047</td>\n",
       "      <td>9</td>\n",
       "      <td>26</td>\n",
       "      <td>2016</td>\n",
       "      <td>9</td>\n",
       "      <td>26</td>\n",
       "      <td>2017</td>\n",
       "      <td>09</td>\n",
       "      <td>09</td>\n",
       "      <td>26</td>\n",
       "      <td>26</td>\n",
       "      <td>16</td>\n",
       "      <td>17</td>\n",
       "    </tr>\n",
       "    <tr>\n",
       "      <th>4</th>\n",
       "      <td>6</td>\n",
       "      <td>2016-09-19</td>\n",
       "      <td>2016-08-19</td>\n",
       "      <td>-0.003986</td>\n",
       "      <td>9</td>\n",
       "      <td>19</td>\n",
       "      <td>2016</td>\n",
       "      <td>8</td>\n",
       "      <td>19</td>\n",
       "      <td>2016</td>\n",
       "      <td>09</td>\n",
       "      <td>08</td>\n",
       "      <td>19</td>\n",
       "      <td>19</td>\n",
       "      <td>16</td>\n",
       "      <td>16</td>\n",
       "    </tr>\n",
       "  </tbody>\n",
       "</table>\n",
       "</div>"
      ],
      "text/plain": [
       "   Image_Id    gt_date  pred_date  conf_date  gt_mon  gt_day  gt_year  \\\n",
       "0         1 2016-09-11 2016-03-11  -0.008496       9      11     2016   \n",
       "1         3 2016-09-23 2016-09-23  -0.018932       9      23     2016   \n",
       "2         4 2016-10-02 2017-10-18  -0.978772      10       2     2016   \n",
       "3         4 2016-09-26 2017-09-26  -0.123047       9      26     2016   \n",
       "4         6 2016-09-19 2016-08-19  -0.003986       9      19     2016   \n",
       "\n",
       "   pred_mon  pred_day  pred_year gt_mon_date pred_mon_date gt_day_date  \\\n",
       "0         3        11       2016          09            03          11   \n",
       "1         9        23       2016          09            09          23   \n",
       "2        10        18       2017          10            10          02   \n",
       "3         9        26       2017          09            09          26   \n",
       "4         8        19       2016          09            08          19   \n",
       "\n",
       "  pred_day_date gt_year_date pred_year_date  \n",
       "0            11           16             16  \n",
       "1            23           16             16  \n",
       "2            18           16             17  \n",
       "3            26           16             17  \n",
       "4            19           16             16  "
      ]
     },
     "execution_count": 92,
     "metadata": {},
     "output_type": "execute_result"
    }
   ],
   "source": [
    "date_df.head()"
   ]
  },
  {
   "cell_type": "code",
   "execution_count": 93,
   "metadata": {
    "collapsed": true
   },
   "outputs": [],
   "source": [
    "date_df[\"day_label\"] = date_df.apply(lambda x: 1 if x[\"gt_date\"] == x[\"pred_date\"] else 0, axis=1)\n",
    "date_df_test[\"day_label\"] = date_df_test.apply(lambda x: 1 if x[\"gt_date\"] == x[\"pred_date\"] else 0, axis=1)"
   ]
  },
  {
   "cell_type": "code",
   "execution_count": 94,
   "metadata": {
    "collapsed": false
   },
   "outputs": [
    {
     "data": {
      "text/html": [
       "<div>\n",
       "<table border=\"1\" class=\"dataframe\">\n",
       "  <thead>\n",
       "    <tr style=\"text-align: right;\">\n",
       "      <th></th>\n",
       "      <th>Image_Id</th>\n",
       "      <th>gt_date</th>\n",
       "      <th>pred_date</th>\n",
       "      <th>conf_date</th>\n",
       "      <th>gt_mon</th>\n",
       "      <th>gt_day</th>\n",
       "      <th>gt_year</th>\n",
       "      <th>pred_mon</th>\n",
       "      <th>pred_day</th>\n",
       "      <th>pred_year</th>\n",
       "      <th>gt_mon_date</th>\n",
       "      <th>pred_mon_date</th>\n",
       "      <th>gt_day_date</th>\n",
       "      <th>pred_day_date</th>\n",
       "      <th>gt_year_date</th>\n",
       "      <th>pred_year_date</th>\n",
       "      <th>day_label</th>\n",
       "    </tr>\n",
       "  </thead>\n",
       "  <tbody>\n",
       "    <tr>\n",
       "      <th>0</th>\n",
       "      <td>1</td>\n",
       "      <td>2016-09-11</td>\n",
       "      <td>2016-03-11</td>\n",
       "      <td>-0.008496</td>\n",
       "      <td>9</td>\n",
       "      <td>11</td>\n",
       "      <td>2016</td>\n",
       "      <td>3</td>\n",
       "      <td>11</td>\n",
       "      <td>2016</td>\n",
       "      <td>09</td>\n",
       "      <td>03</td>\n",
       "      <td>11</td>\n",
       "      <td>11</td>\n",
       "      <td>16</td>\n",
       "      <td>16</td>\n",
       "      <td>0</td>\n",
       "    </tr>\n",
       "    <tr>\n",
       "      <th>1</th>\n",
       "      <td>3</td>\n",
       "      <td>2016-09-23</td>\n",
       "      <td>2016-09-23</td>\n",
       "      <td>-0.018932</td>\n",
       "      <td>9</td>\n",
       "      <td>23</td>\n",
       "      <td>2016</td>\n",
       "      <td>9</td>\n",
       "      <td>23</td>\n",
       "      <td>2016</td>\n",
       "      <td>09</td>\n",
       "      <td>09</td>\n",
       "      <td>23</td>\n",
       "      <td>23</td>\n",
       "      <td>16</td>\n",
       "      <td>16</td>\n",
       "      <td>1</td>\n",
       "    </tr>\n",
       "    <tr>\n",
       "      <th>2</th>\n",
       "      <td>4</td>\n",
       "      <td>2016-10-02</td>\n",
       "      <td>2017-10-18</td>\n",
       "      <td>-0.978772</td>\n",
       "      <td>10</td>\n",
       "      <td>2</td>\n",
       "      <td>2016</td>\n",
       "      <td>10</td>\n",
       "      <td>18</td>\n",
       "      <td>2017</td>\n",
       "      <td>10</td>\n",
       "      <td>10</td>\n",
       "      <td>02</td>\n",
       "      <td>18</td>\n",
       "      <td>16</td>\n",
       "      <td>17</td>\n",
       "      <td>0</td>\n",
       "    </tr>\n",
       "    <tr>\n",
       "      <th>3</th>\n",
       "      <td>4</td>\n",
       "      <td>2016-09-26</td>\n",
       "      <td>2017-09-26</td>\n",
       "      <td>-0.123047</td>\n",
       "      <td>9</td>\n",
       "      <td>26</td>\n",
       "      <td>2016</td>\n",
       "      <td>9</td>\n",
       "      <td>26</td>\n",
       "      <td>2017</td>\n",
       "      <td>09</td>\n",
       "      <td>09</td>\n",
       "      <td>26</td>\n",
       "      <td>26</td>\n",
       "      <td>16</td>\n",
       "      <td>17</td>\n",
       "      <td>0</td>\n",
       "    </tr>\n",
       "    <tr>\n",
       "      <th>4</th>\n",
       "      <td>6</td>\n",
       "      <td>2016-09-19</td>\n",
       "      <td>2016-08-19</td>\n",
       "      <td>-0.003986</td>\n",
       "      <td>9</td>\n",
       "      <td>19</td>\n",
       "      <td>2016</td>\n",
       "      <td>8</td>\n",
       "      <td>19</td>\n",
       "      <td>2016</td>\n",
       "      <td>09</td>\n",
       "      <td>08</td>\n",
       "      <td>19</td>\n",
       "      <td>19</td>\n",
       "      <td>16</td>\n",
       "      <td>16</td>\n",
       "      <td>0</td>\n",
       "    </tr>\n",
       "  </tbody>\n",
       "</table>\n",
       "</div>"
      ],
      "text/plain": [
       "   Image_Id    gt_date  pred_date  conf_date  gt_mon  gt_day  gt_year  \\\n",
       "0         1 2016-09-11 2016-03-11  -0.008496       9      11     2016   \n",
       "1         3 2016-09-23 2016-09-23  -0.018932       9      23     2016   \n",
       "2         4 2016-10-02 2017-10-18  -0.978772      10       2     2016   \n",
       "3         4 2016-09-26 2017-09-26  -0.123047       9      26     2016   \n",
       "4         6 2016-09-19 2016-08-19  -0.003986       9      19     2016   \n",
       "\n",
       "   pred_mon  pred_day  pred_year gt_mon_date pred_mon_date gt_day_date  \\\n",
       "0         3        11       2016          09            03          11   \n",
       "1         9        23       2016          09            09          23   \n",
       "2        10        18       2017          10            10          02   \n",
       "3         9        26       2017          09            09          26   \n",
       "4         8        19       2016          09            08          19   \n",
       "\n",
       "  pred_day_date gt_year_date pred_year_date  day_label  \n",
       "0            11           16             16          0  \n",
       "1            23           16             16          1  \n",
       "2            18           16             17          0  \n",
       "3            26           16             17          0  \n",
       "4            19           16             16          0  "
      ]
     },
     "execution_count": 94,
     "metadata": {},
     "output_type": "execute_result"
    }
   ],
   "source": [
    "date_df.head()"
   ]
  },
  {
   "cell_type": "code",
   "execution_count": 95,
   "metadata": {
    "collapsed": true
   },
   "outputs": [],
   "source": [
    "for pos in range(0,2):\n",
    "    date_df[str(pos+1)+\"_digit_day\"] = date_df[\"gt_day_date\"].apply(lambda x: x[pos])\n",
    "    date_df[str(pos+1)+\"_digit_day_pred\"] = date_df[\"pred_day_date\"].apply(lambda x: x[pos])\n",
    "    \n",
    "    date_df[str(pos+1)+\"_digit_mon\"] = date_df[\"gt_mon_date\"].apply(lambda x: x[pos])\n",
    "    date_df[str(pos+1)+\"_digit_mon_pred\"] = date_df[\"pred_mon_date\"].apply(lambda x: x[pos])\n",
    "    \n",
    "    date_df[str(pos+1)+\"_digit_yr\"] = date_df[\"gt_year_date\"].apply(lambda x: x[pos])\n",
    "    date_df[str(pos+1)+\"_digit_yr_pred\"] = date_df[\"pred_year_date\"].apply(lambda x: x[pos])\n",
    "    \n",
    "    \n",
    "    date_df_test[str(pos+1)+\"_digit_day\"] = date_df_test[\"gt_day_date\"].apply(lambda x: x[pos])\n",
    "    date_df_test[str(pos+1)+\"_digit_day_pred\"] = date_df_test[\"pred_day_date\"].apply(lambda x: x[pos])\n",
    "    \n",
    "    date_df_test[str(pos+1)+\"_digit_mon\"] = date_df_test[\"gt_mon_date\"].apply(lambda x: x[pos])\n",
    "    date_df_test[str(pos+1)+\"_digit_mon_pred\"] = date_df_test[\"pred_mon_date\"].apply(lambda x: x[pos])\n",
    "    \n",
    "    date_df_test[str(pos+1)+\"_digit_yr\"] = date_df_test[\"gt_year_date\"].apply(lambda x: x[pos])\n",
    "    date_df_test[str(pos+1)+\"_digit_yr_pred\"] = date_df_test[\"pred_year_date\"].apply(lambda x: x[pos])"
   ]
  },
  {
   "cell_type": "code",
   "execution_count": 96,
   "metadata": {
    "collapsed": true
   },
   "outputs": [],
   "source": [
    "date_df[\"conf_date\"] = date_df[\"conf_date\"]*-1\n",
    "date_df_test[\"conf_date\"] = date_df_test[\"conf_date\"]*-1\n",
    "date_df[\"conf_date\"]=(date_df[\"conf_date\"]-date_df[\"conf_date\"].mean())/date_df[\"conf_date\"].std()\n",
    "date_df_test[\"conf_date\"]=(date_df_test[\"conf_date\"]-date_df_test[\"conf_date\"].mean())/date_df_test[\"conf_date\"].std()"
   ]
  },
  {
   "cell_type": "code",
   "execution_count": 97,
   "metadata": {
    "collapsed": false
   },
   "outputs": [],
   "source": [
    "X_date = date_df.drop([\"Image_Id\", \"gt_date\", \"pred_date\", \"gt_mon\", \"gt_day\", \"gt_year\", \"pred_mon\", \"pred_day\",\\\n",
    "                      \"pred_year\", \"gt_mon_date\", \"pred_mon_date\", \"gt_day_date\", \"pred_day_date\",\\\n",
    "                      \"gt_year_date\", \"pred_year_date\", \"day_label\"], axis=1)\n",
    "X_date_test = date_df_test.drop([\"Image_Id\", \"gt_date\", \"pred_date\", \"gt_mon\", \"gt_day\", \"gt_year\", \"pred_mon\", \"pred_day\",\\\n",
    "                      \"pred_year\", \"gt_mon_date\", \"pred_mon_date\", \"gt_day_date\", \"pred_day_date\",\\\n",
    "                      \"gt_year_date\", \"pred_year_date\", \"day_label\"], axis=1)"
   ]
  },
  {
   "cell_type": "code",
   "execution_count": 98,
   "metadata": {
    "collapsed": true
   },
   "outputs": [],
   "source": [
    "y_date = date_df[\"day_label\"]\n",
    "y_date_test = date_df_test[\"day_label\"]"
   ]
  },
  {
   "cell_type": "code",
   "execution_count": 99,
   "metadata": {
    "collapsed": false
   },
   "outputs": [
    {
     "data": {
      "text/html": [
       "<div>\n",
       "<table border=\"1\" class=\"dataframe\">\n",
       "  <thead>\n",
       "    <tr style=\"text-align: right;\">\n",
       "      <th></th>\n",
       "      <th>conf_date</th>\n",
       "      <th>1_digit_day</th>\n",
       "      <th>1_digit_day_pred</th>\n",
       "      <th>1_digit_mon</th>\n",
       "      <th>1_digit_mon_pred</th>\n",
       "      <th>1_digit_yr</th>\n",
       "      <th>1_digit_yr_pred</th>\n",
       "      <th>2_digit_day</th>\n",
       "      <th>2_digit_day_pred</th>\n",
       "      <th>2_digit_mon</th>\n",
       "      <th>2_digit_mon_pred</th>\n",
       "      <th>2_digit_yr</th>\n",
       "      <th>2_digit_yr_pred</th>\n",
       "    </tr>\n",
       "  </thead>\n",
       "  <tbody>\n",
       "    <tr>\n",
       "      <th>0</th>\n",
       "      <td>-0.428124</td>\n",
       "      <td>1</td>\n",
       "      <td>1</td>\n",
       "      <td>0</td>\n",
       "      <td>0</td>\n",
       "      <td>1</td>\n",
       "      <td>1</td>\n",
       "      <td>1</td>\n",
       "      <td>1</td>\n",
       "      <td>9</td>\n",
       "      <td>3</td>\n",
       "      <td>6</td>\n",
       "      <td>6</td>\n",
       "    </tr>\n",
       "    <tr>\n",
       "      <th>1</th>\n",
       "      <td>-0.420424</td>\n",
       "      <td>2</td>\n",
       "      <td>2</td>\n",
       "      <td>0</td>\n",
       "      <td>0</td>\n",
       "      <td>1</td>\n",
       "      <td>1</td>\n",
       "      <td>3</td>\n",
       "      <td>3</td>\n",
       "      <td>9</td>\n",
       "      <td>9</td>\n",
       "      <td>6</td>\n",
       "      <td>6</td>\n",
       "    </tr>\n",
       "    <tr>\n",
       "      <th>2</th>\n",
       "      <td>0.287783</td>\n",
       "      <td>0</td>\n",
       "      <td>1</td>\n",
       "      <td>1</td>\n",
       "      <td>1</td>\n",
       "      <td>1</td>\n",
       "      <td>1</td>\n",
       "      <td>2</td>\n",
       "      <td>8</td>\n",
       "      <td>0</td>\n",
       "      <td>0</td>\n",
       "      <td>6</td>\n",
       "      <td>7</td>\n",
       "    </tr>\n",
       "    <tr>\n",
       "      <th>3</th>\n",
       "      <td>-0.343604</td>\n",
       "      <td>2</td>\n",
       "      <td>2</td>\n",
       "      <td>0</td>\n",
       "      <td>0</td>\n",
       "      <td>1</td>\n",
       "      <td>1</td>\n",
       "      <td>6</td>\n",
       "      <td>6</td>\n",
       "      <td>9</td>\n",
       "      <td>9</td>\n",
       "      <td>6</td>\n",
       "      <td>7</td>\n",
       "    </tr>\n",
       "    <tr>\n",
       "      <th>4</th>\n",
       "      <td>-0.431451</td>\n",
       "      <td>1</td>\n",
       "      <td>1</td>\n",
       "      <td>0</td>\n",
       "      <td>0</td>\n",
       "      <td>1</td>\n",
       "      <td>1</td>\n",
       "      <td>9</td>\n",
       "      <td>9</td>\n",
       "      <td>9</td>\n",
       "      <td>8</td>\n",
       "      <td>6</td>\n",
       "      <td>6</td>\n",
       "    </tr>\n",
       "  </tbody>\n",
       "</table>\n",
       "</div>"
      ],
      "text/plain": [
       "   conf_date 1_digit_day 1_digit_day_pred 1_digit_mon 1_digit_mon_pred  \\\n",
       "0  -0.428124           1                1           0                0   \n",
       "1  -0.420424           2                2           0                0   \n",
       "2   0.287783           0                1           1                1   \n",
       "3  -0.343604           2                2           0                0   \n",
       "4  -0.431451           1                1           0                0   \n",
       "\n",
       "  1_digit_yr 1_digit_yr_pred 2_digit_day 2_digit_day_pred 2_digit_mon  \\\n",
       "0          1               1           1                1           9   \n",
       "1          1               1           3                3           9   \n",
       "2          1               1           2                8           0   \n",
       "3          1               1           6                6           9   \n",
       "4          1               1           9                9           9   \n",
       "\n",
       "  2_digit_mon_pred 2_digit_yr 2_digit_yr_pred  \n",
       "0                3          6               6  \n",
       "1                9          6               6  \n",
       "2                0          6               7  \n",
       "3                9          6               7  \n",
       "4                8          6               6  "
      ]
     },
     "execution_count": 99,
     "metadata": {},
     "output_type": "execute_result"
    }
   ],
   "source": [
    "X_date.head()"
   ]
  },
  {
   "cell_type": "code",
   "execution_count": 100,
   "metadata": {
    "collapsed": true
   },
   "outputs": [],
   "source": [
    "rf_date = RandomForestClassifier()"
   ]
  },
  {
   "cell_type": "code",
   "execution_count": 101,
   "metadata": {
    "collapsed": false
   },
   "outputs": [
    {
     "data": {
      "text/plain": [
       "RandomForestClassifier(bootstrap=True, class_weight=None, criterion='gini',\n",
       "            max_depth=None, max_features='auto', max_leaf_nodes=None,\n",
       "            min_impurity_split=1e-07, min_samples_leaf=1,\n",
       "            min_samples_split=2, min_weight_fraction_leaf=0.0,\n",
       "            n_estimators=10, n_jobs=1, oob_score=False, random_state=None,\n",
       "            verbose=0, warm_start=False)"
      ]
     },
     "execution_count": 101,
     "metadata": {},
     "output_type": "execute_result"
    }
   ],
   "source": [
    "rf_date.fit(X_date, y_date)"
   ]
  },
  {
   "cell_type": "code",
   "execution_count": 102,
   "metadata": {
    "collapsed": false
   },
   "outputs": [
    {
     "data": {
      "text/html": [
       "<div>\n",
       "<table border=\"1\" class=\"dataframe\">\n",
       "  <thead>\n",
       "    <tr style=\"text-align: right;\">\n",
       "      <th></th>\n",
       "      <th>conf_date</th>\n",
       "      <th>1_digit_day</th>\n",
       "      <th>1_digit_day_pred</th>\n",
       "      <th>1_digit_mon</th>\n",
       "      <th>1_digit_mon_pred</th>\n",
       "      <th>1_digit_yr</th>\n",
       "      <th>1_digit_yr_pred</th>\n",
       "      <th>2_digit_day</th>\n",
       "      <th>2_digit_day_pred</th>\n",
       "      <th>2_digit_mon</th>\n",
       "      <th>2_digit_mon_pred</th>\n",
       "      <th>2_digit_yr</th>\n",
       "      <th>2_digit_yr_pred</th>\n",
       "    </tr>\n",
       "  </thead>\n",
       "  <tbody>\n",
       "    <tr>\n",
       "      <th>0</th>\n",
       "      <td>-0.428124</td>\n",
       "      <td>1</td>\n",
       "      <td>1</td>\n",
       "      <td>0</td>\n",
       "      <td>0</td>\n",
       "      <td>1</td>\n",
       "      <td>1</td>\n",
       "      <td>1</td>\n",
       "      <td>1</td>\n",
       "      <td>9</td>\n",
       "      <td>3</td>\n",
       "      <td>6</td>\n",
       "      <td>6</td>\n",
       "    </tr>\n",
       "    <tr>\n",
       "      <th>1</th>\n",
       "      <td>-0.420424</td>\n",
       "      <td>2</td>\n",
       "      <td>2</td>\n",
       "      <td>0</td>\n",
       "      <td>0</td>\n",
       "      <td>1</td>\n",
       "      <td>1</td>\n",
       "      <td>3</td>\n",
       "      <td>3</td>\n",
       "      <td>9</td>\n",
       "      <td>9</td>\n",
       "      <td>6</td>\n",
       "      <td>6</td>\n",
       "    </tr>\n",
       "    <tr>\n",
       "      <th>2</th>\n",
       "      <td>0.287783</td>\n",
       "      <td>0</td>\n",
       "      <td>1</td>\n",
       "      <td>1</td>\n",
       "      <td>1</td>\n",
       "      <td>1</td>\n",
       "      <td>1</td>\n",
       "      <td>2</td>\n",
       "      <td>8</td>\n",
       "      <td>0</td>\n",
       "      <td>0</td>\n",
       "      <td>6</td>\n",
       "      <td>7</td>\n",
       "    </tr>\n",
       "    <tr>\n",
       "      <th>3</th>\n",
       "      <td>-0.343604</td>\n",
       "      <td>2</td>\n",
       "      <td>2</td>\n",
       "      <td>0</td>\n",
       "      <td>0</td>\n",
       "      <td>1</td>\n",
       "      <td>1</td>\n",
       "      <td>6</td>\n",
       "      <td>6</td>\n",
       "      <td>9</td>\n",
       "      <td>9</td>\n",
       "      <td>6</td>\n",
       "      <td>7</td>\n",
       "    </tr>\n",
       "    <tr>\n",
       "      <th>4</th>\n",
       "      <td>-0.431451</td>\n",
       "      <td>1</td>\n",
       "      <td>1</td>\n",
       "      <td>0</td>\n",
       "      <td>0</td>\n",
       "      <td>1</td>\n",
       "      <td>1</td>\n",
       "      <td>9</td>\n",
       "      <td>9</td>\n",
       "      <td>9</td>\n",
       "      <td>8</td>\n",
       "      <td>6</td>\n",
       "      <td>6</td>\n",
       "    </tr>\n",
       "  </tbody>\n",
       "</table>\n",
       "</div>"
      ],
      "text/plain": [
       "   conf_date 1_digit_day 1_digit_day_pred 1_digit_mon 1_digit_mon_pred  \\\n",
       "0  -0.428124           1                1           0                0   \n",
       "1  -0.420424           2                2           0                0   \n",
       "2   0.287783           0                1           1                1   \n",
       "3  -0.343604           2                2           0                0   \n",
       "4  -0.431451           1                1           0                0   \n",
       "\n",
       "  1_digit_yr 1_digit_yr_pred 2_digit_day 2_digit_day_pred 2_digit_mon  \\\n",
       "0          1               1           1                1           9   \n",
       "1          1               1           3                3           9   \n",
       "2          1               1           2                8           0   \n",
       "3          1               1           6                6           9   \n",
       "4          1               1           9                9           9   \n",
       "\n",
       "  2_digit_mon_pred 2_digit_yr 2_digit_yr_pred  \n",
       "0                3          6               6  \n",
       "1                9          6               6  \n",
       "2                0          6               7  \n",
       "3                9          6               7  \n",
       "4                8          6               6  "
      ]
     },
     "execution_count": 102,
     "metadata": {},
     "output_type": "execute_result"
    }
   ],
   "source": [
    "X_date.head()"
   ]
  },
  {
   "cell_type": "code",
   "execution_count": 103,
   "metadata": {
    "collapsed": false
   },
   "outputs": [
    {
     "data": {
      "text/html": [
       "<div>\n",
       "<table border=\"1\" class=\"dataframe\">\n",
       "  <thead>\n",
       "    <tr style=\"text-align: right;\">\n",
       "      <th></th>\n",
       "      <th>conf_date</th>\n",
       "      <th>1_digit_day</th>\n",
       "      <th>1_digit_day_pred</th>\n",
       "      <th>1_digit_mon</th>\n",
       "      <th>1_digit_mon_pred</th>\n",
       "      <th>1_digit_yr</th>\n",
       "      <th>1_digit_yr_pred</th>\n",
       "      <th>2_digit_day</th>\n",
       "      <th>2_digit_day_pred</th>\n",
       "      <th>2_digit_mon</th>\n",
       "      <th>2_digit_mon_pred</th>\n",
       "      <th>2_digit_yr</th>\n",
       "      <th>2_digit_yr_pred</th>\n",
       "    </tr>\n",
       "  </thead>\n",
       "  <tbody>\n",
       "    <tr>\n",
       "      <th>0</th>\n",
       "      <td>-0.409203</td>\n",
       "      <td>2</td>\n",
       "      <td>2</td>\n",
       "      <td>0</td>\n",
       "      <td>0</td>\n",
       "      <td>1</td>\n",
       "      <td>1</td>\n",
       "      <td>9</td>\n",
       "      <td>8</td>\n",
       "      <td>9</td>\n",
       "      <td>8</td>\n",
       "      <td>6</td>\n",
       "      <td>6</td>\n",
       "    </tr>\n",
       "    <tr>\n",
       "      <th>1</th>\n",
       "      <td>-0.412517</td>\n",
       "      <td>2</td>\n",
       "      <td>2</td>\n",
       "      <td>0</td>\n",
       "      <td>0</td>\n",
       "      <td>1</td>\n",
       "      <td>1</td>\n",
       "      <td>5</td>\n",
       "      <td>5</td>\n",
       "      <td>9</td>\n",
       "      <td>9</td>\n",
       "      <td>6</td>\n",
       "      <td>6</td>\n",
       "    </tr>\n",
       "    <tr>\n",
       "      <th>2</th>\n",
       "      <td>-0.374745</td>\n",
       "      <td>1</td>\n",
       "      <td>1</td>\n",
       "      <td>0</td>\n",
       "      <td>0</td>\n",
       "      <td>1</td>\n",
       "      <td>1</td>\n",
       "      <td>3</td>\n",
       "      <td>3</td>\n",
       "      <td>9</td>\n",
       "      <td>8</td>\n",
       "      <td>6</td>\n",
       "      <td>6</td>\n",
       "    </tr>\n",
       "    <tr>\n",
       "      <th>3</th>\n",
       "      <td>-0.366527</td>\n",
       "      <td>1</td>\n",
       "      <td>1</td>\n",
       "      <td>0</td>\n",
       "      <td>0</td>\n",
       "      <td>1</td>\n",
       "      <td>1</td>\n",
       "      <td>0</td>\n",
       "      <td>3</td>\n",
       "      <td>9</td>\n",
       "      <td>8</td>\n",
       "      <td>6</td>\n",
       "      <td>6</td>\n",
       "    </tr>\n",
       "    <tr>\n",
       "      <th>4</th>\n",
       "      <td>-0.413474</td>\n",
       "      <td>2</td>\n",
       "      <td>2</td>\n",
       "      <td>0</td>\n",
       "      <td>0</td>\n",
       "      <td>1</td>\n",
       "      <td>1</td>\n",
       "      <td>1</td>\n",
       "      <td>8</td>\n",
       "      <td>9</td>\n",
       "      <td>9</td>\n",
       "      <td>6</td>\n",
       "      <td>6</td>\n",
       "    </tr>\n",
       "  </tbody>\n",
       "</table>\n",
       "</div>"
      ],
      "text/plain": [
       "   conf_date 1_digit_day 1_digit_day_pred 1_digit_mon 1_digit_mon_pred  \\\n",
       "0  -0.409203           2                2           0                0   \n",
       "1  -0.412517           2                2           0                0   \n",
       "2  -0.374745           1                1           0                0   \n",
       "3  -0.366527           1                1           0                0   \n",
       "4  -0.413474           2                2           0                0   \n",
       "\n",
       "  1_digit_yr 1_digit_yr_pred 2_digit_day 2_digit_day_pred 2_digit_mon  \\\n",
       "0          1               1           9                8           9   \n",
       "1          1               1           5                5           9   \n",
       "2          1               1           3                3           9   \n",
       "3          1               1           0                3           9   \n",
       "4          1               1           1                8           9   \n",
       "\n",
       "  2_digit_mon_pred 2_digit_yr 2_digit_yr_pred  \n",
       "0                8          6               6  \n",
       "1                9          6               6  \n",
       "2                8          6               6  \n",
       "3                8          6               6  \n",
       "4                9          6               6  "
      ]
     },
     "execution_count": 103,
     "metadata": {},
     "output_type": "execute_result"
    }
   ],
   "source": [
    "X_date_test.head()"
   ]
  },
  {
   "cell_type": "code",
   "execution_count": 104,
   "metadata": {
    "collapsed": false
   },
   "outputs": [
    {
     "name": "stdout",
     "output_type": "stream",
     "text": [
      "Accuracy score of model is: 0.88\n",
      "F1 score of model is: 0.770992366412\n",
      "Precision score of model is: 0.63125\n",
      "Recall score of model is: 0.990196078431\n"
     ]
    }
   ],
   "source": [
    "get_scores(rf_date, y_date_test, X_date_test)"
   ]
  },
  {
   "cell_type": "code",
   "execution_count": 105,
   "metadata": {
    "collapsed": false
   },
   "outputs": [
    {
     "data": {
      "text/plain": [
       "array([ 0.06311934,  0.03755626,  0.08441184,  0.02099878,  0.0216175 ,\n",
       "        0.        ,  0.        ,  0.09528611,  0.11803033,  0.02122552,\n",
       "        0.26331288,  0.        ,  0.27444143])"
      ]
     },
     "execution_count": 105,
     "metadata": {},
     "output_type": "execute_result"
    }
   ],
   "source": [
    "rf_date.feature_importances_"
   ]
  },
  {
   "cell_type": "code",
   "execution_count": 106,
   "metadata": {
    "collapsed": false
   },
   "outputs": [
    {
     "name": "stdout",
     "output_type": "stream",
     "text": [
      "4914\n",
      "4\n",
      "4\n",
      "2\n",
      "2\n",
      "1\n",
      "1\n",
      "10\n",
      "10\n",
      "2\n",
      "9\n",
      "1\n",
      "2\n"
     ]
    }
   ],
   "source": [
    "for col in X_date:\n",
    "    print(len(X_date[col].unique()))"
   ]
  },
  {
   "cell_type": "markdown",
   "metadata": {},
   "source": [
    "# Predicting All At Once"
   ]
  },
  {
   "cell_type": "code",
   "execution_count": 107,
   "metadata": {
    "collapsed": true
   },
   "outputs": [],
   "source": [
    "all_df = pd.merge(total_df, time_df, left_on='Image_Id', right_on='Image_Id')\n",
    "all_df = pd.merge(all_df, date_df, left_on='Image_Id', right_on='Image_Id')\n",
    "\n",
    "all_test_df = pd.merge(test_total, time_test_df, left_on='Image_Id', right_on='Image_Id')\n",
    "all_test_df = pd.merge(all_test_df, date_df_test, left_on='Image_Id', right_on='Image_Id')"
   ]
  },
  {
   "cell_type": "code",
   "execution_count": 108,
   "metadata": {
    "collapsed": false
   },
   "outputs": [
    {
     "data": {
      "text/plain": [
       "Index(['Image_Id', 'gt_total', 'pred_total', 'conf_total', 'total_label',\n",
       "       '1_digit_gt', '1_digit_pred', '2_digit_gt', '2_digit_pred',\n",
       "       '3_digit_gt', '3_digit_pred', '4_digit_gt', '4_digit_pred',\n",
       "       '5_digit_gt', '5_digit_pred', 'gt_time', 'pred_time', 'conf_time',\n",
       "       'time_label', 'gt_hr_time', 'pred_hr_time', 'gt_min_time',\n",
       "       'pred_min_time', '1_digit_hr', '1_digit_hr_pred', '1_digit_min',\n",
       "       '1_digit_min_pred', '2_digit_hr', '2_digit_hr_pred', '2_digit_min',\n",
       "       '2_digit_min_pred', 'gt_date', 'pred_date', 'conf_date', 'gt_mon',\n",
       "       'gt_day', 'gt_year', 'pred_mon', 'pred_day', 'pred_year', 'gt_mon_date',\n",
       "       'pred_mon_date', 'gt_day_date', 'pred_day_date', 'gt_year_date',\n",
       "       'pred_year_date', 'day_label', '1_digit_day', '1_digit_day_pred',\n",
       "       '1_digit_mon', '1_digit_mon_pred', '1_digit_yr', '1_digit_yr_pred',\n",
       "       '2_digit_day', '2_digit_day_pred', '2_digit_mon', '2_digit_mon_pred',\n",
       "       '2_digit_yr', '2_digit_yr_pred'],\n",
       "      dtype='object')"
      ]
     },
     "execution_count": 108,
     "metadata": {},
     "output_type": "execute_result"
    }
   ],
   "source": [
    "all_df.columns"
   ]
  },
  {
   "cell_type": "code",
   "execution_count": 109,
   "metadata": {
    "collapsed": false
   },
   "outputs": [],
   "source": [
    "all_df = all_df[['Image_Id', '1_digit_gt', '1_digit_pred', '2_digit_gt', '2_digit_pred',\n",
    "       '3_digit_gt', '3_digit_pred', '4_digit_gt', '4_digit_pred',\n",
    "       '5_digit_gt', '5_digit_pred', 'conf_total', '1_digit_hr', '1_digit_hr_pred', '1_digit_min',\n",
    "       '1_digit_min_pred', '2_digit_hr', '2_digit_hr_pred', '2_digit_min',\n",
    "       '2_digit_min_pred', 'conf_time', '1_digit_day', '1_digit_day_pred',\n",
    "       '1_digit_mon', '1_digit_mon_pred', '1_digit_yr', '1_digit_yr_pred',\n",
    "       '2_digit_day', '2_digit_day_pred', '2_digit_mon', '2_digit_mon_pred',\n",
    "       '2_digit_yr', '2_digit_yr_pred', \"conf_date\", \"total_label\", \"time_label\", \"day_label\"]]\n",
    "\n",
    "all_test_df = all_test_df[['Image_Id', '1_digit_gt', '1_digit_pred', '2_digit_gt', '2_digit_pred',\n",
    "       '3_digit_gt', '3_digit_pred', '4_digit_gt', '4_digit_pred',\n",
    "       '5_digit_gt', '5_digit_pred', 'conf_total', '1_digit_hr', '1_digit_hr_pred', '1_digit_min',\n",
    "       '1_digit_min_pred', '2_digit_hr', '2_digit_hr_pred', '2_digit_min',\n",
    "       '2_digit_min_pred', 'conf_time', '1_digit_day', '1_digit_day_pred',\n",
    "       '1_digit_mon', '1_digit_mon_pred', '1_digit_yr', '1_digit_yr_pred',\n",
    "       '2_digit_day', '2_digit_day_pred', '2_digit_mon', '2_digit_mon_pred',\n",
    "       '2_digit_yr', '2_digit_yr_pred', \"conf_date\", \"total_label\", \"time_label\", \"day_label\"]]"
   ]
  },
  {
   "cell_type": "code",
   "execution_count": 110,
   "metadata": {
    "collapsed": false
   },
   "outputs": [],
   "source": [
    "all_df[\"all_label\"] = all_df.apply(lambda x: 1 if ((x[\"total_label\"] == x[\"time_label\"]) and (x[\"time_label\"] == x[\"day_label\"])) else 0, axis=1)"
   ]
  },
  {
   "cell_type": "code",
   "execution_count": 111,
   "metadata": {
    "collapsed": true
   },
   "outputs": [],
   "source": [
    "all_test_df[\"all_label\"] = all_test_df.apply(lambda x: 1 if ((x[\"total_label\"] == x[\"time_label\"]) and (x[\"time_label\"] == x[\"day_label\"])) else 0, axis=1)"
   ]
  },
  {
   "cell_type": "code",
   "execution_count": 112,
   "metadata": {
    "collapsed": false
   },
   "outputs": [
    {
     "data": {
      "text/plain": [
       "38"
      ]
     },
     "execution_count": 112,
     "metadata": {},
     "output_type": "execute_result"
    }
   ],
   "source": [
    "len(all_df.columns)"
   ]
  },
  {
   "cell_type": "code",
   "execution_count": 113,
   "metadata": {
    "collapsed": false
   },
   "outputs": [
    {
     "data": {
      "text/plain": [
       "38"
      ]
     },
     "execution_count": 113,
     "metadata": {},
     "output_type": "execute_result"
    }
   ],
   "source": [
    "len(all_test_df.columns)"
   ]
  },
  {
   "cell_type": "code",
   "execution_count": 114,
   "metadata": {
    "collapsed": false
   },
   "outputs": [],
   "source": [
    "all_df = all_df.drop([\"total_label\", \"time_label\", \"day_label\"], axis=1)\n",
    "all_test_df = all_test_df.drop([\"total_label\", \"time_label\", \"day_label\"], axis=1)"
   ]
  },
  {
   "cell_type": "code",
   "execution_count": 115,
   "metadata": {
    "collapsed": true
   },
   "outputs": [],
   "source": [
    "X_all = all_df.drop([\"all_label\"], axis=1)\n",
    "X_all_test = all_test_df.drop([\"all_label\"], axis=1)\n",
    "\n",
    "y_all = all_df[\"all_label\"]\n",
    "y_test_all = all_test_df[\"all_label\"]"
   ]
  },
  {
   "cell_type": "code",
   "execution_count": 116,
   "metadata": {
    "collapsed": true
   },
   "outputs": [],
   "source": [
    "rf_all = RandomForestClassifier()"
   ]
  },
  {
   "cell_type": "code",
   "execution_count": 117,
   "metadata": {
    "collapsed": false
   },
   "outputs": [
    {
     "data": {
      "text/plain": [
       "RandomForestClassifier(bootstrap=True, class_weight=None, criterion='gini',\n",
       "            max_depth=None, max_features='auto', max_leaf_nodes=None,\n",
       "            min_impurity_split=1e-07, min_samples_leaf=1,\n",
       "            min_samples_split=2, min_weight_fraction_leaf=0.0,\n",
       "            n_estimators=10, n_jobs=1, oob_score=False, random_state=None,\n",
       "            verbose=0, warm_start=False)"
      ]
     },
     "execution_count": 117,
     "metadata": {},
     "output_type": "execute_result"
    }
   ],
   "source": [
    "rf_all.fit(X_all, y_all)"
   ]
  },
  {
   "cell_type": "code",
   "execution_count": 118,
   "metadata": {
    "collapsed": false
   },
   "outputs": [
    {
     "name": "stdout",
     "output_type": "stream",
     "text": [
      "Accuracy score of model is: 0.827195467422\n",
      "F1 score of model is: 0.512\n",
      "Precision score of model is: 0.48590021692\n",
      "Recall score of model is: 0.541062801932\n"
     ]
    }
   ],
   "source": [
    "get_scores(rf_all, y_test_all, X_all_test)"
   ]
  },
  {
   "cell_type": "code",
   "execution_count": 119,
   "metadata": {
    "collapsed": false
   },
   "outputs": [
    {
     "data": {
      "text/plain": [
       "array([ 0.04764356,  0.0009428 ,  0.00043481,  0.00999904,  0.00796268,\n",
       "        0.01800577,  0.01675331,  0.02085513,  0.02096575,  0.01883832,\n",
       "        0.01708782,  0.06120409,  0.00781205,  0.00958635,  0.02005539,\n",
       "        0.01880309,  0.02316477,  0.02267776,  0.02624215,  0.02430795,\n",
       "        0.05441418,  0.02116083,  0.03705106,  0.00214301,  0.02358904,\n",
       "        0.        ,  0.        ,  0.04107078,  0.05080872,  0.00771021,\n",
       "        0.17192673,  0.        ,  0.12558932,  0.07119354])"
      ]
     },
     "execution_count": 119,
     "metadata": {},
     "output_type": "execute_result"
    }
   ],
   "source": [
    "rf_all.feature_importances_"
   ]
  },
  {
   "cell_type": "code",
   "execution_count": null,
   "metadata": {
    "collapsed": true
   },
   "outputs": [],
   "source": []
  }
 ],
 "metadata": {
  "kernelspec": {
   "display_name": "Python [conda root]",
   "language": "python",
   "name": "conda-root-py"
  },
  "language_info": {
   "codemirror_mode": {
    "name": "ipython",
    "version": 3
   },
   "file_extension": ".py",
   "mimetype": "text/x-python",
   "name": "python",
   "nbconvert_exporter": "python",
   "pygments_lexer": "ipython3",
   "version": "3.5.3"
  }
 },
 "nbformat": 4,
 "nbformat_minor": 2
}
