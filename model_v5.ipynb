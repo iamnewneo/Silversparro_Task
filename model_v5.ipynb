{
 "cells": [
  {
   "cell_type": "code",
   "execution_count": 1,
   "metadata": {
    "collapsed": true
   },
   "outputs": [],
   "source": [
    "import pandas as pd\n",
    "import matplotlib.pyplot as plt\n",
    "import numpy as np\n",
    "import seaborn as sns"
   ]
  },
  {
   "cell_type": "code",
   "execution_count": 2,
   "metadata": {
    "collapsed": true
   },
   "outputs": [],
   "source": [
    "%matplotlib inline\n",
    "import warnings\n",
    "warnings.filterwarnings(\"ignore\")"
   ]
  },
  {
   "cell_type": "code",
   "execution_count": 3,
   "metadata": {
    "collapsed": true
   },
   "outputs": [],
   "source": [
    "columns = [\"Image_Id\",\"gt_total\", \"gt_date\",\"gt_time\", \"pred_total\", \"pred_date\", \"pred_time\", \"conf_total\", \"conf_time\",\"conf_date\"]"
   ]
  },
  {
   "cell_type": "code",
   "execution_count": 4,
   "metadata": {
    "collapsed": false
   },
   "outputs": [],
   "source": [
    "df = pd.read_csv(\"data/Assigment 2 - Train.txt\", sep=\"|\", names=columns)\n",
    "test = pd.read_csv(\"data/Assignment 2 - Test.txt\", sep=\"|\", names=columns)"
   ]
  },
  {
   "cell_type": "code",
   "execution_count": 5,
   "metadata": {
    "collapsed": false
   },
   "outputs": [
    {
     "data": {
      "text/html": [
       "<div>\n",
       "<table border=\"1\" class=\"dataframe\">\n",
       "  <thead>\n",
       "    <tr style=\"text-align: right;\">\n",
       "      <th></th>\n",
       "      <th>Image_Id</th>\n",
       "      <th>gt_total</th>\n",
       "      <th>gt_date</th>\n",
       "      <th>gt_time</th>\n",
       "      <th>pred_total</th>\n",
       "      <th>pred_date</th>\n",
       "      <th>pred_time</th>\n",
       "      <th>conf_total</th>\n",
       "      <th>conf_time</th>\n",
       "      <th>conf_date</th>\n",
       "    </tr>\n",
       "  </thead>\n",
       "  <tbody>\n",
       "    <tr>\n",
       "      <th>0</th>\n",
       "      <td>1</td>\n",
       "      <td>160</td>\n",
       "      <td>2016-09-11</td>\n",
       "      <td>13:52:00</td>\n",
       "      <td>160</td>\n",
       "      <td>2016-03-11</td>\n",
       "      <td>13:52:00</td>\n",
       "      <td>-0.001974</td>\n",
       "      <td>-1.180410</td>\n",
       "      <td>-0.008496</td>\n",
       "    </tr>\n",
       "    <tr>\n",
       "      <th>1</th>\n",
       "      <td>3</td>\n",
       "      <td>195</td>\n",
       "      <td>2016-09-23</td>\n",
       "      <td>18:52:00</td>\n",
       "      <td>195</td>\n",
       "      <td>2016-09-23</td>\n",
       "      <td>18:52:00</td>\n",
       "      <td>-0.011053</td>\n",
       "      <td>-0.864236</td>\n",
       "      <td>-0.018932</td>\n",
       "    </tr>\n",
       "    <tr>\n",
       "      <th>2</th>\n",
       "      <td>4</td>\n",
       "      <td>145</td>\n",
       "      <td>2016-10-02</td>\n",
       "      <td>15:58:00</td>\n",
       "      <td>145</td>\n",
       "      <td>2017-10-18</td>\n",
       "      <td>15:58:00</td>\n",
       "      <td>-0.002920</td>\n",
       "      <td>-2.266910</td>\n",
       "      <td>-0.978772</td>\n",
       "    </tr>\n",
       "    <tr>\n",
       "      <th>3</th>\n",
       "      <td>4</td>\n",
       "      <td>243</td>\n",
       "      <td>2016-09-26</td>\n",
       "      <td>18:25:00</td>\n",
       "      <td>243</td>\n",
       "      <td>2017-09-26</td>\n",
       "      <td>18:25:00</td>\n",
       "      <td>-0.075094</td>\n",
       "      <td>-0.810062</td>\n",
       "      <td>-0.123047</td>\n",
       "    </tr>\n",
       "    <tr>\n",
       "      <th>4</th>\n",
       "      <td>6</td>\n",
       "      <td>71</td>\n",
       "      <td>2016-09-19</td>\n",
       "      <td>13:47:00</td>\n",
       "      <td>71</td>\n",
       "      <td>2016-08-19</td>\n",
       "      <td>13:47:00</td>\n",
       "      <td>-0.014107</td>\n",
       "      <td>-0.664796</td>\n",
       "      <td>-0.003986</td>\n",
       "    </tr>\n",
       "  </tbody>\n",
       "</table>\n",
       "</div>"
      ],
      "text/plain": [
       "   Image_Id  gt_total     gt_date   gt_time  pred_total   pred_date pred_time  \\\n",
       "0         1       160  2016-09-11  13:52:00         160  2016-03-11  13:52:00   \n",
       "1         3       195  2016-09-23  18:52:00         195  2016-09-23  18:52:00   \n",
       "2         4       145  2016-10-02  15:58:00         145  2017-10-18  15:58:00   \n",
       "3         4       243  2016-09-26  18:25:00         243  2017-09-26  18:25:00   \n",
       "4         6        71  2016-09-19  13:47:00          71  2016-08-19  13:47:00   \n",
       "\n",
       "   conf_total  conf_time  conf_date  \n",
       "0   -0.001974  -1.180410  -0.008496  \n",
       "1   -0.011053  -0.864236  -0.018932  \n",
       "2   -0.002920  -2.266910  -0.978772  \n",
       "3   -0.075094  -0.810062  -0.123047  \n",
       "4   -0.014107  -0.664796  -0.003986  "
      ]
     },
     "execution_count": 5,
     "metadata": {},
     "output_type": "execute_result"
    }
   ],
   "source": [
    "df.head()"
   ]
  },
  {
   "cell_type": "code",
   "execution_count": 6,
   "metadata": {
    "collapsed": false
   },
   "outputs": [
    {
     "data": {
      "text/plain": [
       "Image_Id      0\n",
       "gt_total      0\n",
       "gt_date       0\n",
       "gt_time       0\n",
       "pred_total    0\n",
       "pred_date     0\n",
       "pred_time     0\n",
       "conf_total    0\n",
       "conf_time     0\n",
       "conf_date     0\n",
       "dtype: int64"
      ]
     },
     "execution_count": 6,
     "metadata": {},
     "output_type": "execute_result"
    }
   ],
   "source": [
    "df.isnull().sum()"
   ]
  },
  {
   "cell_type": "code",
   "execution_count": 7,
   "metadata": {
    "collapsed": false
   },
   "outputs": [],
   "source": [
    "# df[\"gt_date\"].value_counts()"
   ]
  },
  {
   "cell_type": "code",
   "execution_count": 8,
   "metadata": {
    "collapsed": false
   },
   "outputs": [],
   "source": [
    "# df[\"gt_time\"].value_counts()"
   ]
  },
  {
   "cell_type": "code",
   "execution_count": 9,
   "metadata": {
    "collapsed": false
   },
   "outputs": [],
   "source": [
    "# df[\"gt_total\"].value_counts()"
   ]
  },
  {
   "cell_type": "code",
   "execution_count": 10,
   "metadata": {
    "collapsed": false
   },
   "outputs": [],
   "source": [
    "# df[\"pred_date\"].value_counts()"
   ]
  },
  {
   "cell_type": "code",
   "execution_count": 11,
   "metadata": {
    "collapsed": false
   },
   "outputs": [],
   "source": [
    "# df[\"pred_time\"].value_counts()"
   ]
  },
  {
   "cell_type": "code",
   "execution_count": 12,
   "metadata": {
    "collapsed": false
   },
   "outputs": [],
   "source": [
    "# df[\"pred_total\"].value_counts()"
   ]
  },
  {
   "cell_type": "code",
   "execution_count": 13,
   "metadata": {
    "collapsed": false
   },
   "outputs": [],
   "source": [
    "# df[df[\"pred_time\"] == \"noTime\"]"
   ]
  },
  {
   "cell_type": "code",
   "execution_count": 14,
   "metadata": {
    "collapsed": false
   },
   "outputs": [],
   "source": [
    "# test[test[\"pred_time\"] == \"noTime\"]"
   ]
  },
  {
   "cell_type": "code",
   "execution_count": 15,
   "metadata": {
    "collapsed": true
   },
   "outputs": [],
   "source": [
    "time_df = df[df[\"pred_time\"] != \"noTime\"]"
   ]
  },
  {
   "cell_type": "code",
   "execution_count": 16,
   "metadata": {
    "collapsed": true
   },
   "outputs": [],
   "source": [
    "time_test_df = test[test[\"pred_time\"] != \"noTime\"]"
   ]
  },
  {
   "cell_type": "code",
   "execution_count": 17,
   "metadata": {
    "collapsed": false
   },
   "outputs": [],
   "source": [
    "df[\"gt_date\"] = pd.to_datetime(df[\"gt_date\"])\n",
    "df[\"gt_time\"] = pd.to_datetime(df[\"gt_time\"])\n",
    "df[\"pred_date\"] = pd.to_datetime(df[\"pred_date\"])\n",
    "# df[\"pred_time\"] = pd.to_datetime(df[\"pred_time\"])"
   ]
  },
  {
   "cell_type": "code",
   "execution_count": 18,
   "metadata": {
    "collapsed": true
   },
   "outputs": [],
   "source": [
    "test[\"gt_date\"] = pd.to_datetime(test[\"gt_date\"])\n",
    "test[\"gt_time\"] = pd.to_datetime(test[\"gt_time\"])\n",
    "test[\"pred_date\"] = pd.to_datetime(test[\"pred_date\"])"
   ]
  },
  {
   "cell_type": "code",
   "execution_count": 19,
   "metadata": {
    "collapsed": false
   },
   "outputs": [
    {
     "data": {
      "text/plain": [
       "Image_Id               int64\n",
       "gt_total               int64\n",
       "gt_date       datetime64[ns]\n",
       "gt_time       datetime64[ns]\n",
       "pred_total             int64\n",
       "pred_date     datetime64[ns]\n",
       "pred_time             object\n",
       "conf_total           float64\n",
       "conf_time            float64\n",
       "conf_date            float64\n",
       "dtype: object"
      ]
     },
     "execution_count": 19,
     "metadata": {},
     "output_type": "execute_result"
    }
   ],
   "source": [
    "df.dtypes"
   ]
  },
  {
   "cell_type": "code",
   "execution_count": 20,
   "metadata": {
    "collapsed": false
   },
   "outputs": [
    {
     "data": {
      "text/html": [
       "<div>\n",
       "<table border=\"1\" class=\"dataframe\">\n",
       "  <thead>\n",
       "    <tr style=\"text-align: right;\">\n",
       "      <th></th>\n",
       "      <th>Image_Id</th>\n",
       "      <th>gt_total</th>\n",
       "      <th>gt_date</th>\n",
       "      <th>gt_time</th>\n",
       "      <th>pred_total</th>\n",
       "      <th>pred_date</th>\n",
       "      <th>pred_time</th>\n",
       "      <th>conf_total</th>\n",
       "      <th>conf_time</th>\n",
       "      <th>conf_date</th>\n",
       "    </tr>\n",
       "  </thead>\n",
       "  <tbody>\n",
       "    <tr>\n",
       "      <th>0</th>\n",
       "      <td>1</td>\n",
       "      <td>160</td>\n",
       "      <td>2016-09-11</td>\n",
       "      <td>2017-07-21 13:52:00</td>\n",
       "      <td>160</td>\n",
       "      <td>2016-03-11</td>\n",
       "      <td>13:52:00</td>\n",
       "      <td>-0.001974</td>\n",
       "      <td>-1.180410</td>\n",
       "      <td>-0.008496</td>\n",
       "    </tr>\n",
       "    <tr>\n",
       "      <th>1</th>\n",
       "      <td>3</td>\n",
       "      <td>195</td>\n",
       "      <td>2016-09-23</td>\n",
       "      <td>2017-07-21 18:52:00</td>\n",
       "      <td>195</td>\n",
       "      <td>2016-09-23</td>\n",
       "      <td>18:52:00</td>\n",
       "      <td>-0.011053</td>\n",
       "      <td>-0.864236</td>\n",
       "      <td>-0.018932</td>\n",
       "    </tr>\n",
       "    <tr>\n",
       "      <th>2</th>\n",
       "      <td>4</td>\n",
       "      <td>145</td>\n",
       "      <td>2016-10-02</td>\n",
       "      <td>2017-07-21 15:58:00</td>\n",
       "      <td>145</td>\n",
       "      <td>2017-10-18</td>\n",
       "      <td>15:58:00</td>\n",
       "      <td>-0.002920</td>\n",
       "      <td>-2.266910</td>\n",
       "      <td>-0.978772</td>\n",
       "    </tr>\n",
       "    <tr>\n",
       "      <th>3</th>\n",
       "      <td>4</td>\n",
       "      <td>243</td>\n",
       "      <td>2016-09-26</td>\n",
       "      <td>2017-07-21 18:25:00</td>\n",
       "      <td>243</td>\n",
       "      <td>2017-09-26</td>\n",
       "      <td>18:25:00</td>\n",
       "      <td>-0.075094</td>\n",
       "      <td>-0.810062</td>\n",
       "      <td>-0.123047</td>\n",
       "    </tr>\n",
       "    <tr>\n",
       "      <th>4</th>\n",
       "      <td>6</td>\n",
       "      <td>71</td>\n",
       "      <td>2016-09-19</td>\n",
       "      <td>2017-07-21 13:47:00</td>\n",
       "      <td>71</td>\n",
       "      <td>2016-08-19</td>\n",
       "      <td>13:47:00</td>\n",
       "      <td>-0.014107</td>\n",
       "      <td>-0.664796</td>\n",
       "      <td>-0.003986</td>\n",
       "    </tr>\n",
       "  </tbody>\n",
       "</table>\n",
       "</div>"
      ],
      "text/plain": [
       "   Image_Id  gt_total    gt_date             gt_time  pred_total  pred_date  \\\n",
       "0         1       160 2016-09-11 2017-07-21 13:52:00         160 2016-03-11   \n",
       "1         3       195 2016-09-23 2017-07-21 18:52:00         195 2016-09-23   \n",
       "2         4       145 2016-10-02 2017-07-21 15:58:00         145 2017-10-18   \n",
       "3         4       243 2016-09-26 2017-07-21 18:25:00         243 2017-09-26   \n",
       "4         6        71 2016-09-19 2017-07-21 13:47:00          71 2016-08-19   \n",
       "\n",
       "  pred_time  conf_total  conf_time  conf_date  \n",
       "0  13:52:00   -0.001974  -1.180410  -0.008496  \n",
       "1  18:52:00   -0.011053  -0.864236  -0.018932  \n",
       "2  15:58:00   -0.002920  -2.266910  -0.978772  \n",
       "3  18:25:00   -0.075094  -0.810062  -0.123047  \n",
       "4  13:47:00   -0.014107  -0.664796  -0.003986  "
      ]
     },
     "execution_count": 20,
     "metadata": {},
     "output_type": "execute_result"
    }
   ],
   "source": [
    "df.head()"
   ]
  },
  {
   "cell_type": "markdown",
   "metadata": {},
   "source": [
    "# Predicting Total Variable"
   ]
  },
  {
   "cell_type": "code",
   "execution_count": 21,
   "metadata": {
    "collapsed": true
   },
   "outputs": [],
   "source": [
    "total_df = df[[\"Image_Id\", \"gt_total\", \"pred_total\", \"conf_total\"]]"
   ]
  },
  {
   "cell_type": "code",
   "execution_count": 22,
   "metadata": {
    "collapsed": true
   },
   "outputs": [],
   "source": [
    "test_total = test[[\"Image_Id\", \"gt_total\", \"pred_total\", \"conf_total\"]]"
   ]
  },
  {
   "cell_type": "code",
   "execution_count": 23,
   "metadata": {
    "collapsed": false
   },
   "outputs": [
    {
     "data": {
      "text/html": [
       "<div>\n",
       "<table border=\"1\" class=\"dataframe\">\n",
       "  <thead>\n",
       "    <tr style=\"text-align: right;\">\n",
       "      <th></th>\n",
       "      <th>Image_Id</th>\n",
       "      <th>gt_total</th>\n",
       "      <th>pred_total</th>\n",
       "      <th>conf_total</th>\n",
       "    </tr>\n",
       "  </thead>\n",
       "  <tbody>\n",
       "    <tr>\n",
       "      <th>0</th>\n",
       "      <td>1</td>\n",
       "      <td>160</td>\n",
       "      <td>160</td>\n",
       "      <td>-0.001974</td>\n",
       "    </tr>\n",
       "    <tr>\n",
       "      <th>1</th>\n",
       "      <td>3</td>\n",
       "      <td>195</td>\n",
       "      <td>195</td>\n",
       "      <td>-0.011053</td>\n",
       "    </tr>\n",
       "    <tr>\n",
       "      <th>2</th>\n",
       "      <td>4</td>\n",
       "      <td>145</td>\n",
       "      <td>145</td>\n",
       "      <td>-0.002920</td>\n",
       "    </tr>\n",
       "    <tr>\n",
       "      <th>3</th>\n",
       "      <td>4</td>\n",
       "      <td>243</td>\n",
       "      <td>243</td>\n",
       "      <td>-0.075094</td>\n",
       "    </tr>\n",
       "    <tr>\n",
       "      <th>4</th>\n",
       "      <td>6</td>\n",
       "      <td>71</td>\n",
       "      <td>71</td>\n",
       "      <td>-0.014107</td>\n",
       "    </tr>\n",
       "  </tbody>\n",
       "</table>\n",
       "</div>"
      ],
      "text/plain": [
       "   Image_Id  gt_total  pred_total  conf_total\n",
       "0         1       160         160   -0.001974\n",
       "1         3       195         195   -0.011053\n",
       "2         4       145         145   -0.002920\n",
       "3         4       243         243   -0.075094\n",
       "4         6        71          71   -0.014107"
      ]
     },
     "execution_count": 23,
     "metadata": {},
     "output_type": "execute_result"
    }
   ],
   "source": [
    "total_df.head()"
   ]
  },
  {
   "cell_type": "code",
   "execution_count": 24,
   "metadata": {
    "collapsed": false
   },
   "outputs": [],
   "source": [
    "total_df[\"total_label\"] = df.apply(lambda x: 1 if x[\"gt_total\"] == x[\"pred_total\"] else 0, axis=1)"
   ]
  },
  {
   "cell_type": "code",
   "execution_count": 25,
   "metadata": {
    "collapsed": true
   },
   "outputs": [],
   "source": [
    "test_total[\"total_label\"] = df.apply(lambda x: 1 if x[\"gt_total\"] == x[\"pred_total\"] else 0, axis=1)"
   ]
  },
  {
   "cell_type": "code",
   "execution_count": 26,
   "metadata": {
    "collapsed": false
   },
   "outputs": [
    {
     "data": {
      "text/plain": [
       "1    4542\n",
       "0     458\n",
       "Name: total_label, dtype: int64"
      ]
     },
     "execution_count": 26,
     "metadata": {},
     "output_type": "execute_result"
    }
   ],
   "source": [
    "total_df[\"total_label\"].value_counts()"
   ]
  },
  {
   "cell_type": "code",
   "execution_count": 27,
   "metadata": {
    "collapsed": false
   },
   "outputs": [
    {
     "data": {
      "text/plain": [
       "54196"
      ]
     },
     "execution_count": 27,
     "metadata": {},
     "output_type": "execute_result"
    }
   ],
   "source": [
    "total_df[\"gt_total\"].max()"
   ]
  },
  {
   "cell_type": "code",
   "execution_count": 28,
   "metadata": {
    "collapsed": false
   },
   "outputs": [
    {
     "data": {
      "text/plain": [
       "1    24\n",
       "0     9\n",
       "Name: total_label, dtype: int64"
      ]
     },
     "execution_count": 28,
     "metadata": {},
     "output_type": "execute_result"
    }
   ],
   "source": [
    "total_df[total_df[\"gt_total\"]>10000][\"total_label\"].value_counts()"
   ]
  },
  {
   "cell_type": "code",
   "execution_count": 29,
   "metadata": {
    "collapsed": true
   },
   "outputs": [],
   "source": [
    "def convert_string(x):\n",
    "    _str_len = 5\n",
    "    x_len = len(str(x))\n",
    "    diff = _str_len - x_len\n",
    "    if diff>0:\n",
    "        return str((\"0\" * diff)+str(x))\n",
    "    else:\n",
    "        return str(x)"
   ]
  },
  {
   "cell_type": "code",
   "execution_count": 30,
   "metadata": {
    "collapsed": false
   },
   "outputs": [
    {
     "data": {
      "text/plain": [
       "Index(['Image_Id', 'gt_total', 'pred_total', 'conf_total', 'total_label'], dtype='object')"
      ]
     },
     "execution_count": 30,
     "metadata": {},
     "output_type": "execute_result"
    }
   ],
   "source": [
    "total_df.columns"
   ]
  },
  {
   "cell_type": "code",
   "execution_count": 31,
   "metadata": {
    "collapsed": true
   },
   "outputs": [],
   "source": [
    "# total_df[\"gt_total\"] = total_df[\"gt_total\"].apply(convert_string)\n",
    "total_df[\"pred_total\"] = total_df[\"pred_total\"].apply(convert_string)"
   ]
  },
  {
   "cell_type": "code",
   "execution_count": 32,
   "metadata": {
    "collapsed": true
   },
   "outputs": [],
   "source": [
    "# test_total[\"gt_total\"] = test_total[\"gt_total\"].apply(convert_string)\n",
    "test_total[\"pred_total\"] = test_total[\"pred_total\"].apply(convert_string)"
   ]
  },
  {
   "cell_type": "code",
   "execution_count": 33,
   "metadata": {
    "collapsed": false
   },
   "outputs": [
    {
     "data": {
      "text/plain": [
       "Image_Id         int64\n",
       "gt_total         int64\n",
       "pred_total      object\n",
       "conf_total     float64\n",
       "total_label      int64\n",
       "dtype: object"
      ]
     },
     "execution_count": 33,
     "metadata": {},
     "output_type": "execute_result"
    }
   ],
   "source": [
    "total_df.dtypes"
   ]
  },
  {
   "cell_type": "code",
   "execution_count": 34,
   "metadata": {
    "collapsed": false
   },
   "outputs": [],
   "source": [
    "for pos in range(0,5):\n",
    "#     total_df[str(pos+1)+\"_digit_gt\"] = total_df[\"gt_total\"].apply(lambda x: x[pos])\n",
    "    total_df[str(pos+1)+\"_digit_pred\"] = total_df[\"pred_total\"].apply(lambda x: x[pos])\n",
    "#     test_total[str(pos+1)+\"_digit_gt\"] = test_total[\"gt_total\"].apply(lambda x: x[pos])\n",
    "    test_total[str(pos+1)+\"_digit_pred\"] = test_total[\"pred_total\"].apply(lambda x: x[pos])"
   ]
  },
  {
   "cell_type": "code",
   "execution_count": 35,
   "metadata": {
    "collapsed": false
   },
   "outputs": [
    {
     "data": {
      "text/html": [
       "<div>\n",
       "<table border=\"1\" class=\"dataframe\">\n",
       "  <thead>\n",
       "    <tr style=\"text-align: right;\">\n",
       "      <th></th>\n",
       "      <th>Image_Id</th>\n",
       "      <th>gt_total</th>\n",
       "      <th>pred_total</th>\n",
       "      <th>conf_total</th>\n",
       "      <th>total_label</th>\n",
       "      <th>1_digit_pred</th>\n",
       "      <th>2_digit_pred</th>\n",
       "      <th>3_digit_pred</th>\n",
       "      <th>4_digit_pred</th>\n",
       "      <th>5_digit_pred</th>\n",
       "    </tr>\n",
       "  </thead>\n",
       "  <tbody>\n",
       "    <tr>\n",
       "      <th>0</th>\n",
       "      <td>1</td>\n",
       "      <td>160</td>\n",
       "      <td>00160</td>\n",
       "      <td>-0.001974</td>\n",
       "      <td>1</td>\n",
       "      <td>0</td>\n",
       "      <td>0</td>\n",
       "      <td>1</td>\n",
       "      <td>6</td>\n",
       "      <td>0</td>\n",
       "    </tr>\n",
       "    <tr>\n",
       "      <th>1</th>\n",
       "      <td>3</td>\n",
       "      <td>195</td>\n",
       "      <td>00195</td>\n",
       "      <td>-0.011053</td>\n",
       "      <td>1</td>\n",
       "      <td>0</td>\n",
       "      <td>0</td>\n",
       "      <td>1</td>\n",
       "      <td>9</td>\n",
       "      <td>5</td>\n",
       "    </tr>\n",
       "    <tr>\n",
       "      <th>2</th>\n",
       "      <td>4</td>\n",
       "      <td>145</td>\n",
       "      <td>00145</td>\n",
       "      <td>-0.002920</td>\n",
       "      <td>1</td>\n",
       "      <td>0</td>\n",
       "      <td>0</td>\n",
       "      <td>1</td>\n",
       "      <td>4</td>\n",
       "      <td>5</td>\n",
       "    </tr>\n",
       "    <tr>\n",
       "      <th>3</th>\n",
       "      <td>4</td>\n",
       "      <td>243</td>\n",
       "      <td>00243</td>\n",
       "      <td>-0.075094</td>\n",
       "      <td>1</td>\n",
       "      <td>0</td>\n",
       "      <td>0</td>\n",
       "      <td>2</td>\n",
       "      <td>4</td>\n",
       "      <td>3</td>\n",
       "    </tr>\n",
       "    <tr>\n",
       "      <th>4</th>\n",
       "      <td>6</td>\n",
       "      <td>71</td>\n",
       "      <td>00071</td>\n",
       "      <td>-0.014107</td>\n",
       "      <td>1</td>\n",
       "      <td>0</td>\n",
       "      <td>0</td>\n",
       "      <td>0</td>\n",
       "      <td>7</td>\n",
       "      <td>1</td>\n",
       "    </tr>\n",
       "  </tbody>\n",
       "</table>\n",
       "</div>"
      ],
      "text/plain": [
       "   Image_Id  gt_total pred_total  conf_total  total_label 1_digit_pred  \\\n",
       "0         1       160      00160   -0.001974            1            0   \n",
       "1         3       195      00195   -0.011053            1            0   \n",
       "2         4       145      00145   -0.002920            1            0   \n",
       "3         4       243      00243   -0.075094            1            0   \n",
       "4         6        71      00071   -0.014107            1            0   \n",
       "\n",
       "  2_digit_pred 3_digit_pred 4_digit_pred 5_digit_pred  \n",
       "0            0            1            6            0  \n",
       "1            0            1            9            5  \n",
       "2            0            1            4            5  \n",
       "3            0            2            4            3  \n",
       "4            0            0            7            1  "
      ]
     },
     "execution_count": 35,
     "metadata": {},
     "output_type": "execute_result"
    }
   ],
   "source": [
    "total_df.head()"
   ]
  },
  {
   "cell_type": "code",
   "execution_count": 36,
   "metadata": {
    "collapsed": true
   },
   "outputs": [],
   "source": [
    "# total_df[\"conf_total\"]=(total_df[\"conf_total\"]-total_df[\"conf_total\"].mean())/total_df[\"conf_total\"].std()\n",
    "# test_total[\"conf_total\"]=(test_total[\"conf_total\"]-test_total[\"conf_total\"].mean())/test_total[\"conf_total\"].std()"
   ]
  },
  {
   "cell_type": "code",
   "execution_count": 37,
   "metadata": {
    "collapsed": false
   },
   "outputs": [
    {
     "data": {
      "text/plain": [
       "<matplotlib.axes._subplots.AxesSubplot at 0x7f547e3cda20>"
      ]
     },
     "execution_count": 37,
     "metadata": {},
     "output_type": "execute_result"
    },
    {
     "data": {
      "image/png": "[encoded data removed]",
      "text/plain": [
       "<matplotlib.figure.Figure at 0x7f547e3cd550>"
      ]
     },
     "metadata": {},
     "output_type": "display_data"
    }
   ],
   "source": [
    "sns.kdeplot(total_df[\"conf_total\"])"
   ]
  },
  {
   "cell_type": "code",
   "execution_count": 38,
   "metadata": {
    "collapsed": false
   },
   "outputs": [
    {
     "data": {
      "text/plain": [
       "<matplotlib.axes._subplots.AxesSubplot at 0x7f547e2f1400>"
      ]
     },
     "execution_count": 38,
     "metadata": {},
     "output_type": "execute_result"
    },
    {
     "data": {
      "image/png": "[encoded data removed]",
      "text/plain": [
       "<matplotlib.figure.Figure at 0x7f547e197a90>"
      ]
     },
     "metadata": {},
     "output_type": "display_data"
    }
   ],
   "source": [
    "sns.kdeplot(np.sqrt(total_df[\"conf_total\"]*-1))"
   ]
  },
  {
   "cell_type": "code",
   "execution_count": 39,
   "metadata": {
    "collapsed": true
   },
   "outputs": [],
   "source": [
    "total_df[\"conf_total\"] = total_df[\"conf_total\"]*-1\n",
    "test_total[\"conf_total\"] = test_total[\"conf_total\"]*-1\n",
    "\n",
    "total_df[\"conf_total\"] = np.sqrt(total_df[\"conf_total\"])\n",
    "test_total[\"conf_total\"] = np.sqrt(test_total[\"conf_total\"])"
   ]
  },
  {
   "cell_type": "code",
   "execution_count": 40,
   "metadata": {
    "collapsed": false
   },
   "outputs": [
    {
     "data": {
      "text/plain": [
       "<matplotlib.axes._subplots.AxesSubplot at 0x7f547e25f3c8>"
      ]
     },
     "execution_count": 40,
     "metadata": {},
     "output_type": "execute_result"
    },
    {
     "data": {
      "image/png": "[encoded data removed]",
      "text/plain": [
       "<matplotlib.figure.Figure at 0x7f547e225a90>"
      ]
     },
     "metadata": {},
     "output_type": "display_data"
    }
   ],
   "source": [
    "sns.kdeplot((total_df[\"conf_total\"]-total_df[\"conf_total\"].min())/(total_df[\"conf_total\"].max()-total_df[\"conf_total\"].min()))"
   ]
  },
  {
   "cell_type": "code",
   "execution_count": 41,
   "metadata": {
    "collapsed": true
   },
   "outputs": [],
   "source": [
    "# total_df[\"conf_total\"]=(total_df[\"conf_total\"]-total_df[\"conf_total\"].min())/(total_df[\"conf_total\"].max()-total_df[\"conf_total\"].min())\n",
    "# test_total[\"conf_total\"]=(test_total[\"conf_total\"]-test_total[\"conf_total\"].min())/(test_total[\"conf_total\"].max()-test_total[\"conf_total\"].min())"
   ]
  },
  {
   "cell_type": "code",
   "execution_count": 42,
   "metadata": {
    "collapsed": true
   },
   "outputs": [],
   "source": [
    "total_df[\"conf_total\"]=(total_df[\"conf_total\"]-total_df[\"conf_total\"].mean())/total_df[\"conf_total\"].std()\n",
    "test_total[\"conf_total\"]=(test_total[\"conf_total\"]-test_total[\"conf_total\"].mean())/test_total[\"conf_total\"].std()"
   ]
  },
  {
   "cell_type": "code",
   "execution_count": 43,
   "metadata": {
    "collapsed": true
   },
   "outputs": [],
   "source": [
    "total_q1 = total_df['conf_total'].quantile(.25)\n",
    "total_q3 = total_df['conf_total'].quantile(.75)\n",
    "total_iqr = total_q3 - total_q1\n",
    "total_mask = total_df['conf_total'].between(total_q1 - 1.5*total_iqr, total_q3 + 1.5*total_iqr, inclusive=True)\n",
    "\n",
    "total_df = total_df.loc[total_mask]"
   ]
  },
  {
   "cell_type": "code",
   "execution_count": 44,
   "metadata": {
    "collapsed": false
   },
   "outputs": [
    {
     "data": {
      "text/plain": [
       "(4448, 10)"
      ]
     },
     "execution_count": 44,
     "metadata": {},
     "output_type": "execute_result"
    }
   ],
   "source": [
    "total_df.shape"
   ]
  },
  {
   "cell_type": "code",
   "execution_count": 45,
   "metadata": {
    "collapsed": true
   },
   "outputs": [],
   "source": [
    "for col in total_df.columns:\n",
    "    total_df[col] = pd.to_numeric(total_df[col])\n",
    "    test_total[col] = pd.to_numeric(test_total[col])"
   ]
  },
  {
   "cell_type": "code",
   "execution_count": 46,
   "metadata": {
    "collapsed": true
   },
   "outputs": [],
   "source": [
    "X_total = total_df.drop([\"Image_Id\", \"gt_total\", \"pred_total\", \"total_label\"], axis=1)\n",
    "y_total = total_df[\"total_label\"]"
   ]
  },
  {
   "cell_type": "code",
   "execution_count": 47,
   "metadata": {
    "collapsed": true
   },
   "outputs": [],
   "source": [
    "X_total_test = test_total.drop([\"Image_Id\", \"gt_total\", \"pred_total\", \"total_label\"], axis=1)\n",
    "y_total_test = test_total[\"total_label\"]"
   ]
  },
  {
   "cell_type": "code",
   "execution_count": 48,
   "metadata": {
    "collapsed": false
   },
   "outputs": [
    {
     "data": {
      "text/plain": [
       "<matplotlib.axes._subplots.AxesSubplot at 0x7f547e18af60>"
      ]
     },
     "execution_count": 48,
     "metadata": {},
     "output_type": "execute_result"
    },
    {
     "data": {
      "image/png": "[encoded data removed]",
      "text/plain": [
       "<matplotlib.figure.Figure at 0x7f547e197128>"
      ]
     },
     "metadata": {},
     "output_type": "display_data"
    }
   ],
   "source": [
    "sns.kdeplot(total_df[\"conf_total\"])"
   ]
  },
  {
   "cell_type": "code",
   "execution_count": 49,
   "metadata": {
    "collapsed": false
   },
   "outputs": [
    {
     "data": {
      "text/plain": [
       "<matplotlib.axes._subplots.AxesSubplot at 0x7f547adeb0b8>"
      ]
     },
     "execution_count": 49,
     "metadata": {},
     "output_type": "execute_result"
    },
    {
     "data": {
      "image/png": "[encoded data removed]",
      "text/plain": [
       "<matplotlib.figure.Figure at 0x7f547adf6160>"
      ]
     },
     "metadata": {},
     "output_type": "display_data"
    }
   ],
   "source": [
    "sns.kdeplot(X_total[\"conf_total\"])"
   ]
  },
  {
   "cell_type": "code",
   "execution_count": 50,
   "metadata": {
    "collapsed": false
   },
   "outputs": [
    {
     "data": {
      "text/html": [
       "<div>\n",
       "<table border=\"1\" class=\"dataframe\">\n",
       "  <thead>\n",
       "    <tr style=\"text-align: right;\">\n",
       "      <th></th>\n",
       "      <th>conf_total</th>\n",
       "      <th>1_digit_pred</th>\n",
       "      <th>2_digit_pred</th>\n",
       "      <th>3_digit_pred</th>\n",
       "      <th>4_digit_pred</th>\n",
       "      <th>5_digit_pred</th>\n",
       "    </tr>\n",
       "  </thead>\n",
       "  <tbody>\n",
       "    <tr>\n",
       "      <th>0</th>\n",
       "      <td>-0.628195</td>\n",
       "      <td>0</td>\n",
       "      <td>0</td>\n",
       "      <td>1</td>\n",
       "      <td>6</td>\n",
       "      <td>0</td>\n",
       "    </tr>\n",
       "    <tr>\n",
       "      <th>1</th>\n",
       "      <td>-0.439147</td>\n",
       "      <td>0</td>\n",
       "      <td>0</td>\n",
       "      <td>1</td>\n",
       "      <td>9</td>\n",
       "      <td>5</td>\n",
       "    </tr>\n",
       "    <tr>\n",
       "      <th>2</th>\n",
       "      <td>-0.598274</td>\n",
       "      <td>0</td>\n",
       "      <td>0</td>\n",
       "      <td>1</td>\n",
       "      <td>4</td>\n",
       "      <td>5</td>\n",
       "    </tr>\n",
       "    <tr>\n",
       "      <th>3</th>\n",
       "      <td>0.086860</td>\n",
       "      <td>0</td>\n",
       "      <td>0</td>\n",
       "      <td>2</td>\n",
       "      <td>4</td>\n",
       "      <td>3</td>\n",
       "    </tr>\n",
       "    <tr>\n",
       "      <th>4</th>\n",
       "      <td>-0.396673</td>\n",
       "      <td>0</td>\n",
       "      <td>0</td>\n",
       "      <td>0</td>\n",
       "      <td>7</td>\n",
       "      <td>1</td>\n",
       "    </tr>\n",
       "  </tbody>\n",
       "</table>\n",
       "</div>"
      ],
      "text/plain": [
       "   conf_total  1_digit_pred  2_digit_pred  3_digit_pred  4_digit_pred  \\\n",
       "0   -0.628195             0             0             1             6   \n",
       "1   -0.439147             0             0             1             9   \n",
       "2   -0.598274             0             0             1             4   \n",
       "3    0.086860             0             0             2             4   \n",
       "4   -0.396673             0             0             0             7   \n",
       "\n",
       "   5_digit_pred  \n",
       "0             0  \n",
       "1             5  \n",
       "2             5  \n",
       "3             3  \n",
       "4             1  "
      ]
     },
     "execution_count": 50,
     "metadata": {},
     "output_type": "execute_result"
    }
   ],
   "source": [
    "X_total.head()"
   ]
  },
  {
   "cell_type": "code",
   "execution_count": 51,
   "metadata": {
    "collapsed": false
   },
   "outputs": [
    {
     "data": {
      "text/html": [
       "<div>\n",
       "<table border=\"1\" class=\"dataframe\">\n",
       "  <thead>\n",
       "    <tr style=\"text-align: right;\">\n",
       "      <th></th>\n",
       "      <th>conf_total</th>\n",
       "      <th>1_digit_pred</th>\n",
       "      <th>2_digit_pred</th>\n",
       "      <th>3_digit_pred</th>\n",
       "      <th>4_digit_pred</th>\n",
       "      <th>5_digit_pred</th>\n",
       "    </tr>\n",
       "  </thead>\n",
       "  <tbody>\n",
       "    <tr>\n",
       "      <th>0</th>\n",
       "      <td>-0.670997</td>\n",
       "      <td>0</td>\n",
       "      <td>0</td>\n",
       "      <td>7</td>\n",
       "      <td>7</td>\n",
       "      <td>1</td>\n",
       "    </tr>\n",
       "    <tr>\n",
       "      <th>1</th>\n",
       "      <td>-0.413121</td>\n",
       "      <td>0</td>\n",
       "      <td>2</td>\n",
       "      <td>0</td>\n",
       "      <td>5</td>\n",
       "      <td>4</td>\n",
       "    </tr>\n",
       "    <tr>\n",
       "      <th>2</th>\n",
       "      <td>0.779824</td>\n",
       "      <td>0</td>\n",
       "      <td>0</td>\n",
       "      <td>0</td>\n",
       "      <td>2</td>\n",
       "      <td>0</td>\n",
       "    </tr>\n",
       "    <tr>\n",
       "      <th>3</th>\n",
       "      <td>-0.536443</td>\n",
       "      <td>0</td>\n",
       "      <td>0</td>\n",
       "      <td>6</td>\n",
       "      <td>8</td>\n",
       "      <td>0</td>\n",
       "    </tr>\n",
       "    <tr>\n",
       "      <th>4</th>\n",
       "      <td>-0.558002</td>\n",
       "      <td>0</td>\n",
       "      <td>1</td>\n",
       "      <td>0</td>\n",
       "      <td>1</td>\n",
       "      <td>9</td>\n",
       "    </tr>\n",
       "  </tbody>\n",
       "</table>\n",
       "</div>"
      ],
      "text/plain": [
       "   conf_total  1_digit_pred  2_digit_pred  3_digit_pred  4_digit_pred  \\\n",
       "0   -0.670997             0             0             7             7   \n",
       "1   -0.413121             0             2             0             5   \n",
       "2    0.779824             0             0             0             2   \n",
       "3   -0.536443             0             0             6             8   \n",
       "4   -0.558002             0             1             0             1   \n",
       "\n",
       "   5_digit_pred  \n",
       "0             1  \n",
       "1             4  \n",
       "2             0  \n",
       "3             0  \n",
       "4             9  "
      ]
     },
     "execution_count": 51,
     "metadata": {},
     "output_type": "execute_result"
    }
   ],
   "source": [
    "X_total_test.head()"
   ]
  },
  {
   "cell_type": "code",
   "execution_count": 52,
   "metadata": {
    "collapsed": false
   },
   "outputs": [
    {
     "data": {
      "text/plain": [
       "<matplotlib.axes._subplots.AxesSubplot at 0x7f547ae0ef98>"
      ]
     },
     "execution_count": 52,
     "metadata": {},
     "output_type": "execute_result"
    },
    {
     "data": {
      "image/png": "[encoded data removed]",
      "text/plain": [
       "<matplotlib.figure.Figure at 0x7f547e127320>"
      ]
     },
     "metadata": {},
     "output_type": "display_data"
    }
   ],
   "source": [
    "sns.kdeplot(X_total[\"conf_total\"])"
   ]
  },
  {
   "cell_type": "code",
   "execution_count": 53,
   "metadata": {
    "collapsed": false
   },
   "outputs": [
    {
     "data": {
      "text/html": [
       "<div>\n",
       "<table border=\"1\" class=\"dataframe\">\n",
       "  <thead>\n",
       "    <tr style=\"text-align: right;\">\n",
       "      <th></th>\n",
       "      <th>conf_total</th>\n",
       "      <th>1_digit_pred</th>\n",
       "      <th>2_digit_pred</th>\n",
       "      <th>3_digit_pred</th>\n",
       "      <th>4_digit_pred</th>\n",
       "      <th>5_digit_pred</th>\n",
       "    </tr>\n",
       "  </thead>\n",
       "  <tbody>\n",
       "    <tr>\n",
       "      <th>0</th>\n",
       "      <td>-0.670997</td>\n",
       "      <td>0</td>\n",
       "      <td>0</td>\n",
       "      <td>7</td>\n",
       "      <td>7</td>\n",
       "      <td>1</td>\n",
       "    </tr>\n",
       "    <tr>\n",
       "      <th>1</th>\n",
       "      <td>-0.413121</td>\n",
       "      <td>0</td>\n",
       "      <td>2</td>\n",
       "      <td>0</td>\n",
       "      <td>5</td>\n",
       "      <td>4</td>\n",
       "    </tr>\n",
       "    <tr>\n",
       "      <th>2</th>\n",
       "      <td>0.779824</td>\n",
       "      <td>0</td>\n",
       "      <td>0</td>\n",
       "      <td>0</td>\n",
       "      <td>2</td>\n",
       "      <td>0</td>\n",
       "    </tr>\n",
       "    <tr>\n",
       "      <th>3</th>\n",
       "      <td>-0.536443</td>\n",
       "      <td>0</td>\n",
       "      <td>0</td>\n",
       "      <td>6</td>\n",
       "      <td>8</td>\n",
       "      <td>0</td>\n",
       "    </tr>\n",
       "    <tr>\n",
       "      <th>4</th>\n",
       "      <td>-0.558002</td>\n",
       "      <td>0</td>\n",
       "      <td>1</td>\n",
       "      <td>0</td>\n",
       "      <td>1</td>\n",
       "      <td>9</td>\n",
       "    </tr>\n",
       "  </tbody>\n",
       "</table>\n",
       "</div>"
      ],
      "text/plain": [
       "   conf_total  1_digit_pred  2_digit_pred  3_digit_pred  4_digit_pred  \\\n",
       "0   -0.670997             0             0             7             7   \n",
       "1   -0.413121             0             2             0             5   \n",
       "2    0.779824             0             0             0             2   \n",
       "3   -0.536443             0             0             6             8   \n",
       "4   -0.558002             0             1             0             1   \n",
       "\n",
       "   5_digit_pred  \n",
       "0             1  \n",
       "1             4  \n",
       "2             0  \n",
       "3             0  \n",
       "4             9  "
      ]
     },
     "execution_count": 53,
     "metadata": {},
     "output_type": "execute_result"
    }
   ],
   "source": [
    "X_total_test.head()"
   ]
  },
  {
   "cell_type": "code",
   "execution_count": 54,
   "metadata": {
    "collapsed": true
   },
   "outputs": [],
   "source": [
    "from sklearn.ensemble import RandomForestClassifier\n",
    "from sklearn.metrics import f1_score\n",
    "from sklearn.metrics import precision_score\n",
    "from sklearn.metrics import recall_score\n",
    "from sklearn.model_selection import GridSearchCV\n",
    "from sklearn.model_selection import StratifiedKFold"
   ]
  },
  {
   "cell_type": "code",
   "execution_count": 55,
   "metadata": {
    "collapsed": false
   },
   "outputs": [
    {
     "name": "stderr",
     "output_type": "stream",
     "text": [
      "/home/iamnewneo/anaconda3/lib/python3.5/site-packages/sklearn/cross_validation.py:44: DeprecationWarning: This module was deprecated in version 0.18 in favor of the model_selection module into which all the refactored classes and functions are moved. Also note that the interface of the new CV iterators are different from that of this module. This module will be removed in 0.20.\n",
      "  \"This module will be removed in 0.20.\", DeprecationWarning)\n"
     ]
    }
   ],
   "source": [
    "from xgboost import XGBClassifier"
   ]
  },
  {
   "cell_type": "code",
   "execution_count": 56,
   "metadata": {
    "collapsed": true
   },
   "outputs": [],
   "source": [
    "from sklearn.metrics import accuracy_score"
   ]
  },
  {
   "cell_type": "code",
   "execution_count": 57,
   "metadata": {
    "collapsed": true
   },
   "outputs": [],
   "source": [
    "rf = XGBClassifier()"
   ]
  },
  {
   "cell_type": "code",
   "execution_count": 58,
   "metadata": {
    "collapsed": true
   },
   "outputs": [],
   "source": [
    "# rf = RandomForestClassifier()"
   ]
  },
  {
   "cell_type": "code",
   "execution_count": 59,
   "metadata": {
    "collapsed": false
   },
   "outputs": [
    {
     "data": {
      "text/plain": [
       "XGBClassifier(base_score=0.5, colsample_bylevel=1, colsample_bytree=1,\n",
       "       gamma=0, learning_rate=0.1, max_delta_step=0, max_depth=3,\n",
       "       min_child_weight=1, missing=None, n_estimators=100, nthread=-1,\n",
       "       objective='binary:logistic', reg_alpha=0, reg_lambda=1,\n",
       "       scale_pos_weight=1, seed=0, silent=True, subsample=1)"
      ]
     },
     "execution_count": 59,
     "metadata": {},
     "output_type": "execute_result"
    }
   ],
   "source": [
    "rf.fit(X_total,y_total)"
   ]
  },
  {
   "cell_type": "code",
   "execution_count": 60,
   "metadata": {
    "collapsed": true
   },
   "outputs": [],
   "source": [
    "def get_scores(est, y, X, name):\n",
    "    print(\"Below are the results for : \" + str(name) + \" model\")\n",
    "    print(\"Accuracy score of model is: \" + str(accuracy_score(y, est.predict(X))))\n",
    "    print(\"F1 score of model is: \" + str(f1_score(y, est.predict(X))))\n",
    "    print(\"Precision score of model is: \" + str(precision_score(y, est.predict(X))))\n",
    "    print(\"Recall score of model is: \" + str(recall_score(y, est.predict(X))))"
   ]
  },
  {
   "cell_type": "code",
   "execution_count": 61,
   "metadata": {
    "collapsed": false
   },
   "outputs": [
    {
     "name": "stdout",
     "output_type": "stream",
     "text": [
      "Below are the results for : Predicting Total model\n",
      "Accuracy score of model is: 0.904\n",
      "F1 score of model is: 0.949367088608\n",
      "Precision score of model is: 0.905432595573\n",
      "Recall score of model is: 0.9977827051\n"
     ]
    }
   ],
   "source": [
    "get_scores(rf, y_total_test, X_total_test, \"Predicting Total\")"
   ]
  },
  {
   "cell_type": "code",
   "execution_count": 62,
   "metadata": {
    "collapsed": false
   },
   "outputs": [
    {
     "data": {
      "text/plain": [
       "array([ 0.50353354,  0.        ,  0.05830389,  0.17314488,  0.11660777,\n",
       "        0.14840989], dtype=float32)"
      ]
     },
     "execution_count": 62,
     "metadata": {},
     "output_type": "execute_result"
    }
   ],
   "source": [
    "rf.feature_importances_"
   ]
  },
  {
   "cell_type": "code",
   "execution_count": 63,
   "metadata": {
    "collapsed": true
   },
   "outputs": [],
   "source": [
    "learning_rate = [0.001, 0.01, 0.1, 0.2, 0.3]\n",
    "n_estimators = [50, 100, 150, 200]\n",
    "max_depth = [2, 4, 6, 8]\n",
    "param_grid = dict(max_depth=max_depth, n_estimators=n_estimators, learning_rate=learning_rate)\n",
    "kfold = StratifiedKFold(n_splits=5, shuffle=True, random_state=7)"
   ]
  },
  {
   "cell_type": "code",
   "execution_count": 64,
   "metadata": {
    "collapsed": true
   },
   "outputs": [],
   "source": [
    "# xg_total = XGBClassifier()\n",
    "# xg_total_gs = GridSearchCV(xg_total, param_grid, scoring=\"f1\", n_jobs=-1, cv=kfold)\n",
    "# xg_total_gs_result = xg_total_gs.fit(X_total, y_total)"
   ]
  },
  {
   "cell_type": "code",
   "execution_count": 65,
   "metadata": {
    "collapsed": false
   },
   "outputs": [],
   "source": [
    "# get_scores(xg_total_gs.best_estimator_, y_total_test, X_total_test)"
   ]
  },
  {
   "cell_type": "code",
   "execution_count": null,
   "metadata": {
    "collapsed": true
   },
   "outputs": [],
   "source": []
  },
  {
   "cell_type": "code",
   "execution_count": 66,
   "metadata": {
    "collapsed": false
   },
   "outputs": [],
   "source": [
    "# f1_score(y_total_test, rf.predict(X_total_test))\n",
    "\n",
    "# precision_score(y_total_test, rf.predict(X_total_test))\n",
    "\n",
    "# recall_score(y_total_test, rf.predict(X_total_test))"
   ]
  },
  {
   "cell_type": "code",
   "execution_count": 67,
   "metadata": {
    "collapsed": false
   },
   "outputs": [],
   "source": [
    "# clf = RandomForestClassifier()\n",
    "# param_grid = { \"n_estimators\": list(range(100,400,50)),\n",
    "#            \"criterion\": [\"entropy\"],\n",
    "#            \"max_depth\": list(range(2,20)),\n",
    "#              }\n",
    "# grid_search = GridSearchCV(clf, param_grid, n_jobs=-1, cv=5, scoring=\"f1\")\n",
    "# grid_search.fit(X_total, y_total)"
   ]
  },
  {
   "cell_type": "code",
   "execution_count": 68,
   "metadata": {
    "collapsed": false
   },
   "outputs": [],
   "source": [
    "# grid_search.best_estimator_"
   ]
  },
  {
   "cell_type": "code",
   "execution_count": 69,
   "metadata": {
    "collapsed": false
   },
   "outputs": [],
   "source": [
    "# get_scores(grid_search.best_estimator_, y_total_test, X_total_test)"
   ]
  },
  {
   "cell_type": "markdown",
   "metadata": {},
   "source": [
    "# Predicting Time Variable"
   ]
  },
  {
   "cell_type": "code",
   "execution_count": 70,
   "metadata": {
    "collapsed": false
   },
   "outputs": [],
   "source": [
    "time_df.head()\n",
    "time_df = time_df.drop([\"gt_total\", \"gt_date\", \"pred_total\", \"pred_date\", \"conf_total\", \"conf_date\"], axis=1)"
   ]
  },
  {
   "cell_type": "code",
   "execution_count": 71,
   "metadata": {
    "collapsed": true
   },
   "outputs": [],
   "source": [
    "time_test_df = time_test_df.drop([\"gt_total\", \"gt_date\", \"pred_total\", \"pred_date\", \"conf_total\", \"conf_date\"], axis=1)"
   ]
  },
  {
   "cell_type": "code",
   "execution_count": 72,
   "metadata": {
    "collapsed": false
   },
   "outputs": [
    {
     "data": {
      "text/html": [
       "<div>\n",
       "<table border=\"1\" class=\"dataframe\">\n",
       "  <thead>\n",
       "    <tr style=\"text-align: right;\">\n",
       "      <th></th>\n",
       "      <th>Image_Id</th>\n",
       "      <th>gt_time</th>\n",
       "      <th>pred_time</th>\n",
       "      <th>conf_time</th>\n",
       "    </tr>\n",
       "  </thead>\n",
       "  <tbody>\n",
       "    <tr>\n",
       "      <th>0</th>\n",
       "      <td>1</td>\n",
       "      <td>13:52:00</td>\n",
       "      <td>13:52:00</td>\n",
       "      <td>-1.180410</td>\n",
       "    </tr>\n",
       "    <tr>\n",
       "      <th>1</th>\n",
       "      <td>3</td>\n",
       "      <td>18:52:00</td>\n",
       "      <td>18:52:00</td>\n",
       "      <td>-0.864236</td>\n",
       "    </tr>\n",
       "    <tr>\n",
       "      <th>2</th>\n",
       "      <td>4</td>\n",
       "      <td>15:58:00</td>\n",
       "      <td>15:58:00</td>\n",
       "      <td>-2.266910</td>\n",
       "    </tr>\n",
       "    <tr>\n",
       "      <th>3</th>\n",
       "      <td>4</td>\n",
       "      <td>18:25:00</td>\n",
       "      <td>18:25:00</td>\n",
       "      <td>-0.810062</td>\n",
       "    </tr>\n",
       "    <tr>\n",
       "      <th>4</th>\n",
       "      <td>6</td>\n",
       "      <td>13:47:00</td>\n",
       "      <td>13:47:00</td>\n",
       "      <td>-0.664796</td>\n",
       "    </tr>\n",
       "  </tbody>\n",
       "</table>\n",
       "</div>"
      ],
      "text/plain": [
       "   Image_Id   gt_time pred_time  conf_time\n",
       "0         1  13:52:00  13:52:00  -1.180410\n",
       "1         3  18:52:00  18:52:00  -0.864236\n",
       "2         4  15:58:00  15:58:00  -2.266910\n",
       "3         4  18:25:00  18:25:00  -0.810062\n",
       "4         6  13:47:00  13:47:00  -0.664796"
      ]
     },
     "execution_count": 72,
     "metadata": {},
     "output_type": "execute_result"
    }
   ],
   "source": [
    "time_df.head()"
   ]
  },
  {
   "cell_type": "code",
   "execution_count": 73,
   "metadata": {
    "collapsed": false
   },
   "outputs": [
    {
     "data": {
      "text/html": [
       "<div>\n",
       "<table border=\"1\" class=\"dataframe\">\n",
       "  <thead>\n",
       "    <tr style=\"text-align: right;\">\n",
       "      <th></th>\n",
       "      <th>Image_Id</th>\n",
       "      <th>gt_time</th>\n",
       "      <th>pred_time</th>\n",
       "      <th>conf_time</th>\n",
       "    </tr>\n",
       "  </thead>\n",
       "  <tbody>\n",
       "    <tr>\n",
       "      <th>0</th>\n",
       "      <td>4983</td>\n",
       "      <td>22:59:00</td>\n",
       "      <td>22:59:00</td>\n",
       "      <td>-1.782610</td>\n",
       "    </tr>\n",
       "    <tr>\n",
       "      <th>1</th>\n",
       "      <td>4984</td>\n",
       "      <td>00:31:00</td>\n",
       "      <td>00:31:00</td>\n",
       "      <td>-0.008186</td>\n",
       "    </tr>\n",
       "    <tr>\n",
       "      <th>2</th>\n",
       "      <td>4987</td>\n",
       "      <td>12:50:00</td>\n",
       "      <td>12:50:00</td>\n",
       "      <td>-0.581153</td>\n",
       "    </tr>\n",
       "    <tr>\n",
       "      <th>3</th>\n",
       "      <td>4988</td>\n",
       "      <td>21:26:00</td>\n",
       "      <td>21:26:00</td>\n",
       "      <td>-1.665860</td>\n",
       "    </tr>\n",
       "    <tr>\n",
       "      <th>4</th>\n",
       "      <td>4989</td>\n",
       "      <td>22:36:00</td>\n",
       "      <td>22:36:00</td>\n",
       "      <td>-1.693240</td>\n",
       "    </tr>\n",
       "  </tbody>\n",
       "</table>\n",
       "</div>"
      ],
      "text/plain": [
       "   Image_Id   gt_time pred_time  conf_time\n",
       "0      4983  22:59:00  22:59:00  -1.782610\n",
       "1      4984  00:31:00  00:31:00  -0.008186\n",
       "2      4987  12:50:00  12:50:00  -0.581153\n",
       "3      4988  21:26:00  21:26:00  -1.665860\n",
       "4      4989  22:36:00  22:36:00  -1.693240"
      ]
     },
     "execution_count": 73,
     "metadata": {},
     "output_type": "execute_result"
    }
   ],
   "source": [
    "time_test_df.head()"
   ]
  },
  {
   "cell_type": "code",
   "execution_count": 74,
   "metadata": {
    "collapsed": false
   },
   "outputs": [],
   "source": [
    "time_df[\"gt_time\"] = pd.to_datetime(time_df[\"gt_time\"])\n",
    "time_df[\"pred_time\"] = pd.to_datetime(time_df[\"pred_time\"])\n",
    "\n",
    "time_test_df[\"gt_time\"] = pd.to_datetime(time_test_df[\"gt_time\"])\n",
    "time_test_df[\"pred_time\"] = pd.to_datetime(time_test_df[\"pred_time\"])"
   ]
  },
  {
   "cell_type": "code",
   "execution_count": 75,
   "metadata": {
    "collapsed": true
   },
   "outputs": [],
   "source": [
    "time_df[\"time_label\"] = time_df.apply(lambda x: 1 if x[\"gt_time\"] == x[\"pred_time\"] else 0, axis=1)\n",
    "time_test_df[\"time_label\"] = time_test_df.apply(lambda x: 1 if x[\"gt_time\"] == x[\"pred_time\"] else 0, axis=1)"
   ]
  },
  {
   "cell_type": "code",
   "execution_count": 76,
   "metadata": {
    "collapsed": false
   },
   "outputs": [],
   "source": [
    "# time_test_df[time_test_df[\"pred_date\"] < \"2016\"]\n",
    "\n",
    "# time_df[time_df[\"pred_date\"] < \"2016\"]"
   ]
  },
  {
   "cell_type": "code",
   "execution_count": 77,
   "metadata": {
    "collapsed": false
   },
   "outputs": [],
   "source": [
    "# time_df[\"gt_time\"].apply(lambda x: x.time().hour).value_counts()"
   ]
  },
  {
   "cell_type": "code",
   "execution_count": 78,
   "metadata": {
    "collapsed": false
   },
   "outputs": [],
   "source": [
    "# time_df[\"gt_time\"].apply(lambda x: x.time().minute).value_counts()"
   ]
  },
  {
   "cell_type": "code",
   "execution_count": 79,
   "metadata": {
    "collapsed": true
   },
   "outputs": [],
   "source": [
    "def convert_hour(x):\n",
    "    x = x.time().hour\n",
    "    _str_len = 2\n",
    "    x_len = len(str(x))\n",
    "    diff = _str_len - x_len\n",
    "    if diff>0:\n",
    "        return str((\"0\" * diff)+str(x))\n",
    "    else:\n",
    "        return str(x)\n",
    "    \n",
    "def convert_min(x):\n",
    "    x = x.time().minute\n",
    "    _str_len = 2\n",
    "    x_len = len(str(x))\n",
    "    diff = _str_len - x_len\n",
    "    if diff>0:\n",
    "        return str((\"0\" * diff)+str(x))\n",
    "    else:\n",
    "        return str(x)"
   ]
  },
  {
   "cell_type": "code",
   "execution_count": 80,
   "metadata": {
    "collapsed": false
   },
   "outputs": [],
   "source": [
    "# time_df[\"gt_hr_time\"] = time_df[\"gt_time\"].apply(convert_hour)\n",
    "time_df[\"pred_hr_time\"] = time_df[\"pred_time\"].apply(convert_hour)\n",
    "# time_df[\"gt_min_time\"] = time_df[\"gt_time\"].apply(convert_min)\n",
    "time_df[\"pred_min_time\"] = time_df[\"pred_time\"].apply(convert_min)\n",
    "\n",
    "\n",
    "# time_test_df[\"gt_hr_time\"] = time_test_df[\"gt_time\"].apply(convert_hour)\n",
    "time_test_df[\"pred_hr_time\"] = time_test_df[\"pred_time\"].apply(convert_hour)\n",
    "# time_test_df[\"gt_min_time\"] = time_test_df[\"gt_time\"].apply(convert_min)\n",
    "time_test_df[\"pred_min_time\"] = time_test_df[\"pred_time\"].apply(convert_min)"
   ]
  },
  {
   "cell_type": "code",
   "execution_count": 81,
   "metadata": {
    "collapsed": false
   },
   "outputs": [
    {
     "data": {
      "text/html": [
       "<div>\n",
       "<table border=\"1\" class=\"dataframe\">\n",
       "  <thead>\n",
       "    <tr style=\"text-align: right;\">\n",
       "      <th></th>\n",
       "      <th>Image_Id</th>\n",
       "      <th>gt_time</th>\n",
       "      <th>pred_time</th>\n",
       "      <th>conf_time</th>\n",
       "      <th>time_label</th>\n",
       "      <th>pred_hr_time</th>\n",
       "      <th>pred_min_time</th>\n",
       "    </tr>\n",
       "  </thead>\n",
       "  <tbody>\n",
       "    <tr>\n",
       "      <th>0</th>\n",
       "      <td>1</td>\n",
       "      <td>2017-07-21 13:52:00</td>\n",
       "      <td>2017-07-21 13:52:00</td>\n",
       "      <td>-1.180410</td>\n",
       "      <td>1</td>\n",
       "      <td>13</td>\n",
       "      <td>52</td>\n",
       "    </tr>\n",
       "    <tr>\n",
       "      <th>1</th>\n",
       "      <td>3</td>\n",
       "      <td>2017-07-21 18:52:00</td>\n",
       "      <td>2017-07-21 18:52:00</td>\n",
       "      <td>-0.864236</td>\n",
       "      <td>1</td>\n",
       "      <td>18</td>\n",
       "      <td>52</td>\n",
       "    </tr>\n",
       "    <tr>\n",
       "      <th>2</th>\n",
       "      <td>4</td>\n",
       "      <td>2017-07-21 15:58:00</td>\n",
       "      <td>2017-07-21 15:58:00</td>\n",
       "      <td>-2.266910</td>\n",
       "      <td>1</td>\n",
       "      <td>15</td>\n",
       "      <td>58</td>\n",
       "    </tr>\n",
       "    <tr>\n",
       "      <th>3</th>\n",
       "      <td>4</td>\n",
       "      <td>2017-07-21 18:25:00</td>\n",
       "      <td>2017-07-21 18:25:00</td>\n",
       "      <td>-0.810062</td>\n",
       "      <td>1</td>\n",
       "      <td>18</td>\n",
       "      <td>25</td>\n",
       "    </tr>\n",
       "    <tr>\n",
       "      <th>4</th>\n",
       "      <td>6</td>\n",
       "      <td>2017-07-21 13:47:00</td>\n",
       "      <td>2017-07-21 13:47:00</td>\n",
       "      <td>-0.664796</td>\n",
       "      <td>1</td>\n",
       "      <td>13</td>\n",
       "      <td>47</td>\n",
       "    </tr>\n",
       "  </tbody>\n",
       "</table>\n",
       "</div>"
      ],
      "text/plain": [
       "   Image_Id             gt_time           pred_time  conf_time  time_label  \\\n",
       "0         1 2017-07-21 13:52:00 2017-07-21 13:52:00  -1.180410           1   \n",
       "1         3 2017-07-21 18:52:00 2017-07-21 18:52:00  -0.864236           1   \n",
       "2         4 2017-07-21 15:58:00 2017-07-21 15:58:00  -2.266910           1   \n",
       "3         4 2017-07-21 18:25:00 2017-07-21 18:25:00  -0.810062           1   \n",
       "4         6 2017-07-21 13:47:00 2017-07-21 13:47:00  -0.664796           1   \n",
       "\n",
       "  pred_hr_time pred_min_time  \n",
       "0           13            52  \n",
       "1           18            52  \n",
       "2           15            58  \n",
       "3           18            25  \n",
       "4           13            47  "
      ]
     },
     "execution_count": 81,
     "metadata": {},
     "output_type": "execute_result"
    }
   ],
   "source": [
    "time_df.head()"
   ]
  },
  {
   "cell_type": "code",
   "execution_count": 82,
   "metadata": {
    "collapsed": false
   },
   "outputs": [],
   "source": [
    "for pos in range(0,2):\n",
    "#     time_df[str(pos+1)+\"_digit_hr\"] = time_df[\"gt_hr_time\"].apply(lambda x: x[pos])\n",
    "    time_df[str(pos+1)+\"_digit_hr_pred\"] = time_df[\"pred_hr_time\"].apply(lambda x: x[pos])\n",
    "    \n",
    "#     time_df[str(pos+1)+\"_digit_min\"] = time_df[\"gt_min_time\"].apply(lambda x: x[pos])\n",
    "    time_df[str(pos+1)+\"_digit_min_pred\"] = time_df[\"pred_min_time\"].apply(lambda x: x[pos])\n",
    "    \n",
    "    \n",
    "    \n",
    "#     time_test_df[str(pos+1)+\"_digit_hr\"] = time_test_df[\"gt_hr_time\"].apply(lambda x: x[pos])\n",
    "    time_test_df[str(pos+1)+\"_digit_hr_pred\"] = time_test_df[\"pred_hr_time\"].apply(lambda x: x[pos])\n",
    "    \n",
    "#     time_test_df[str(pos+1)+\"_digit_min\"] = time_test_df[\"gt_min_time\"].apply(lambda x: x[pos])\n",
    "    time_test_df[str(pos+1)+\"_digit_min_pred\"] = time_test_df[\"pred_min_time\"].apply(lambda x: x[pos])"
   ]
  },
  {
   "cell_type": "code",
   "execution_count": 83,
   "metadata": {
    "collapsed": false
   },
   "outputs": [
    {
     "data": {
      "text/html": [
       "<div>\n",
       "<table border=\"1\" class=\"dataframe\">\n",
       "  <thead>\n",
       "    <tr style=\"text-align: right;\">\n",
       "      <th></th>\n",
       "      <th>Image_Id</th>\n",
       "      <th>gt_time</th>\n",
       "      <th>pred_time</th>\n",
       "      <th>conf_time</th>\n",
       "      <th>time_label</th>\n",
       "      <th>pred_hr_time</th>\n",
       "      <th>pred_min_time</th>\n",
       "      <th>1_digit_hr_pred</th>\n",
       "      <th>1_digit_min_pred</th>\n",
       "      <th>2_digit_hr_pred</th>\n",
       "      <th>2_digit_min_pred</th>\n",
       "    </tr>\n",
       "  </thead>\n",
       "  <tbody>\n",
       "    <tr>\n",
       "      <th>0</th>\n",
       "      <td>1</td>\n",
       "      <td>2017-07-21 13:52:00</td>\n",
       "      <td>2017-07-21 13:52:00</td>\n",
       "      <td>-1.180410</td>\n",
       "      <td>1</td>\n",
       "      <td>13</td>\n",
       "      <td>52</td>\n",
       "      <td>1</td>\n",
       "      <td>5</td>\n",
       "      <td>3</td>\n",
       "      <td>2</td>\n",
       "    </tr>\n",
       "    <tr>\n",
       "      <th>1</th>\n",
       "      <td>3</td>\n",
       "      <td>2017-07-21 18:52:00</td>\n",
       "      <td>2017-07-21 18:52:00</td>\n",
       "      <td>-0.864236</td>\n",
       "      <td>1</td>\n",
       "      <td>18</td>\n",
       "      <td>52</td>\n",
       "      <td>1</td>\n",
       "      <td>5</td>\n",
       "      <td>8</td>\n",
       "      <td>2</td>\n",
       "    </tr>\n",
       "    <tr>\n",
       "      <th>2</th>\n",
       "      <td>4</td>\n",
       "      <td>2017-07-21 15:58:00</td>\n",
       "      <td>2017-07-21 15:58:00</td>\n",
       "      <td>-2.266910</td>\n",
       "      <td>1</td>\n",
       "      <td>15</td>\n",
       "      <td>58</td>\n",
       "      <td>1</td>\n",
       "      <td>5</td>\n",
       "      <td>5</td>\n",
       "      <td>8</td>\n",
       "    </tr>\n",
       "    <tr>\n",
       "      <th>3</th>\n",
       "      <td>4</td>\n",
       "      <td>2017-07-21 18:25:00</td>\n",
       "      <td>2017-07-21 18:25:00</td>\n",
       "      <td>-0.810062</td>\n",
       "      <td>1</td>\n",
       "      <td>18</td>\n",
       "      <td>25</td>\n",
       "      <td>1</td>\n",
       "      <td>2</td>\n",
       "      <td>8</td>\n",
       "      <td>5</td>\n",
       "    </tr>\n",
       "    <tr>\n",
       "      <th>4</th>\n",
       "      <td>6</td>\n",
       "      <td>2017-07-21 13:47:00</td>\n",
       "      <td>2017-07-21 13:47:00</td>\n",
       "      <td>-0.664796</td>\n",
       "      <td>1</td>\n",
       "      <td>13</td>\n",
       "      <td>47</td>\n",
       "      <td>1</td>\n",
       "      <td>4</td>\n",
       "      <td>3</td>\n",
       "      <td>7</td>\n",
       "    </tr>\n",
       "  </tbody>\n",
       "</table>\n",
       "</div>"
      ],
      "text/plain": [
       "   Image_Id             gt_time           pred_time  conf_time  time_label  \\\n",
       "0         1 2017-07-21 13:52:00 2017-07-21 13:52:00  -1.180410           1   \n",
       "1         3 2017-07-21 18:52:00 2017-07-21 18:52:00  -0.864236           1   \n",
       "2         4 2017-07-21 15:58:00 2017-07-21 15:58:00  -2.266910           1   \n",
       "3         4 2017-07-21 18:25:00 2017-07-21 18:25:00  -0.810062           1   \n",
       "4         6 2017-07-21 13:47:00 2017-07-21 13:47:00  -0.664796           1   \n",
       "\n",
       "  pred_hr_time pred_min_time 1_digit_hr_pred 1_digit_min_pred 2_digit_hr_pred  \\\n",
       "0           13            52               1                5               3   \n",
       "1           18            52               1                5               8   \n",
       "2           15            58               1                5               5   \n",
       "3           18            25               1                2               8   \n",
       "4           13            47               1                4               3   \n",
       "\n",
       "  2_digit_min_pred  \n",
       "0                2  \n",
       "1                2  \n",
       "2                8  \n",
       "3                5  \n",
       "4                7  "
      ]
     },
     "execution_count": 83,
     "metadata": {},
     "output_type": "execute_result"
    }
   ],
   "source": [
    "time_df.head()"
   ]
  },
  {
   "cell_type": "code",
   "execution_count": 84,
   "metadata": {
    "collapsed": false
   },
   "outputs": [
    {
     "data": {
      "text/html": [
       "<div>\n",
       "<table border=\"1\" class=\"dataframe\">\n",
       "  <thead>\n",
       "    <tr style=\"text-align: right;\">\n",
       "      <th></th>\n",
       "      <th>Image_Id</th>\n",
       "      <th>gt_time</th>\n",
       "      <th>pred_time</th>\n",
       "      <th>conf_time</th>\n",
       "      <th>time_label</th>\n",
       "      <th>pred_hr_time</th>\n",
       "      <th>pred_min_time</th>\n",
       "      <th>1_digit_hr_pred</th>\n",
       "      <th>1_digit_min_pred</th>\n",
       "      <th>2_digit_hr_pred</th>\n",
       "      <th>2_digit_min_pred</th>\n",
       "    </tr>\n",
       "  </thead>\n",
       "  <tbody>\n",
       "    <tr>\n",
       "      <th>0</th>\n",
       "      <td>4983</td>\n",
       "      <td>2017-07-21 22:59:00</td>\n",
       "      <td>2017-07-21 22:59:00</td>\n",
       "      <td>-1.782610</td>\n",
       "      <td>1</td>\n",
       "      <td>22</td>\n",
       "      <td>59</td>\n",
       "      <td>2</td>\n",
       "      <td>5</td>\n",
       "      <td>2</td>\n",
       "      <td>9</td>\n",
       "    </tr>\n",
       "    <tr>\n",
       "      <th>1</th>\n",
       "      <td>4984</td>\n",
       "      <td>2017-07-21 00:31:00</td>\n",
       "      <td>2017-07-21 00:31:00</td>\n",
       "      <td>-0.008186</td>\n",
       "      <td>1</td>\n",
       "      <td>00</td>\n",
       "      <td>31</td>\n",
       "      <td>0</td>\n",
       "      <td>3</td>\n",
       "      <td>0</td>\n",
       "      <td>1</td>\n",
       "    </tr>\n",
       "    <tr>\n",
       "      <th>2</th>\n",
       "      <td>4987</td>\n",
       "      <td>2017-07-21 12:50:00</td>\n",
       "      <td>2017-07-21 12:50:00</td>\n",
       "      <td>-0.581153</td>\n",
       "      <td>1</td>\n",
       "      <td>12</td>\n",
       "      <td>50</td>\n",
       "      <td>1</td>\n",
       "      <td>5</td>\n",
       "      <td>2</td>\n",
       "      <td>0</td>\n",
       "    </tr>\n",
       "    <tr>\n",
       "      <th>3</th>\n",
       "      <td>4988</td>\n",
       "      <td>2017-07-21 21:26:00</td>\n",
       "      <td>2017-07-21 21:26:00</td>\n",
       "      <td>-1.665860</td>\n",
       "      <td>1</td>\n",
       "      <td>21</td>\n",
       "      <td>26</td>\n",
       "      <td>2</td>\n",
       "      <td>2</td>\n",
       "      <td>1</td>\n",
       "      <td>6</td>\n",
       "    </tr>\n",
       "    <tr>\n",
       "      <th>4</th>\n",
       "      <td>4989</td>\n",
       "      <td>2017-07-21 22:36:00</td>\n",
       "      <td>2017-07-21 22:36:00</td>\n",
       "      <td>-1.693240</td>\n",
       "      <td>1</td>\n",
       "      <td>22</td>\n",
       "      <td>36</td>\n",
       "      <td>2</td>\n",
       "      <td>3</td>\n",
       "      <td>2</td>\n",
       "      <td>6</td>\n",
       "    </tr>\n",
       "  </tbody>\n",
       "</table>\n",
       "</div>"
      ],
      "text/plain": [
       "   Image_Id             gt_time           pred_time  conf_time  time_label  \\\n",
       "0      4983 2017-07-21 22:59:00 2017-07-21 22:59:00  -1.782610           1   \n",
       "1      4984 2017-07-21 00:31:00 2017-07-21 00:31:00  -0.008186           1   \n",
       "2      4987 2017-07-21 12:50:00 2017-07-21 12:50:00  -0.581153           1   \n",
       "3      4988 2017-07-21 21:26:00 2017-07-21 21:26:00  -1.665860           1   \n",
       "4      4989 2017-07-21 22:36:00 2017-07-21 22:36:00  -1.693240           1   \n",
       "\n",
       "  pred_hr_time pred_min_time 1_digit_hr_pred 1_digit_min_pred 2_digit_hr_pred  \\\n",
       "0           22            59               2                5               2   \n",
       "1           00            31               0                3               0   \n",
       "2           12            50               1                5               2   \n",
       "3           21            26               2                2               1   \n",
       "4           22            36               2                3               2   \n",
       "\n",
       "  2_digit_min_pred  \n",
       "0                9  \n",
       "1                1  \n",
       "2                0  \n",
       "3                6  \n",
       "4                6  "
      ]
     },
     "execution_count": 84,
     "metadata": {},
     "output_type": "execute_result"
    }
   ],
   "source": [
    "time_test_df.head()"
   ]
  },
  {
   "cell_type": "code",
   "execution_count": 85,
   "metadata": {
    "collapsed": false
   },
   "outputs": [],
   "source": [
    "time_df[\"conf_time\"] = time_df[\"conf_time\"]*-1\n",
    "time_test_df[\"conf_time\"] = time_test_df[\"conf_time\"]*-1\n",
    "\n",
    "time_df[\"conf_time\"] = np.sqrt(time_df[\"conf_time\"])\n",
    "time_test_df[\"conf_time\"] = np.sqrt(time_test_df[\"conf_time\"])"
   ]
  },
  {
   "cell_type": "code",
   "execution_count": 86,
   "metadata": {
    "collapsed": true
   },
   "outputs": [],
   "source": [
    "time_df[\"conf_time\"]=(time_df[\"conf_time\"]-time_df[\"conf_time\"].mean())/time_df[\"conf_time\"].std()\n",
    "time_test_df[\"conf_time\"]=(time_test_df[\"conf_time\"]-time_test_df[\"conf_time\"].mean())/time_test_df[\"conf_time\"].std()"
   ]
  },
  {
   "cell_type": "code",
   "execution_count": 87,
   "metadata": {
    "collapsed": true
   },
   "outputs": [],
   "source": [
    "# time_df[\"conf_time\"] = np.log(time_df[\"conf_time\"]+1)\n",
    "# time_test_df[\"conf_time\"] = np.log(time_test_df[\"conf_time\"]+1)"
   ]
  },
  {
   "cell_type": "code",
   "execution_count": 88,
   "metadata": {
    "collapsed": true
   },
   "outputs": [],
   "source": [
    "time_q1 = time_df['conf_time'].quantile(.25)\n",
    "time_q3 = time_df['conf_time'].quantile(.75)\n",
    "time_iqr = time_q3 - time_q1\n",
    "time_mask = time_df['conf_time'].between(time_q1 - 1.5*time_iqr, time_q3 + 1.5*time_iqr, inclusive=True)\n",
    "\n",
    "time_df = time_df.loc[time_mask]"
   ]
  },
  {
   "cell_type": "code",
   "execution_count": 89,
   "metadata": {
    "collapsed": true
   },
   "outputs": [],
   "source": [
    "for col in time_df.columns:\n",
    "    time_df[col] = pd.to_numeric(time_df[col])\n",
    "    time_test_df[col] = pd.to_numeric(time_test_df[col])"
   ]
  },
  {
   "cell_type": "code",
   "execution_count": 90,
   "metadata": {
    "collapsed": false
   },
   "outputs": [],
   "source": [
    "X_time = time_df.drop([\"Image_Id\", \"gt_time\", \"pred_time\", \"pred_hr_time\", \"pred_min_time\", \"time_label\"],axis=1)\n",
    "X_time_test = time_test_df.drop([\"Image_Id\", \"gt_time\", \"pred_time\", \"pred_hr_time\", \"pred_min_time\", \"time_label\"],axis=1)"
   ]
  },
  {
   "cell_type": "code",
   "execution_count": 91,
   "metadata": {
    "collapsed": false
   },
   "outputs": [
    {
     "data": {
      "text/html": [
       "<div>\n",
       "<table border=\"1\" class=\"dataframe\">\n",
       "  <thead>\n",
       "    <tr style=\"text-align: right;\">\n",
       "      <th></th>\n",
       "      <th>conf_time</th>\n",
       "      <th>1_digit_hr_pred</th>\n",
       "      <th>1_digit_min_pred</th>\n",
       "      <th>2_digit_hr_pred</th>\n",
       "      <th>2_digit_min_pred</th>\n",
       "    </tr>\n",
       "  </thead>\n",
       "  <tbody>\n",
       "    <tr>\n",
       "      <th>0</th>\n",
       "      <td>0.675982</td>\n",
       "      <td>1</td>\n",
       "      <td>5</td>\n",
       "      <td>3</td>\n",
       "      <td>2</td>\n",
       "    </tr>\n",
       "    <tr>\n",
       "      <th>1</th>\n",
       "      <td>0.237267</td>\n",
       "      <td>1</td>\n",
       "      <td>5</td>\n",
       "      <td>8</td>\n",
       "      <td>2</td>\n",
       "    </tr>\n",
       "    <tr>\n",
       "      <th>2</th>\n",
       "      <td>1.848582</td>\n",
       "      <td>1</td>\n",
       "      <td>5</td>\n",
       "      <td>5</td>\n",
       "      <td>8</td>\n",
       "    </tr>\n",
       "    <tr>\n",
       "      <th>3</th>\n",
       "      <td>0.154437</td>\n",
       "      <td>1</td>\n",
       "      <td>2</td>\n",
       "      <td>8</td>\n",
       "      <td>5</td>\n",
       "    </tr>\n",
       "    <tr>\n",
       "      <th>4</th>\n",
       "      <td>-0.082467</td>\n",
       "      <td>1</td>\n",
       "      <td>4</td>\n",
       "      <td>3</td>\n",
       "      <td>7</td>\n",
       "    </tr>\n",
       "  </tbody>\n",
       "</table>\n",
       "</div>"
      ],
      "text/plain": [
       "   conf_time  1_digit_hr_pred  1_digit_min_pred  2_digit_hr_pred  \\\n",
       "0   0.675982                1                 5                3   \n",
       "1   0.237267                1                 5                8   \n",
       "2   1.848582                1                 5                5   \n",
       "3   0.154437                1                 2                8   \n",
       "4  -0.082467                1                 4                3   \n",
       "\n",
       "   2_digit_min_pred  \n",
       "0                 2  \n",
       "1                 2  \n",
       "2                 8  \n",
       "3                 5  \n",
       "4                 7  "
      ]
     },
     "execution_count": 91,
     "metadata": {},
     "output_type": "execute_result"
    }
   ],
   "source": [
    "X_time.head()"
   ]
  },
  {
   "cell_type": "code",
   "execution_count": 92,
   "metadata": {
    "collapsed": false
   },
   "outputs": [
    {
     "data": {
      "text/html": [
       "<div>\n",
       "<table border=\"1\" class=\"dataframe\">\n",
       "  <thead>\n",
       "    <tr style=\"text-align: right;\">\n",
       "      <th></th>\n",
       "      <th>conf_time</th>\n",
       "      <th>1_digit_hr_pred</th>\n",
       "      <th>1_digit_min_pred</th>\n",
       "      <th>2_digit_hr_pred</th>\n",
       "      <th>2_digit_min_pred</th>\n",
       "    </tr>\n",
       "  </thead>\n",
       "  <tbody>\n",
       "    <tr>\n",
       "      <th>0</th>\n",
       "      <td>1.430709</td>\n",
       "      <td>2</td>\n",
       "      <td>5</td>\n",
       "      <td>2</td>\n",
       "      <td>9</td>\n",
       "    </tr>\n",
       "    <tr>\n",
       "      <th>1</th>\n",
       "      <td>-2.082604</td>\n",
       "      <td>0</td>\n",
       "      <td>3</td>\n",
       "      <td>0</td>\n",
       "      <td>1</td>\n",
       "    </tr>\n",
       "    <tr>\n",
       "      <th>2</th>\n",
       "      <td>-0.186160</td>\n",
       "      <td>1</td>\n",
       "      <td>5</td>\n",
       "      <td>2</td>\n",
       "      <td>0</td>\n",
       "    </tr>\n",
       "    <tr>\n",
       "      <th>3</th>\n",
       "      <td>1.305206</td>\n",
       "      <td>2</td>\n",
       "      <td>2</td>\n",
       "      <td>1</td>\n",
       "      <td>6</td>\n",
       "    </tr>\n",
       "    <tr>\n",
       "      <th>4</th>\n",
       "      <td>1.335024</td>\n",
       "      <td>2</td>\n",
       "      <td>3</td>\n",
       "      <td>2</td>\n",
       "      <td>6</td>\n",
       "    </tr>\n",
       "  </tbody>\n",
       "</table>\n",
       "</div>"
      ],
      "text/plain": [
       "   conf_time  1_digit_hr_pred  1_digit_min_pred  2_digit_hr_pred  \\\n",
       "0   1.430709                2                 5                2   \n",
       "1  -2.082604                0                 3                0   \n",
       "2  -0.186160                1                 5                2   \n",
       "3   1.305206                2                 2                1   \n",
       "4   1.335024                2                 3                2   \n",
       "\n",
       "   2_digit_min_pred  \n",
       "0                 9  \n",
       "1                 1  \n",
       "2                 0  \n",
       "3                 6  \n",
       "4                 6  "
      ]
     },
     "execution_count": 92,
     "metadata": {},
     "output_type": "execute_result"
    }
   ],
   "source": [
    "X_time_test.head()"
   ]
  },
  {
   "cell_type": "code",
   "execution_count": 93,
   "metadata": {
    "collapsed": true
   },
   "outputs": [],
   "source": [
    "y_time = time_df[\"time_label\"]\n",
    "y_time_test = time_test_df[\"time_label\"]"
   ]
  },
  {
   "cell_type": "code",
   "execution_count": 94,
   "metadata": {
    "collapsed": true
   },
   "outputs": [],
   "source": [
    "# rf_time = RandomForestClassifier()"
   ]
  },
  {
   "cell_type": "code",
   "execution_count": 95,
   "metadata": {
    "collapsed": true
   },
   "outputs": [],
   "source": [
    "rf_time = XGBClassifier()"
   ]
  },
  {
   "cell_type": "code",
   "execution_count": 96,
   "metadata": {
    "collapsed": false
   },
   "outputs": [
    {
     "data": {
      "text/plain": [
       "XGBClassifier(base_score=0.5, colsample_bylevel=1, colsample_bytree=1,\n",
       "       gamma=0, learning_rate=0.1, max_delta_step=0, max_depth=3,\n",
       "       min_child_weight=1, missing=None, n_estimators=100, nthread=-1,\n",
       "       objective='binary:logistic', reg_alpha=0, reg_lambda=1,\n",
       "       scale_pos_weight=1, seed=0, silent=True, subsample=1)"
      ]
     },
     "execution_count": 96,
     "metadata": {},
     "output_type": "execute_result"
    }
   ],
   "source": [
    "rf_time.fit(X_time,y_time)"
   ]
  },
  {
   "cell_type": "code",
   "execution_count": 97,
   "metadata": {
    "collapsed": false
   },
   "outputs": [
    {
     "name": "stdout",
     "output_type": "stream",
     "text": [
      "Below are the results for : Predicting Time model\n",
      "Accuracy score of model is: 0.845833333333\n",
      "F1 score of model is: 0.914746543779\n",
      "Precision score of model is: 0.85376344086\n",
      "Recall score of model is: 0.985111662531\n"
     ]
    }
   ],
   "source": [
    "get_scores(rf_time, y_time_test, X_time_test, \"Predicting Time\")"
   ]
  },
  {
   "cell_type": "code",
   "execution_count": 98,
   "metadata": {
    "collapsed": false
   },
   "outputs": [
    {
     "data": {
      "text/plain": [
       "array([ 0.45522389,  0.07014925,  0.13283582,  0.17313433,  0.16865672], dtype=float32)"
      ]
     },
     "execution_count": 98,
     "metadata": {},
     "output_type": "execute_result"
    }
   ],
   "source": [
    "rf_time.feature_importances_"
   ]
  },
  {
   "cell_type": "code",
   "execution_count": 99,
   "metadata": {
    "collapsed": true
   },
   "outputs": [],
   "source": [
    "# xg_time = XGBClassifier()\n",
    "# xg_time_gs = GridSearchCV(xg_time, param_grid, scoring=\"f1\", n_jobs=-1, cv=kfold)\n",
    "# xg_time_gs_result = xg_time_gs.fit(X_time, y_time)"
   ]
  },
  {
   "cell_type": "code",
   "execution_count": 100,
   "metadata": {
    "collapsed": false
   },
   "outputs": [],
   "source": [
    "# get_scores(xg_time_gs.best_estimator_, y_time_test, X_time_test)"
   ]
  },
  {
   "cell_type": "code",
   "execution_count": null,
   "metadata": {
    "collapsed": true
   },
   "outputs": [],
   "source": []
  },
  {
   "cell_type": "markdown",
   "metadata": {},
   "source": [
    "# Predicting Date Variable"
   ]
  },
  {
   "cell_type": "code",
   "execution_count": 101,
   "metadata": {
    "collapsed": false
   },
   "outputs": [
    {
     "data": {
      "text/plain": [
       "Index(['Image_Id', 'gt_total', 'gt_date', 'gt_time', 'pred_total', 'pred_date',\n",
       "       'pred_time', 'conf_total', 'conf_time', 'conf_date'],\n",
       "      dtype='object')"
      ]
     },
     "execution_count": 101,
     "metadata": {},
     "output_type": "execute_result"
    }
   ],
   "source": [
    "df.columns"
   ]
  },
  {
   "cell_type": "code",
   "execution_count": 102,
   "metadata": {
    "collapsed": true
   },
   "outputs": [],
   "source": [
    "date_df = df[[\"Image_Id\", \"gt_date\", \"pred_date\", \"conf_date\"]]"
   ]
  },
  {
   "cell_type": "code",
   "execution_count": 103,
   "metadata": {
    "collapsed": true
   },
   "outputs": [],
   "source": [
    "date_df_test = test[[\"Image_Id\", \"gt_date\", \"pred_date\", \"conf_date\"]]"
   ]
  },
  {
   "cell_type": "code",
   "execution_count": 104,
   "metadata": {
    "collapsed": false
   },
   "outputs": [
    {
     "data": {
      "text/html": [
       "<div>\n",
       "<table border=\"1\" class=\"dataframe\">\n",
       "  <thead>\n",
       "    <tr style=\"text-align: right;\">\n",
       "      <th></th>\n",
       "      <th>Image_Id</th>\n",
       "      <th>gt_date</th>\n",
       "      <th>pred_date</th>\n",
       "      <th>conf_date</th>\n",
       "    </tr>\n",
       "  </thead>\n",
       "  <tbody>\n",
       "    <tr>\n",
       "      <th>0</th>\n",
       "      <td>1</td>\n",
       "      <td>2016-09-11</td>\n",
       "      <td>2016-03-11</td>\n",
       "      <td>-0.008496</td>\n",
       "    </tr>\n",
       "    <tr>\n",
       "      <th>1</th>\n",
       "      <td>3</td>\n",
       "      <td>2016-09-23</td>\n",
       "      <td>2016-09-23</td>\n",
       "      <td>-0.018932</td>\n",
       "    </tr>\n",
       "    <tr>\n",
       "      <th>2</th>\n",
       "      <td>4</td>\n",
       "      <td>2016-10-02</td>\n",
       "      <td>2017-10-18</td>\n",
       "      <td>-0.978772</td>\n",
       "    </tr>\n",
       "    <tr>\n",
       "      <th>3</th>\n",
       "      <td>4</td>\n",
       "      <td>2016-09-26</td>\n",
       "      <td>2017-09-26</td>\n",
       "      <td>-0.123047</td>\n",
       "    </tr>\n",
       "    <tr>\n",
       "      <th>4</th>\n",
       "      <td>6</td>\n",
       "      <td>2016-09-19</td>\n",
       "      <td>2016-08-19</td>\n",
       "      <td>-0.003986</td>\n",
       "    </tr>\n",
       "  </tbody>\n",
       "</table>\n",
       "</div>"
      ],
      "text/plain": [
       "   Image_Id    gt_date  pred_date  conf_date\n",
       "0         1 2016-09-11 2016-03-11  -0.008496\n",
       "1         3 2016-09-23 2016-09-23  -0.018932\n",
       "2         4 2016-10-02 2017-10-18  -0.978772\n",
       "3         4 2016-09-26 2017-09-26  -0.123047\n",
       "4         6 2016-09-19 2016-08-19  -0.003986"
      ]
     },
     "execution_count": 104,
     "metadata": {},
     "output_type": "execute_result"
    }
   ],
   "source": [
    "date_df.head()"
   ]
  },
  {
   "cell_type": "code",
   "execution_count": 105,
   "metadata": {
    "collapsed": true
   },
   "outputs": [],
   "source": [
    "date_df[\"gt_date\"] = pd.to_datetime(date_df[\"gt_date\"])\n",
    "date_df[\"pred_date\"] = pd.to_datetime(date_df[\"pred_date\"])\n",
    "\n",
    "date_df_test[\"gt_date\"] = pd.to_datetime(date_df_test[\"gt_date\"])\n",
    "date_df_test[\"pred_date\"] = pd.to_datetime(date_df_test[\"pred_date\"])"
   ]
  },
  {
   "cell_type": "code",
   "execution_count": 106,
   "metadata": {
    "collapsed": true
   },
   "outputs": [],
   "source": [
    "def convert_mon(x):\n",
    "    x = str(x)\n",
    "    _str_len = 2\n",
    "    x_len = len(str(x))\n",
    "    diff = _str_len - x_len\n",
    "    if diff>0:\n",
    "        return str((\"0\" * diff)+str(x))\n",
    "    else:\n",
    "        return str(x)\n",
    "    \n",
    "def convert_day(x):\n",
    "    x = str(x)\n",
    "    _str_len = 2\n",
    "    x_len = len(str(x))\n",
    "    diff = _str_len - x_len\n",
    "    if diff>0:\n",
    "        return str((\"0\" * diff)+str(x))\n",
    "    else:\n",
    "        return str(x)\n",
    "\n",
    "def convert_year(x):\n",
    "    x = str(x)\n",
    "    _str_len = 2\n",
    "    return str(str(x)[2:])"
   ]
  },
  {
   "cell_type": "code",
   "execution_count": 107,
   "metadata": {
    "collapsed": true
   },
   "outputs": [],
   "source": [
    "# date_df[\"gt_mon\"] = pd.DatetimeIndex(date_df[\"gt_date\"]).month\n",
    "# date_df[\"gt_day\"] = pd.DatetimeIndex(date_df[\"gt_date\"]).day\n",
    "# date_df[\"gt_year\"] = pd.DatetimeIndex(date_df[\"gt_date\"]).year\n",
    "\n",
    "# date_df_test[\"gt_mon\"] = pd.DatetimeIndex(date_df_test[\"gt_date\"]).month\n",
    "# date_df_test[\"gt_day\"] = pd.DatetimeIndex(date_df_test[\"gt_date\"]).day\n",
    "# date_df_test[\"gt_year\"] = pd.DatetimeIndex(date_df_test[\"gt_date\"]).year"
   ]
  },
  {
   "cell_type": "code",
   "execution_count": 108,
   "metadata": {
    "collapsed": true
   },
   "outputs": [],
   "source": [
    "date_df[\"pred_mon\"] = pd.DatetimeIndex(date_df[\"pred_date\"]).month\n",
    "date_df[\"pred_day\"] = pd.DatetimeIndex(date_df[\"pred_date\"]).day\n",
    "date_df[\"pred_year\"] = pd.DatetimeIndex(date_df[\"pred_date\"]).year\n",
    "\n",
    "date_df_test[\"pred_mon\"] = pd.DatetimeIndex(date_df_test[\"pred_date\"]).month\n",
    "date_df_test[\"pred_day\"] = pd.DatetimeIndex(date_df_test[\"pred_date\"]).day\n",
    "date_df_test[\"pred_year\"] = pd.DatetimeIndex(date_df_test[\"pred_date\"]).year"
   ]
  },
  {
   "cell_type": "code",
   "execution_count": 109,
   "metadata": {
    "collapsed": false
   },
   "outputs": [
    {
     "data": {
      "text/html": [
       "<div>\n",
       "<table border=\"1\" class=\"dataframe\">\n",
       "  <thead>\n",
       "    <tr style=\"text-align: right;\">\n",
       "      <th></th>\n",
       "      <th>Image_Id</th>\n",
       "      <th>gt_date</th>\n",
       "      <th>pred_date</th>\n",
       "      <th>conf_date</th>\n",
       "      <th>pred_mon</th>\n",
       "      <th>pred_day</th>\n",
       "      <th>pred_year</th>\n",
       "    </tr>\n",
       "  </thead>\n",
       "  <tbody>\n",
       "    <tr>\n",
       "      <th>0</th>\n",
       "      <td>1</td>\n",
       "      <td>2016-09-11</td>\n",
       "      <td>2016-03-11</td>\n",
       "      <td>-0.008496</td>\n",
       "      <td>3</td>\n",
       "      <td>11</td>\n",
       "      <td>2016</td>\n",
       "    </tr>\n",
       "    <tr>\n",
       "      <th>1</th>\n",
       "      <td>3</td>\n",
       "      <td>2016-09-23</td>\n",
       "      <td>2016-09-23</td>\n",
       "      <td>-0.018932</td>\n",
       "      <td>9</td>\n",
       "      <td>23</td>\n",
       "      <td>2016</td>\n",
       "    </tr>\n",
       "    <tr>\n",
       "      <th>2</th>\n",
       "      <td>4</td>\n",
       "      <td>2016-10-02</td>\n",
       "      <td>2017-10-18</td>\n",
       "      <td>-0.978772</td>\n",
       "      <td>10</td>\n",
       "      <td>18</td>\n",
       "      <td>2017</td>\n",
       "    </tr>\n",
       "    <tr>\n",
       "      <th>3</th>\n",
       "      <td>4</td>\n",
       "      <td>2016-09-26</td>\n",
       "      <td>2017-09-26</td>\n",
       "      <td>-0.123047</td>\n",
       "      <td>9</td>\n",
       "      <td>26</td>\n",
       "      <td>2017</td>\n",
       "    </tr>\n",
       "    <tr>\n",
       "      <th>4</th>\n",
       "      <td>6</td>\n",
       "      <td>2016-09-19</td>\n",
       "      <td>2016-08-19</td>\n",
       "      <td>-0.003986</td>\n",
       "      <td>8</td>\n",
       "      <td>19</td>\n",
       "      <td>2016</td>\n",
       "    </tr>\n",
       "  </tbody>\n",
       "</table>\n",
       "</div>"
      ],
      "text/plain": [
       "   Image_Id    gt_date  pred_date  conf_date  pred_mon  pred_day  pred_year\n",
       "0         1 2016-09-11 2016-03-11  -0.008496         3        11       2016\n",
       "1         3 2016-09-23 2016-09-23  -0.018932         9        23       2016\n",
       "2         4 2016-10-02 2017-10-18  -0.978772        10        18       2017\n",
       "3         4 2016-09-26 2017-09-26  -0.123047         9        26       2017\n",
       "4         6 2016-09-19 2016-08-19  -0.003986         8        19       2016"
      ]
     },
     "execution_count": 109,
     "metadata": {},
     "output_type": "execute_result"
    }
   ],
   "source": [
    "date_df.head()"
   ]
  },
  {
   "cell_type": "code",
   "execution_count": 110,
   "metadata": {
    "collapsed": false
   },
   "outputs": [],
   "source": [
    "# date_df[\"gt_mon_date\"] = date_df[\"gt_mon\"].apply(convert_mon)\n",
    "date_df[\"pred_mon_date\"] = date_df[\"pred_mon\"].apply(convert_mon)\n",
    "# date_df[\"gt_day_date\"] = date_df[\"gt_day\"].apply(convert_day)\n",
    "date_df[\"pred_day_date\"] = date_df[\"pred_day\"].apply(convert_day)\n",
    "# date_df[\"gt_year_date\"] = date_df[\"gt_year\"].apply(convert_year)\n",
    "date_df[\"pred_year_date\"] = date_df[\"pred_year\"].apply(convert_year)\n",
    "\n",
    "\n",
    "\n",
    "# date_df_test[\"gt_mon_date\"] = date_df_test[\"gt_mon\"].apply(convert_mon)\n",
    "date_df_test[\"pred_mon_date\"] = date_df_test[\"pred_mon\"].apply(convert_mon)\n",
    "# date_df_test[\"gt_day_date\"] = date_df_test[\"gt_day\"].apply(convert_day)\n",
    "date_df_test[\"pred_day_date\"] = date_df_test[\"pred_day\"].apply(convert_day)\n",
    "# date_df_test[\"gt_year_date\"] = date_df_test[\"gt_date\"].apply(convert_year)\n",
    "date_df_test[\"pred_year_date\"] = date_df_test[\"pred_year\"].apply(convert_year)\n"
   ]
  },
  {
   "cell_type": "code",
   "execution_count": 111,
   "metadata": {
    "collapsed": false
   },
   "outputs": [
    {
     "data": {
      "text/html": [
       "<div>\n",
       "<table border=\"1\" class=\"dataframe\">\n",
       "  <thead>\n",
       "    <tr style=\"text-align: right;\">\n",
       "      <th></th>\n",
       "      <th>Image_Id</th>\n",
       "      <th>gt_date</th>\n",
       "      <th>pred_date</th>\n",
       "      <th>conf_date</th>\n",
       "      <th>pred_mon</th>\n",
       "      <th>pred_day</th>\n",
       "      <th>pred_year</th>\n",
       "      <th>pred_mon_date</th>\n",
       "      <th>pred_day_date</th>\n",
       "      <th>pred_year_date</th>\n",
       "    </tr>\n",
       "  </thead>\n",
       "  <tbody>\n",
       "    <tr>\n",
       "      <th>0</th>\n",
       "      <td>1</td>\n",
       "      <td>2016-09-11</td>\n",
       "      <td>2016-03-11</td>\n",
       "      <td>-0.008496</td>\n",
       "      <td>3</td>\n",
       "      <td>11</td>\n",
       "      <td>2016</td>\n",
       "      <td>03</td>\n",
       "      <td>11</td>\n",
       "      <td>16</td>\n",
       "    </tr>\n",
       "    <tr>\n",
       "      <th>1</th>\n",
       "      <td>3</td>\n",
       "      <td>2016-09-23</td>\n",
       "      <td>2016-09-23</td>\n",
       "      <td>-0.018932</td>\n",
       "      <td>9</td>\n",
       "      <td>23</td>\n",
       "      <td>2016</td>\n",
       "      <td>09</td>\n",
       "      <td>23</td>\n",
       "      <td>16</td>\n",
       "    </tr>\n",
       "    <tr>\n",
       "      <th>2</th>\n",
       "      <td>4</td>\n",
       "      <td>2016-10-02</td>\n",
       "      <td>2017-10-18</td>\n",
       "      <td>-0.978772</td>\n",
       "      <td>10</td>\n",
       "      <td>18</td>\n",
       "      <td>2017</td>\n",
       "      <td>10</td>\n",
       "      <td>18</td>\n",
       "      <td>17</td>\n",
       "    </tr>\n",
       "    <tr>\n",
       "      <th>3</th>\n",
       "      <td>4</td>\n",
       "      <td>2016-09-26</td>\n",
       "      <td>2017-09-26</td>\n",
       "      <td>-0.123047</td>\n",
       "      <td>9</td>\n",
       "      <td>26</td>\n",
       "      <td>2017</td>\n",
       "      <td>09</td>\n",
       "      <td>26</td>\n",
       "      <td>17</td>\n",
       "    </tr>\n",
       "    <tr>\n",
       "      <th>4</th>\n",
       "      <td>6</td>\n",
       "      <td>2016-09-19</td>\n",
       "      <td>2016-08-19</td>\n",
       "      <td>-0.003986</td>\n",
       "      <td>8</td>\n",
       "      <td>19</td>\n",
       "      <td>2016</td>\n",
       "      <td>08</td>\n",
       "      <td>19</td>\n",
       "      <td>16</td>\n",
       "    </tr>\n",
       "  </tbody>\n",
       "</table>\n",
       "</div>"
      ],
      "text/plain": [
       "   Image_Id    gt_date  pred_date  conf_date  pred_mon  pred_day  pred_year  \\\n",
       "0         1 2016-09-11 2016-03-11  -0.008496         3        11       2016   \n",
       "1         3 2016-09-23 2016-09-23  -0.018932         9        23       2016   \n",
       "2         4 2016-10-02 2017-10-18  -0.978772        10        18       2017   \n",
       "3         4 2016-09-26 2017-09-26  -0.123047         9        26       2017   \n",
       "4         6 2016-09-19 2016-08-19  -0.003986         8        19       2016   \n",
       "\n",
       "  pred_mon_date pred_day_date pred_year_date  \n",
       "0            03            11             16  \n",
       "1            09            23             16  \n",
       "2            10            18             17  \n",
       "3            09            26             17  \n",
       "4            08            19             16  "
      ]
     },
     "execution_count": 111,
     "metadata": {},
     "output_type": "execute_result"
    }
   ],
   "source": [
    "date_df.head()"
   ]
  },
  {
   "cell_type": "code",
   "execution_count": 112,
   "metadata": {
    "collapsed": true
   },
   "outputs": [],
   "source": [
    "date_df[\"day_label\"] = date_df.apply(lambda x: 1 if x[\"gt_date\"] == x[\"pred_date\"] else 0, axis=1)\n",
    "date_df_test[\"day_label\"] = date_df_test.apply(lambda x: 1 if x[\"gt_date\"] == x[\"pred_date\"] else 0, axis=1)"
   ]
  },
  {
   "cell_type": "code",
   "execution_count": 113,
   "metadata": {
    "collapsed": false
   },
   "outputs": [
    {
     "data": {
      "text/html": [
       "<div>\n",
       "<table border=\"1\" class=\"dataframe\">\n",
       "  <thead>\n",
       "    <tr style=\"text-align: right;\">\n",
       "      <th></th>\n",
       "      <th>Image_Id</th>\n",
       "      <th>gt_date</th>\n",
       "      <th>pred_date</th>\n",
       "      <th>conf_date</th>\n",
       "      <th>pred_mon</th>\n",
       "      <th>pred_day</th>\n",
       "      <th>pred_year</th>\n",
       "      <th>pred_mon_date</th>\n",
       "      <th>pred_day_date</th>\n",
       "      <th>pred_year_date</th>\n",
       "      <th>day_label</th>\n",
       "    </tr>\n",
       "  </thead>\n",
       "  <tbody>\n",
       "    <tr>\n",
       "      <th>0</th>\n",
       "      <td>1</td>\n",
       "      <td>2016-09-11</td>\n",
       "      <td>2016-03-11</td>\n",
       "      <td>-0.008496</td>\n",
       "      <td>3</td>\n",
       "      <td>11</td>\n",
       "      <td>2016</td>\n",
       "      <td>03</td>\n",
       "      <td>11</td>\n",
       "      <td>16</td>\n",
       "      <td>0</td>\n",
       "    </tr>\n",
       "    <tr>\n",
       "      <th>1</th>\n",
       "      <td>3</td>\n",
       "      <td>2016-09-23</td>\n",
       "      <td>2016-09-23</td>\n",
       "      <td>-0.018932</td>\n",
       "      <td>9</td>\n",
       "      <td>23</td>\n",
       "      <td>2016</td>\n",
       "      <td>09</td>\n",
       "      <td>23</td>\n",
       "      <td>16</td>\n",
       "      <td>1</td>\n",
       "    </tr>\n",
       "    <tr>\n",
       "      <th>2</th>\n",
       "      <td>4</td>\n",
       "      <td>2016-10-02</td>\n",
       "      <td>2017-10-18</td>\n",
       "      <td>-0.978772</td>\n",
       "      <td>10</td>\n",
       "      <td>18</td>\n",
       "      <td>2017</td>\n",
       "      <td>10</td>\n",
       "      <td>18</td>\n",
       "      <td>17</td>\n",
       "      <td>0</td>\n",
       "    </tr>\n",
       "    <tr>\n",
       "      <th>3</th>\n",
       "      <td>4</td>\n",
       "      <td>2016-09-26</td>\n",
       "      <td>2017-09-26</td>\n",
       "      <td>-0.123047</td>\n",
       "      <td>9</td>\n",
       "      <td>26</td>\n",
       "      <td>2017</td>\n",
       "      <td>09</td>\n",
       "      <td>26</td>\n",
       "      <td>17</td>\n",
       "      <td>0</td>\n",
       "    </tr>\n",
       "    <tr>\n",
       "      <th>4</th>\n",
       "      <td>6</td>\n",
       "      <td>2016-09-19</td>\n",
       "      <td>2016-08-19</td>\n",
       "      <td>-0.003986</td>\n",
       "      <td>8</td>\n",
       "      <td>19</td>\n",
       "      <td>2016</td>\n",
       "      <td>08</td>\n",
       "      <td>19</td>\n",
       "      <td>16</td>\n",
       "      <td>0</td>\n",
       "    </tr>\n",
       "  </tbody>\n",
       "</table>\n",
       "</div>"
      ],
      "text/plain": [
       "   Image_Id    gt_date  pred_date  conf_date  pred_mon  pred_day  pred_year  \\\n",
       "0         1 2016-09-11 2016-03-11  -0.008496         3        11       2016   \n",
       "1         3 2016-09-23 2016-09-23  -0.018932         9        23       2016   \n",
       "2         4 2016-10-02 2017-10-18  -0.978772        10        18       2017   \n",
       "3         4 2016-09-26 2017-09-26  -0.123047         9        26       2017   \n",
       "4         6 2016-09-19 2016-08-19  -0.003986         8        19       2016   \n",
       "\n",
       "  pred_mon_date pred_day_date pred_year_date  day_label  \n",
       "0            03            11             16          0  \n",
       "1            09            23             16          1  \n",
       "2            10            18             17          0  \n",
       "3            09            26             17          0  \n",
       "4            08            19             16          0  "
      ]
     },
     "execution_count": 113,
     "metadata": {},
     "output_type": "execute_result"
    }
   ],
   "source": [
    "date_df.head()"
   ]
  },
  {
   "cell_type": "code",
   "execution_count": 114,
   "metadata": {
    "collapsed": false
   },
   "outputs": [],
   "source": [
    "for pos in range(0,2):\n",
    "#     date_df[str(pos+1)+\"_digit_day\"] = date_df[\"gt_day_date\"].apply(lambda x: x[pos])\n",
    "    date_df[str(pos+1)+\"_digit_day_pred\"] = date_df[\"pred_day_date\"].apply(lambda x: x[pos])\n",
    "    \n",
    "#     date_df[str(pos+1)+\"_digit_mon\"] = date_df[\"gt_mon_date\"].apply(lambda x: x[pos])\n",
    "    date_df[str(pos+1)+\"_digit_mon_pred\"] = date_df[\"pred_mon_date\"].apply(lambda x: x[pos])\n",
    "    \n",
    "#     date_df[str(pos+1)+\"_digit_yr\"] = date_df[\"gt_year_date\"].apply(lambda x: x[pos])\n",
    "    date_df[str(pos+1)+\"_digit_yr_pred\"] = date_df[\"pred_year_date\"].apply(lambda x: x[pos])\n",
    "    \n",
    "    \n",
    "#     date_df_test[str(pos+1)+\"_digit_day\"] = date_df_test[\"gt_day_date\"].apply(lambda x: x[pos])\n",
    "    date_df_test[str(pos+1)+\"_digit_day_pred\"] = date_df_test[\"pred_day_date\"].apply(lambda x: x[pos])\n",
    "    \n",
    "#     date_df_test[str(pos+1)+\"_digit_mon\"] = date_df_test[\"gt_mon_date\"].apply(lambda x: x[pos])\n",
    "    date_df_test[str(pos+1)+\"_digit_mon_pred\"] = date_df_test[\"pred_mon_date\"].apply(lambda x: x[pos])\n",
    "    \n",
    "#     date_df_test[str(pos+1)+\"_digit_yr\"] = date_df_test[\"gt_year_date\"].apply(lambda x: x[pos])\n",
    "    date_df_test[str(pos+1)+\"_digit_yr_pred\"] = date_df_test[\"pred_year_date\"].apply(lambda x: x[pos])"
   ]
  },
  {
   "cell_type": "code",
   "execution_count": 115,
   "metadata": {
    "collapsed": true
   },
   "outputs": [],
   "source": [
    "date_df[\"conf_date\"] = date_df[\"conf_date\"]*-1\n",
    "date_df_test[\"conf_date\"] = date_df_test[\"conf_date\"]*-1\n",
    "\n",
    "date_df[\"conf_date\"] = np.sqrt(date_df[\"conf_date\"])\n",
    "date_df_test[\"conf_date\"] = np.sqrt(date_df_test[\"conf_date\"])"
   ]
  },
  {
   "cell_type": "code",
   "execution_count": 116,
   "metadata": {
    "collapsed": true
   },
   "outputs": [],
   "source": [
    "date_df[\"conf_date\"]=(date_df[\"conf_date\"]-date_df[\"conf_date\"].mean())/date_df[\"conf_date\"].std()\n",
    "date_df_test[\"conf_date\"]=(date_df_test[\"conf_date\"]-date_df_test[\"conf_date\"].mean())/date_df_test[\"conf_date\"].std()"
   ]
  },
  {
   "cell_type": "code",
   "execution_count": 117,
   "metadata": {
    "collapsed": false
   },
   "outputs": [
    {
     "data": {
      "text/plain": [
       "Index(['Image_Id', 'gt_date', 'pred_date', 'conf_date', 'pred_mon', 'pred_day',\n",
       "       'pred_year', 'pred_mon_date', 'pred_day_date', 'pred_year_date',\n",
       "       'day_label', '1_digit_day_pred', '1_digit_mon_pred', '1_digit_yr_pred',\n",
       "       '2_digit_day_pred', '2_digit_mon_pred', '2_digit_yr_pred'],\n",
       "      dtype='object')"
      ]
     },
     "execution_count": 117,
     "metadata": {},
     "output_type": "execute_result"
    }
   ],
   "source": [
    "date_df.columns"
   ]
  },
  {
   "cell_type": "code",
   "execution_count": 118,
   "metadata": {
    "collapsed": true
   },
   "outputs": [],
   "source": [
    "date_q1 = date_df['conf_date'].quantile(.25)\n",
    "date_q3 = date_df['conf_date'].quantile(.75)\n",
    "date_iqr = date_q3 - date_q1\n",
    "date_mask = date_df['conf_date'].between(date_q1 - 1.5*date_iqr, date_q3 + 1.5*date_iqr, inclusive=True)\n",
    "\n",
    "date_df = date_df.loc[date_mask]"
   ]
  },
  {
   "cell_type": "code",
   "execution_count": 119,
   "metadata": {
    "collapsed": true
   },
   "outputs": [],
   "source": [
    "for col in date_df.columns:\n",
    "    date_df[col] = pd.to_numeric(date_df[col])\n",
    "    date_df_test[col] = pd.to_numeric(date_df_test[col])"
   ]
  },
  {
   "cell_type": "code",
   "execution_count": 120,
   "metadata": {
    "collapsed": false
   },
   "outputs": [],
   "source": [
    "X_date = date_df.drop([\"Image_Id\", \"gt_date\", \"pred_date\", \"pred_mon\", \"pred_day\",\\\n",
    "                      \"pred_year\", \"pred_mon_date\", \"pred_day_date\", \"pred_year_date\", \"day_label\"], axis=1)\n",
    "\n",
    "X_date_test = date_df_test.drop([\"Image_Id\", \"gt_date\", \"pred_date\", \"pred_mon\", \"pred_day\",\\\n",
    "                      \"pred_year\", \"pred_mon_date\", \"pred_day_date\", \"pred_year_date\", \"day_label\"], axis=1)"
   ]
  },
  {
   "cell_type": "code",
   "execution_count": 121,
   "metadata": {
    "collapsed": true
   },
   "outputs": [],
   "source": [
    "y_date = date_df[\"day_label\"]\n",
    "y_date_test = date_df_test[\"day_label\"]"
   ]
  },
  {
   "cell_type": "code",
   "execution_count": 122,
   "metadata": {
    "collapsed": false
   },
   "outputs": [
    {
     "data": {
      "text/html": [
       "<div>\n",
       "<table border=\"1\" class=\"dataframe\">\n",
       "  <thead>\n",
       "    <tr style=\"text-align: right;\">\n",
       "      <th></th>\n",
       "      <th>conf_date</th>\n",
       "      <th>1_digit_day_pred</th>\n",
       "      <th>1_digit_mon_pred</th>\n",
       "      <th>1_digit_yr_pred</th>\n",
       "      <th>2_digit_day_pred</th>\n",
       "      <th>2_digit_mon_pred</th>\n",
       "      <th>2_digit_yr_pred</th>\n",
       "    </tr>\n",
       "  </thead>\n",
       "  <tbody>\n",
       "    <tr>\n",
       "      <th>0</th>\n",
       "      <td>-0.663594</td>\n",
       "      <td>1</td>\n",
       "      <td>0</td>\n",
       "      <td>1</td>\n",
       "      <td>1</td>\n",
       "      <td>3</td>\n",
       "      <td>6</td>\n",
       "    </tr>\n",
       "    <tr>\n",
       "      <th>1</th>\n",
       "      <td>-0.587091</td>\n",
       "      <td>2</td>\n",
       "      <td>0</td>\n",
       "      <td>1</td>\n",
       "      <td>3</td>\n",
       "      <td>9</td>\n",
       "      <td>6</td>\n",
       "    </tr>\n",
       "    <tr>\n",
       "      <th>2</th>\n",
       "      <td>0.847551</td>\n",
       "      <td>1</td>\n",
       "      <td>1</td>\n",
       "      <td>1</td>\n",
       "      <td>8</td>\n",
       "      <td>0</td>\n",
       "      <td>7</td>\n",
       "    </tr>\n",
       "    <tr>\n",
       "      <th>3</th>\n",
       "      <td>-0.228005</td>\n",
       "      <td>2</td>\n",
       "      <td>0</td>\n",
       "      <td>1</td>\n",
       "      <td>6</td>\n",
       "      <td>9</td>\n",
       "      <td>7</td>\n",
       "    </tr>\n",
       "    <tr>\n",
       "      <th>4</th>\n",
       "      <td>-0.712504</td>\n",
       "      <td>1</td>\n",
       "      <td>0</td>\n",
       "      <td>1</td>\n",
       "      <td>9</td>\n",
       "      <td>8</td>\n",
       "      <td>6</td>\n",
       "    </tr>\n",
       "  </tbody>\n",
       "</table>\n",
       "</div>"
      ],
      "text/plain": [
       "   conf_date  1_digit_day_pred  1_digit_mon_pred  1_digit_yr_pred  \\\n",
       "0  -0.663594                 1                 0                1   \n",
       "1  -0.587091                 2                 0                1   \n",
       "2   0.847551                 1                 1                1   \n",
       "3  -0.228005                 2                 0                1   \n",
       "4  -0.712504                 1                 0                1   \n",
       "\n",
       "   2_digit_day_pred  2_digit_mon_pred  2_digit_yr_pred  \n",
       "0                 1                 3                6  \n",
       "1                 3                 9                6  \n",
       "2                 8                 0                7  \n",
       "3                 6                 9                7  \n",
       "4                 9                 8                6  "
      ]
     },
     "execution_count": 122,
     "metadata": {},
     "output_type": "execute_result"
    }
   ],
   "source": [
    "X_date.head()"
   ]
  },
  {
   "cell_type": "code",
   "execution_count": 123,
   "metadata": {
    "collapsed": true
   },
   "outputs": [],
   "source": [
    "rf_date = RandomForestClassifier()"
   ]
  },
  {
   "cell_type": "code",
   "execution_count": 124,
   "metadata": {
    "collapsed": false
   },
   "outputs": [
    {
     "data": {
      "text/plain": [
       "RandomForestClassifier(bootstrap=True, class_weight=None, criterion='gini',\n",
       "            max_depth=None, max_features='auto', max_leaf_nodes=None,\n",
       "            min_impurity_split=1e-07, min_samples_leaf=1,\n",
       "            min_samples_split=2, min_weight_fraction_leaf=0.0,\n",
       "            n_estimators=10, n_jobs=1, oob_score=False, random_state=None,\n",
       "            verbose=0, warm_start=False)"
      ]
     },
     "execution_count": 124,
     "metadata": {},
     "output_type": "execute_result"
    }
   ],
   "source": [
    "rf_date.fit(X_date, y_date)"
   ]
  },
  {
   "cell_type": "code",
   "execution_count": 125,
   "metadata": {
    "collapsed": false
   },
   "outputs": [
    {
     "data": {
      "text/html": [
       "<div>\n",
       "<table border=\"1\" class=\"dataframe\">\n",
       "  <thead>\n",
       "    <tr style=\"text-align: right;\">\n",
       "      <th></th>\n",
       "      <th>conf_date</th>\n",
       "      <th>1_digit_day_pred</th>\n",
       "      <th>1_digit_mon_pred</th>\n",
       "      <th>1_digit_yr_pred</th>\n",
       "      <th>2_digit_day_pred</th>\n",
       "      <th>2_digit_mon_pred</th>\n",
       "      <th>2_digit_yr_pred</th>\n",
       "    </tr>\n",
       "  </thead>\n",
       "  <tbody>\n",
       "    <tr>\n",
       "      <th>0</th>\n",
       "      <td>-0.663594</td>\n",
       "      <td>1</td>\n",
       "      <td>0</td>\n",
       "      <td>1</td>\n",
       "      <td>1</td>\n",
       "      <td>3</td>\n",
       "      <td>6</td>\n",
       "    </tr>\n",
       "    <tr>\n",
       "      <th>1</th>\n",
       "      <td>-0.587091</td>\n",
       "      <td>2</td>\n",
       "      <td>0</td>\n",
       "      <td>1</td>\n",
       "      <td>3</td>\n",
       "      <td>9</td>\n",
       "      <td>6</td>\n",
       "    </tr>\n",
       "    <tr>\n",
       "      <th>2</th>\n",
       "      <td>0.847551</td>\n",
       "      <td>1</td>\n",
       "      <td>1</td>\n",
       "      <td>1</td>\n",
       "      <td>8</td>\n",
       "      <td>0</td>\n",
       "      <td>7</td>\n",
       "    </tr>\n",
       "    <tr>\n",
       "      <th>3</th>\n",
       "      <td>-0.228005</td>\n",
       "      <td>2</td>\n",
       "      <td>0</td>\n",
       "      <td>1</td>\n",
       "      <td>6</td>\n",
       "      <td>9</td>\n",
       "      <td>7</td>\n",
       "    </tr>\n",
       "    <tr>\n",
       "      <th>4</th>\n",
       "      <td>-0.712504</td>\n",
       "      <td>1</td>\n",
       "      <td>0</td>\n",
       "      <td>1</td>\n",
       "      <td>9</td>\n",
       "      <td>8</td>\n",
       "      <td>6</td>\n",
       "    </tr>\n",
       "  </tbody>\n",
       "</table>\n",
       "</div>"
      ],
      "text/plain": [
       "   conf_date  1_digit_day_pred  1_digit_mon_pred  1_digit_yr_pred  \\\n",
       "0  -0.663594                 1                 0                1   \n",
       "1  -0.587091                 2                 0                1   \n",
       "2   0.847551                 1                 1                1   \n",
       "3  -0.228005                 2                 0                1   \n",
       "4  -0.712504                 1                 0                1   \n",
       "\n",
       "   2_digit_day_pred  2_digit_mon_pred  2_digit_yr_pred  \n",
       "0                 1                 3                6  \n",
       "1                 3                 9                6  \n",
       "2                 8                 0                7  \n",
       "3                 6                 9                7  \n",
       "4                 9                 8                6  "
      ]
     },
     "execution_count": 125,
     "metadata": {},
     "output_type": "execute_result"
    }
   ],
   "source": [
    "X_date.head()"
   ]
  },
  {
   "cell_type": "code",
   "execution_count": 126,
   "metadata": {
    "collapsed": false
   },
   "outputs": [
    {
     "data": {
      "text/html": [
       "<div>\n",
       "<table border=\"1\" class=\"dataframe\">\n",
       "  <thead>\n",
       "    <tr style=\"text-align: right;\">\n",
       "      <th></th>\n",
       "      <th>conf_date</th>\n",
       "      <th>1_digit_day_pred</th>\n",
       "      <th>1_digit_mon_pred</th>\n",
       "      <th>1_digit_yr_pred</th>\n",
       "      <th>2_digit_day_pred</th>\n",
       "      <th>2_digit_mon_pred</th>\n",
       "      <th>2_digit_yr_pred</th>\n",
       "    </tr>\n",
       "  </thead>\n",
       "  <tbody>\n",
       "    <tr>\n",
       "      <th>0</th>\n",
       "      <td>-0.628335</td>\n",
       "      <td>2</td>\n",
       "      <td>0</td>\n",
       "      <td>1</td>\n",
       "      <td>8</td>\n",
       "      <td>8</td>\n",
       "      <td>7</td>\n",
       "    </tr>\n",
       "    <tr>\n",
       "      <th>1</th>\n",
       "      <td>-0.670770</td>\n",
       "      <td>2</td>\n",
       "      <td>0</td>\n",
       "      <td>1</td>\n",
       "      <td>5</td>\n",
       "      <td>9</td>\n",
       "      <td>6</td>\n",
       "    </tr>\n",
       "    <tr>\n",
       "      <th>2</th>\n",
       "      <td>-0.395448</td>\n",
       "      <td>1</td>\n",
       "      <td>0</td>\n",
       "      <td>1</td>\n",
       "      <td>3</td>\n",
       "      <td>8</td>\n",
       "      <td>7</td>\n",
       "    </tr>\n",
       "    <tr>\n",
       "      <th>3</th>\n",
       "      <td>-0.357520</td>\n",
       "      <td>1</td>\n",
       "      <td>0</td>\n",
       "      <td>1</td>\n",
       "      <td>3</td>\n",
       "      <td>8</td>\n",
       "      <td>6</td>\n",
       "    </tr>\n",
       "    <tr>\n",
       "      <th>4</th>\n",
       "      <td>-0.685836</td>\n",
       "      <td>2</td>\n",
       "      <td>0</td>\n",
       "      <td>1</td>\n",
       "      <td>8</td>\n",
       "      <td>9</td>\n",
       "      <td>6</td>\n",
       "    </tr>\n",
       "  </tbody>\n",
       "</table>\n",
       "</div>"
      ],
      "text/plain": [
       "   conf_date  1_digit_day_pred  1_digit_mon_pred  1_digit_yr_pred  \\\n",
       "0  -0.628335                 2                 0                1   \n",
       "1  -0.670770                 2                 0                1   \n",
       "2  -0.395448                 1                 0                1   \n",
       "3  -0.357520                 1                 0                1   \n",
       "4  -0.685836                 2                 0                1   \n",
       "\n",
       "   2_digit_day_pred  2_digit_mon_pred  2_digit_yr_pred  \n",
       "0                 8                 8                7  \n",
       "1                 5                 9                6  \n",
       "2                 3                 8                7  \n",
       "3                 3                 8                6  \n",
       "4                 8                 9                6  "
      ]
     },
     "execution_count": 126,
     "metadata": {},
     "output_type": "execute_result"
    }
   ],
   "source": [
    "X_date_test.head()"
   ]
  },
  {
   "cell_type": "code",
   "execution_count": 127,
   "metadata": {
    "collapsed": false
   },
   "outputs": [
    {
     "name": "stdout",
     "output_type": "stream",
     "text": [
      "Below are the results for : Predicting Date model\n",
      "Accuracy score of model is: 0.966\n",
      "F1 score of model is: 0.918660287081\n",
      "Precision score of model is: 0.897196261682\n",
      "Recall score of model is: 0.941176470588\n"
     ]
    }
   ],
   "source": [
    "get_scores(rf_date, y_date_test, X_date_test, \"Predicting Date\")"
   ]
  },
  {
   "cell_type": "code",
   "execution_count": 128,
   "metadata": {
    "collapsed": false
   },
   "outputs": [
    {
     "data": {
      "text/plain": [
       "array([ 0.15727425,  0.11525263,  0.01405764,  0.        ,  0.10385564,\n",
       "        0.3441427 ,  0.26541713])"
      ]
     },
     "execution_count": 128,
     "metadata": {},
     "output_type": "execute_result"
    }
   ],
   "source": [
    "rf_date.feature_importances_"
   ]
  },
  {
   "cell_type": "code",
   "execution_count": 129,
   "metadata": {
    "collapsed": false
   },
   "outputs": [
    {
     "name": "stdout",
     "output_type": "stream",
     "text": [
      "4245\n",
      "4\n",
      "2\n",
      "1\n",
      "10\n",
      "9\n",
      "2\n"
     ]
    }
   ],
   "source": [
    "for col in X_date:\n",
    "    print(len(X_date[col].unique()))"
   ]
  },
  {
   "cell_type": "code",
   "execution_count": 130,
   "metadata": {
    "collapsed": true
   },
   "outputs": [],
   "source": [
    "# xg_date = XGBClassifier()\n",
    "# xg_date_gs = GridSearchCV(xg_date, param_grid, scoring=\"f1\", n_jobs=-1, cv=kfold)\n",
    "# xg_date_gs_result = xg_date_gs.fit(X_date, y_date)"
   ]
  },
  {
   "cell_type": "code",
   "execution_count": 131,
   "metadata": {
    "collapsed": false
   },
   "outputs": [],
   "source": [
    "# get_scores(xg_date_gs.best_estimator_, y_date_test, X_date_test)"
   ]
  },
  {
   "cell_type": "markdown",
   "metadata": {},
   "source": [
    "# Predicting All At Once"
   ]
  },
  {
   "cell_type": "code",
   "execution_count": 132,
   "metadata": {
    "collapsed": true
   },
   "outputs": [],
   "source": [
    "all_df = pd.merge(total_df, time_df, left_on='Image_Id', right_on='Image_Id')\n",
    "all_df = pd.merge(all_df, date_df, left_on='Image_Id', right_on='Image_Id')\n",
    "\n",
    "all_test_df = pd.merge(test_total, time_test_df, left_on='Image_Id', right_on='Image_Id')\n",
    "all_test_df = pd.merge(all_test_df, date_df_test, left_on='Image_Id', right_on='Image_Id')"
   ]
  },
  {
   "cell_type": "code",
   "execution_count": 133,
   "metadata": {
    "collapsed": false
   },
   "outputs": [
    {
     "data": {
      "text/plain": [
       "Index(['Image_Id', 'gt_total', 'pred_total', 'conf_total', 'total_label',\n",
       "       '1_digit_pred', '2_digit_pred', '3_digit_pred', '4_digit_pred',\n",
       "       '5_digit_pred', 'gt_time', 'pred_time', 'conf_time', 'time_label',\n",
       "       'pred_hr_time', 'pred_min_time', '1_digit_hr_pred', '1_digit_min_pred',\n",
       "       '2_digit_hr_pred', '2_digit_min_pred', 'gt_date', 'pred_date',\n",
       "       'conf_date', 'pred_mon', 'pred_day', 'pred_year', 'pred_mon_date',\n",
       "       'pred_day_date', 'pred_year_date', 'day_label', '1_digit_day_pred',\n",
       "       '1_digit_mon_pred', '1_digit_yr_pred', '2_digit_day_pred',\n",
       "       '2_digit_mon_pred', '2_digit_yr_pred'],\n",
       "      dtype='object')"
      ]
     },
     "execution_count": 133,
     "metadata": {},
     "output_type": "execute_result"
    }
   ],
   "source": [
    "all_df.columns"
   ]
  },
  {
   "cell_type": "code",
   "execution_count": 134,
   "metadata": {
    "collapsed": false
   },
   "outputs": [],
   "source": [
    "all_df = all_df[['Image_Id', '1_digit_pred', '2_digit_pred', '3_digit_pred', '4_digit_pred',\n",
    "                 '5_digit_pred', 'conf_total', '1_digit_hr_pred',\n",
    "       '1_digit_min_pred', '2_digit_hr_pred',\n",
    "       '2_digit_min_pred', 'conf_time',  '1_digit_day_pred',\n",
    "        '1_digit_mon_pred',  '1_digit_yr_pred',\n",
    "        '2_digit_day_pred',  '2_digit_mon_pred', '2_digit_yr_pred', \"conf_date\", \"total_label\", \"time_label\", \"day_label\"]]\n",
    "\n",
    "\n",
    "\n",
    "all_test_df = all_test_df[['Image_Id', '1_digit_pred', '2_digit_pred', '3_digit_pred', '4_digit_pred',\n",
    "                 '5_digit_pred', 'conf_total', '1_digit_hr_pred',\n",
    "       '1_digit_min_pred', '2_digit_hr_pred',\n",
    "       '2_digit_min_pred', 'conf_time',  '1_digit_day_pred',\n",
    "        '1_digit_mon_pred',  '1_digit_yr_pred',\n",
    "        '2_digit_day_pred',  '2_digit_mon_pred', '2_digit_yr_pred', \"conf_date\", \"total_label\", \"time_label\", \"day_label\"]]"
   ]
  },
  {
   "cell_type": "code",
   "execution_count": 135,
   "metadata": {
    "collapsed": true
   },
   "outputs": [],
   "source": [
    "all_df[\"prod_conf\"] = all_df[\"conf_total\"] * all_df[\"conf_date\"] * all_df[\"conf_time\"]\n",
    "all_test_df[\"prod_conf\"] = all_test_df[\"conf_total\"] * all_test_df[\"conf_date\"] * all_test_df[\"conf_time\"]"
   ]
  },
  {
   "cell_type": "code",
   "execution_count": 136,
   "metadata": {
    "collapsed": true
   },
   "outputs": [],
   "source": [
    "all_df[\"sum_conf\"] = all_df[\"conf_total\"] + all_df[\"conf_date\"] + all_df[\"conf_time\"]\n",
    "all_test_df[\"sum_conf\"] = all_test_df[\"conf_total\"] + all_test_df[\"conf_date\"] + all_test_df[\"conf_time\"]"
   ]
  },
  {
   "cell_type": "code",
   "execution_count": 137,
   "metadata": {
    "collapsed": false
   },
   "outputs": [],
   "source": [
    "all_df[\"all_label\"] = all_df.apply(lambda x: 1 if ((x[\"total_label\"] == x[\"time_label\"]) and (x[\"time_label\"] == x[\"day_label\"])) else 0, axis=1)"
   ]
  },
  {
   "cell_type": "code",
   "execution_count": 138,
   "metadata": {
    "collapsed": true
   },
   "outputs": [],
   "source": [
    "all_test_df[\"all_label\"] = all_test_df.apply(lambda x: 1 if ((x[\"total_label\"] == x[\"time_label\"]) and (x[\"time_label\"] == x[\"day_label\"])) else 0, axis=1)"
   ]
  },
  {
   "cell_type": "code",
   "execution_count": 139,
   "metadata": {
    "collapsed": false
   },
   "outputs": [
    {
     "data": {
      "text/plain": [
       "Index(['Image_Id', '1_digit_pred', '2_digit_pred', '3_digit_pred',\n",
       "       '4_digit_pred', '5_digit_pred', 'conf_total', '1_digit_hr_pred',\n",
       "       '1_digit_min_pred', '2_digit_hr_pred', '2_digit_min_pred', 'conf_time',\n",
       "       '1_digit_day_pred', '1_digit_mon_pred', '1_digit_yr_pred',\n",
       "       '2_digit_day_pred', '2_digit_mon_pred', '2_digit_yr_pred', 'conf_date',\n",
       "       'total_label', 'time_label', 'day_label', 'prod_conf', 'sum_conf',\n",
       "       'all_label'],\n",
       "      dtype='object')"
      ]
     },
     "execution_count": 139,
     "metadata": {},
     "output_type": "execute_result"
    }
   ],
   "source": [
    "all_df.columns"
   ]
  },
  {
   "cell_type": "code",
   "execution_count": 140,
   "metadata": {
    "collapsed": false
   },
   "outputs": [
    {
     "data": {
      "text/plain": [
       "25"
      ]
     },
     "execution_count": 140,
     "metadata": {},
     "output_type": "execute_result"
    }
   ],
   "source": [
    "len(all_df.columns)"
   ]
  },
  {
   "cell_type": "code",
   "execution_count": 141,
   "metadata": {
    "collapsed": false
   },
   "outputs": [
    {
     "data": {
      "text/plain": [
       "25"
      ]
     },
     "execution_count": 141,
     "metadata": {},
     "output_type": "execute_result"
    }
   ],
   "source": [
    "len(all_test_df.columns)"
   ]
  },
  {
   "cell_type": "code",
   "execution_count": 142,
   "metadata": {
    "collapsed": false
   },
   "outputs": [],
   "source": [
    "all_df = all_df.drop([\"total_label\", \"time_label\", \"day_label\"], axis=1)\n",
    "all_test_df = all_test_df.drop([\"total_label\", \"time_label\", \"day_label\"], axis=1)"
   ]
  },
  {
   "cell_type": "code",
   "execution_count": 143,
   "metadata": {
    "collapsed": true
   },
   "outputs": [],
   "source": [
    "X_all = all_df.drop([\"all_label\"], axis=1)\n",
    "X_all_test = all_test_df.drop([\"all_label\"], axis=1)\n",
    "\n",
    "y_all = all_df[\"all_label\"]\n",
    "y_test_all = all_test_df[\"all_label\"]"
   ]
  },
  {
   "cell_type": "code",
   "execution_count": 144,
   "metadata": {
    "collapsed": true
   },
   "outputs": [],
   "source": [
    "# rf_all = RandomForestClassifier()"
   ]
  },
  {
   "cell_type": "code",
   "execution_count": 145,
   "metadata": {
    "collapsed": true
   },
   "outputs": [],
   "source": [
    "rf_all = XGBClassifier()"
   ]
  },
  {
   "cell_type": "code",
   "execution_count": 146,
   "metadata": {
    "collapsed": false
   },
   "outputs": [
    {
     "data": {
      "text/plain": [
       "XGBClassifier(base_score=0.5, colsample_bylevel=1, colsample_bytree=1,\n",
       "       gamma=0, learning_rate=0.1, max_delta_step=0, max_depth=3,\n",
       "       min_child_weight=1, missing=None, n_estimators=100, nthread=-1,\n",
       "       objective='binary:logistic', reg_alpha=0, reg_lambda=1,\n",
       "       scale_pos_weight=1, seed=0, silent=True, subsample=1)"
      ]
     },
     "execution_count": 146,
     "metadata": {},
     "output_type": "execute_result"
    }
   ],
   "source": [
    "rf_all.fit(X_all, y_all)"
   ]
  },
  {
   "cell_type": "code",
   "execution_count": 147,
   "metadata": {
    "collapsed": false
   },
   "outputs": [
    {
     "name": "stdout",
     "output_type": "stream",
     "text": [
      "Below are the results for : Predicting All model\n",
      "Accuracy score of model is: 0.888709024686\n",
      "F1 score of model is: 0.68134414832\n",
      "Precision score of model is: 0.654788418708\n",
      "Recall score of model is: 0.710144927536\n"
     ]
    }
   ],
   "source": [
    "get_scores(rf_all, y_test_all, X_all_test, \"Predicting All\")"
   ]
  },
  {
   "cell_type": "code",
   "execution_count": 148,
   "metadata": {
    "collapsed": false
   },
   "outputs": [
    {
     "data": {
      "text/plain": [
       "array([ 0.10708899,  0.01508296,  0.00301659,  0.03016591,  0.00301659,\n",
       "        0.00452489,  0.08748115,  0.01206637,  0.01508296,  0.02262443,\n",
       "        0.02714932,  0.05731523,  0.09653092,  0.00301659,  0.        ,\n",
       "        0.11161388,  0.12217195,  0.09653092,  0.10105581,  0.03016591,\n",
       "        0.05429864], dtype=float32)"
      ]
     },
     "execution_count": 148,
     "metadata": {},
     "output_type": "execute_result"
    }
   ],
   "source": [
    "rf_all.feature_importances_"
   ]
  },
  {
   "cell_type": "code",
   "execution_count": 149,
   "metadata": {
    "collapsed": true
   },
   "outputs": [],
   "source": [
    "# xg_all = XGBClassifier()\n",
    "# xg_all_gs = GridSearchCV(xg_all, param_grid, scoring=\"f1\", n_jobs=-1, cv=kfold)\n",
    "# xg_all_gs_result = xg_all_gs.fit(X_all, y_all)"
   ]
  },
  {
   "cell_type": "code",
   "execution_count": 150,
   "metadata": {
    "collapsed": true
   },
   "outputs": [],
   "source": [
    "# get_scores(xg_all_gs.best_estimator_, y_all_test, X_all_test)"
   ]
  },
  {
   "cell_type": "markdown",
   "metadata": {},
   "source": [
    "# Results"
   ]
  },
  {
   "cell_type": "code",
   "execution_count": 156,
   "metadata": {
    "collapsed": true
   },
   "outputs": [],
   "source": [
    "## These results are from default model, they could be improved using better hyperparameter tuning, but due to\n",
    "## lack of time I could not do so.\n",
    "## Another approach could be converting the dates and time values in one-hot encoding fashion instead of just\n",
    "## Label encoding and then doing PCA to reduce dimensions."
   ]
  },
  {
   "cell_type": "code",
   "execution_count": 152,
   "metadata": {
    "collapsed": false
   },
   "outputs": [
    {
     "name": "stdout",
     "output_type": "stream",
     "text": [
      "Below are the results for : Predicting Total model\n",
      "Accuracy score of model is: 0.904\n",
      "F1 score of model is: 0.949367088608\n",
      "Precision score of model is: 0.905432595573\n",
      "Recall score of model is: 0.9977827051\n"
     ]
    }
   ],
   "source": [
    "get_scores(rf, y_total_test, X_total_test, \"Predicting Total\")"
   ]
  },
  {
   "cell_type": "code",
   "execution_count": 153,
   "metadata": {
    "collapsed": false
   },
   "outputs": [
    {
     "name": "stdout",
     "output_type": "stream",
     "text": [
      "Below are the results for : Predicting Date model\n",
      "Accuracy score of model is: 0.966\n",
      "F1 score of model is: 0.918660287081\n",
      "Precision score of model is: 0.897196261682\n",
      "Recall score of model is: 0.941176470588\n"
     ]
    }
   ],
   "source": [
    "get_scores(rf_date, y_date_test, X_date_test, \"Predicting Date\")"
   ]
  },
  {
   "cell_type": "code",
   "execution_count": 154,
   "metadata": {
    "collapsed": false
   },
   "outputs": [
    {
     "name": "stdout",
     "output_type": "stream",
     "text": [
      "Below are the results for : Predicting Time model\n",
      "Accuracy score of model is: 0.845833333333\n",
      "F1 score of model is: 0.914746543779\n",
      "Precision score of model is: 0.85376344086\n",
      "Recall score of model is: 0.985111662531\n"
     ]
    }
   ],
   "source": [
    "get_scores(rf_time, y_time_test, X_time_test, \"Predicting Time\")"
   ]
  },
  {
   "cell_type": "code",
   "execution_count": 155,
   "metadata": {
    "collapsed": false
   },
   "outputs": [
    {
     "name": "stdout",
     "output_type": "stream",
     "text": [
      "Below are the results for : Predicting All model\n",
      "Accuracy score of model is: 0.888709024686\n",
      "F1 score of model is: 0.68134414832\n",
      "Precision score of model is: 0.654788418708\n",
      "Recall score of model is: 0.710144927536\n"
     ]
    }
   ],
   "source": [
    "get_scores(rf_all, y_test_all, X_all_test, \"Predicting All\")"
   ]
  }
 ],
 "metadata": {
  "kernelspec": {
   "display_name": "Python [conda root]",
   "language": "python",
   "name": "conda-root-py"
  },
  "language_info": {
   "codemirror_mode": {
    "name": "ipython",
    "version": 3
   },
   "file_extension": ".py",
   "mimetype": "text/x-python",
   "name": "python",
   "nbconvert_exporter": "python",
   "pygments_lexer": "ipython3",
   "version": "3.5.3"
  }
 },
 "nbformat": 4,
 "nbformat_minor": 2
}
